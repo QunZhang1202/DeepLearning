{
 "cells": [
  {
   "cell_type": "markdown",
   "metadata": {},
   "source": [
    "Eileen Zhang 2020/08/08"
   ]
  },
  {
   "cell_type": "code",
   "execution_count": 1,
   "metadata": {},
   "outputs": [],
   "source": [
    "import numpy as np\n",
    "import os\n",
    "import time\n",
    "\n",
    "#os.environ[\"KERAS_BACKEND\"] = \"plaidml.keras.backend\""
   ]
  },
  {
   "cell_type": "markdown",
   "metadata": {},
   "source": [
    "# cifar10 查看"
   ]
  },
  {
   "cell_type": "code",
   "execution_count": 2,
   "metadata": {},
   "outputs": [],
   "source": [
    "from tensorflow import keras\n",
    "from keras.datasets import cifar10"
   ]
  },
  {
   "cell_type": "code",
   "execution_count": 3,
   "metadata": {},
   "outputs": [],
   "source": [
    "(x_train, y_train_cats), (x_test, y_test_cats) = cifar10.load_data()"
   ]
  },
  {
   "cell_type": "code",
   "execution_count": 4,
   "metadata": {},
   "outputs": [],
   "source": [
    "x_train = x_train/255.\n",
    "x_test = x_test/255."
   ]
  },
  {
   "cell_type": "code",
   "execution_count": 36,
   "metadata": {},
   "outputs": [],
   "source": [
    "import matplotlib.pyplot as plt\n",
    "%matplotlib inline"
   ]
  },
  {
   "cell_type": "markdown",
   "metadata": {},
   "source": [
    "0 airplane \t\t\t\t\t\t\t\t\t\t\n",
    "1 automobile \t\t\t\t\t\t\t\t\t\t\n",
    "2 bird \t\t\t\t\t\t\t\t\t\t\n",
    "3 cat \t\t\t\t\t\t\t\t\t\t\n",
    "4 deer \t\t\t\t\t\t\t\t\t\t\n",
    "5 dog \t\t\t\t\t\t\t\t\t\t\n",
    "6 frog \t\t\t\t\t\t\t\t\t\t\n",
    "7 horse \t\t\t\t\t\t\t\t\t\t\n",
    "8 ship \t\t\t\t\t\t\t\t\t\t\n",
    "9 truck"
   ]
  },
  {
   "cell_type": "code",
   "execution_count": 5,
   "metadata": {},
   "outputs": [],
   "source": [
    "def mlp(units, dropout = 0.2,output_layer=True):\n",
    "    layers = []\n",
    "    if(output_layer):\n",
    "        last = units[-1]\n",
    "        units = units[:-1]\n",
    "    for u in units:\n",
    "        layers.append(keras.layers.BatchNormalization())\n",
    "        layers.append(keras.layers.Dense(u, activation='relu'))\n",
    "        layers.append(keras.layers.Dropout(dropout))\n",
    "    if(output_layer):\n",
    "        layers.append(keras.layers.Dense(last, activation=keras.activations.softmax))\n",
    "    return layers"
   ]
  },
  {
   "cell_type": "code",
   "execution_count": 6,
   "metadata": {},
   "outputs": [],
   "source": [
    "import tensorflow as tf"
   ]
  },
  {
   "cell_type": "markdown",
   "metadata": {},
   "source": [
    "# cnn + relu(做对比使用 baseline)"
   ]
  },
  {
   "cell_type": "code",
   "execution_count": 97,
   "metadata": {},
   "outputs": [],
   "source": [
    "layers = []\n",
    "layers.append(keras.layers.Conv2D(32, 5, input_shape = [32, 32,3], padding=\"same\", activation='relu'))\n",
    "layers.append(keras.layers.Conv2D(128, 4, padding=\"same\",activation='relu'))\n",
    "layers.append(keras.layers.Conv2D(16, 2, padding=\"same\",activation='relu'))\n",
    "layers.append(keras.layers.MaxPool2D(2))\n",
    "layers.append(keras.layers.Flatten())\n",
    "layers += mlp([300,20,10])"
   ]
  },
  {
   "cell_type": "code",
   "execution_count": 98,
   "metadata": {},
   "outputs": [],
   "source": [
    "model2 = keras.models.Sequential(layers)\n",
    "model2.compile(optimizer= 'adam', loss= 'sparse_categorical_crossentropy',metrics=['accuracy'])"
   ]
  },
  {
   "cell_type": "code",
   "execution_count": 99,
   "metadata": {
    "scrolled": true
   },
   "outputs": [
    {
     "name": "stdout",
     "output_type": "stream",
     "text": [
      "Model: \"sequential_4\"\n",
      "_________________________________________________________________\n",
      "Layer (type)                 Output Shape              Param #   \n",
      "=================================================================\n",
      "conv2d_14 (Conv2D)           (None, 32, 32, 32)        2432      \n",
      "_________________________________________________________________\n",
      "conv2d_15 (Conv2D)           (None, 32, 32, 128)       65664     \n",
      "_________________________________________________________________\n",
      "conv2d_16 (Conv2D)           (None, 32, 32, 16)        8208      \n",
      "_________________________________________________________________\n",
      "max_pooling2d_10 (MaxPooling (None, 16, 16, 16)        0         \n",
      "_________________________________________________________________\n",
      "flatten_6 (Flatten)          (None, 4096)              0         \n",
      "_________________________________________________________________\n",
      "batch_normalization_10 (Batc (None, 4096)              16384     \n",
      "_________________________________________________________________\n",
      "dense_15 (Dense)             (None, 300)               1229100   \n",
      "_________________________________________________________________\n",
      "dropout_10 (Dropout)         (None, 300)               0         \n",
      "_________________________________________________________________\n",
      "batch_normalization_11 (Batc (None, 300)               1200      \n",
      "_________________________________________________________________\n",
      "dense_16 (Dense)             (None, 20)                6020      \n",
      "_________________________________________________________________\n",
      "dropout_11 (Dropout)         (None, 20)                0         \n",
      "_________________________________________________________________\n",
      "dense_17 (Dense)             (None, 10)                210       \n",
      "=================================================================\n",
      "Total params: 1,329,218\n",
      "Trainable params: 1,320,426\n",
      "Non-trainable params: 8,792\n",
      "_________________________________________________________________\n"
     ]
    }
   ],
   "source": [
    "model2.summary()"
   ]
  },
  {
   "cell_type": "code",
   "execution_count": 100,
   "metadata": {
    "scrolled": true
   },
   "outputs": [
    {
     "name": "stdout",
     "output_type": "stream",
     "text": [
      "Epoch 1/10\n",
      "1563/1563 [==============================] - 537s 343ms/step - loss: 1.6922 - accuracy: 0.4012\n",
      "Epoch 2/10\n",
      "1563/1563 [==============================] - 563s 360ms/step - loss: 1.3232 - accuracy: 0.5315\n",
      "Epoch 3/10\n",
      "1563/1563 [==============================] - 741s 474ms/step - loss: 1.1549 - accuracy: 0.5937\n",
      "Epoch 4/10\n",
      "1563/1563 [==============================] - 514s 329ms/step - loss: 1.0452 - accuracy: 0.6365\n",
      "Epoch 5/10\n",
      "1563/1563 [==============================] - 538s 344ms/step - loss: 0.9797 - accuracy: 0.6582\n",
      "Epoch 6/10\n",
      "1563/1563 [==============================] - 493s 315ms/step - loss: 0.9131 - accuracy: 0.6811\n",
      "Epoch 7/10\n",
      "1563/1563 [==============================] - 485s 310ms/step - loss: 0.8625 - accuracy: 0.6990\n",
      "Epoch 8/10\n",
      "1563/1563 [==============================] - 486s 311ms/step - loss: 0.8243 - accuracy: 0.7140\n",
      "Epoch 9/10\n",
      "1563/1563 [==============================] - 477s 305ms/step - loss: 0.7771 - accuracy: 0.7275\n",
      "Epoch 10/10\n",
      "1563/1563 [==============================] - 474s 303ms/step - loss: 0.7561 - accuracy: 0.7375\n",
      "CPU times: user 3h 54min 47s, sys: 31min 1s, total: 4h 25min 49s\n",
      "Wall time: 1h 28min 54s\n"
     ]
    },
    {
     "data": {
      "text/plain": [
       "<tensorflow.python.keras.callbacks.History at 0x7fbaa83cdd50>"
      ]
     },
     "execution_count": 100,
     "metadata": {},
     "output_type": "execute_result"
    }
   ],
   "source": [
    "%%time\n",
    "model2.fit(x_train, y_train_cats, epochs= 10)"
   ]
  },
  {
   "cell_type": "markdown",
   "metadata": {},
   "source": [
    "# SeparableConv2D"
   ]
  },
  {
   "cell_type": "markdown",
   "metadata": {},
   "source": [
    "https://blog.csdn.net/shawroad88/article/details/95222082"
   ]
  },
  {
   "cell_type": "markdown",
   "metadata": {},
   "source": [
    "![SeparableConv2D](../data/SeparableConv2D.png)"
   ]
  },
  {
   "cell_type": "code",
   "execution_count": 10,
   "metadata": {},
   "outputs": [],
   "source": [
    "layers = []\n",
    "layers.append(keras.layers.SeparableConv2D(32, 5, input_shape = [32, 32,3], padding=\"same\", activation='relu'))\n",
    "layers.append(keras.layers.SeparableConv2D(128, 4, padding=\"same\",activation='relu'))\n",
    "layers.append(keras.layers.SeparableConv2D(16, 2, padding=\"same\",activation='relu'))\n",
    "layers.append(keras.layers.MaxPool2D(2))\n",
    "layers.append(keras.layers.Flatten())\n",
    "layers += mlp([300,20,10])"
   ]
  },
  {
   "cell_type": "code",
   "execution_count": 11,
   "metadata": {},
   "outputs": [],
   "source": [
    "model3 = keras.models.Sequential(layers)\n",
    "model3.compile(optimizer= 'adam', loss= 'sparse_categorical_crossentropy',metrics=['accuracy'])"
   ]
  },
  {
   "cell_type": "code",
   "execution_count": 12,
   "metadata": {},
   "outputs": [
    {
     "name": "stdout",
     "output_type": "stream",
     "text": [
      "Model: \"sequential_1\"\n",
      "_________________________________________________________________\n",
      "Layer (type)                 Output Shape              Param #   \n",
      "=================================================================\n",
      "separable_conv2d (SeparableC (None, 32, 32, 32)        203       \n",
      "_________________________________________________________________\n",
      "separable_conv2d_1 (Separabl (None, 32, 32, 128)       4736      \n",
      "_________________________________________________________________\n",
      "separable_conv2d_2 (Separabl (None, 32, 32, 16)        2576      \n",
      "_________________________________________________________________\n",
      "max_pooling2d_3 (MaxPooling2 (None, 16, 16, 16)        0         \n",
      "_________________________________________________________________\n",
      "flatten_1 (Flatten)          (None, 4096)              0         \n",
      "_________________________________________________________________\n",
      "batch_normalization_2 (Batch (None, 4096)              16384     \n",
      "_________________________________________________________________\n",
      "dense_3 (Dense)              (None, 300)               1229100   \n",
      "_________________________________________________________________\n",
      "dropout_2 (Dropout)          (None, 300)               0         \n",
      "_________________________________________________________________\n",
      "batch_normalization_3 (Batch (None, 300)               1200      \n",
      "_________________________________________________________________\n",
      "dense_4 (Dense)              (None, 20)                6020      \n",
      "_________________________________________________________________\n",
      "dropout_3 (Dropout)          (None, 20)                0         \n",
      "_________________________________________________________________\n",
      "dense_5 (Dense)              (None, 10)                210       \n",
      "=================================================================\n",
      "Total params: 1,260,429\n",
      "Trainable params: 1,251,637\n",
      "Non-trainable params: 8,792\n",
      "_________________________________________________________________\n"
     ]
    }
   ],
   "source": [
    "model3.summary()"
   ]
  },
  {
   "cell_type": "code",
   "execution_count": 13,
   "metadata": {},
   "outputs": [
    {
     "name": "stdout",
     "output_type": "stream",
     "text": [
      "Epoch 1/10\n",
      "1563/1563 [==============================] - 279s 179ms/step - loss: 1.6639 - accuracy: 0.3966\n",
      "Epoch 2/10\n",
      "1563/1563 [==============================] - 256s 164ms/step - loss: 1.3602 - accuracy: 0.5143\n",
      "Epoch 3/10\n",
      "1563/1563 [==============================] - 263s 168ms/step - loss: 1.2005 - accuracy: 0.5743\n",
      "Epoch 4/10\n",
      "1563/1563 [==============================] - 273s 175ms/step - loss: 1.0986 - accuracy: 0.6134\n",
      "Epoch 5/10\n",
      "1563/1563 [==============================] - 275s 176ms/step - loss: 1.0170 - accuracy: 0.6420\n",
      "Epoch 6/10\n",
      "1563/1563 [==============================] - 269s 172ms/step - loss: 0.9480 - accuracy: 0.6669\n",
      "Epoch 7/10\n",
      "1563/1563 [==============================] - 265s 169ms/step - loss: 0.9009 - accuracy: 0.6840\n",
      "Epoch 8/10\n",
      "1563/1563 [==============================] - 269s 172ms/step - loss: 0.8560 - accuracy: 0.6980\n",
      "Epoch 9/10\n",
      "1563/1563 [==============================] - 276s 176ms/step - loss: 0.8097 - accuracy: 0.7156\n",
      "Epoch 10/10\n",
      "1563/1563 [==============================] - 3856s 2s/step - loss: 0.7741 - accuracy: 0.7261\n",
      "CPU times: user 1h 36min 27s, sys: 27min 5s, total: 2h 3min 32s\n",
      "Wall time: 1h 45min 2s\n"
     ]
    },
    {
     "data": {
      "text/plain": [
       "<tensorflow.python.keras.callbacks.History at 0x7f98d0beb790>"
      ]
     },
     "execution_count": 13,
     "metadata": {},
     "output_type": "execute_result"
    }
   ],
   "source": [
    "%%time\n",
    "model3.fit(x_train, y_train_cats, epochs= 10)"
   ]
  },
  {
   "cell_type": "code",
   "execution_count": null,
   "metadata": {},
   "outputs": [],
   "source": []
  },
  {
   "cell_type": "markdown",
   "metadata": {},
   "source": [
    "# DepthwiseConv2D"
   ]
  },
  {
   "cell_type": "markdown",
   "metadata": {},
   "source": [
    "![DepthwiseConv2D](../data/DepthwiseConv2D.png)"
   ]
  },
  {
   "cell_type": "markdown",
   "metadata": {},
   "source": [
    "**总结 :** 非常不错"
   ]
  },
  {
   "cell_type": "code",
   "execution_count": 15,
   "metadata": {},
   "outputs": [],
   "source": [
    "layers = []\n",
    "layers.append(keras.layers.DepthwiseConv2D(3, input_shape = [32, 32,3], padding=\"same\", activation='relu'))\n",
    "layers.append(keras.layers.Conv2D(32, 4, padding=\"same\",activation='relu'))\n",
    "layers.append(keras.layers.Conv2D(16, 2, padding=\"same\",activation='relu'))\n",
    "layers.append(keras.layers.MaxPool2D(2))\n",
    "layers.append(keras.layers.Flatten())\n",
    "layers += mlp([300,20,10])"
   ]
  },
  {
   "cell_type": "code",
   "execution_count": 16,
   "metadata": {},
   "outputs": [],
   "source": [
    "model4 = keras.models.Sequential(layers)\n",
    "model4.compile(optimizer= 'adam', loss= 'sparse_categorical_crossentropy',metrics=['accuracy'])"
   ]
  },
  {
   "cell_type": "code",
   "execution_count": 18,
   "metadata": {},
   "outputs": [
    {
     "name": "stdout",
     "output_type": "stream",
     "text": [
      "Model: \"sequential_2\"\n",
      "_________________________________________________________________\n",
      "Layer (type)                 Output Shape              Param #   \n",
      "=================================================================\n",
      "depthwise_conv2d_1 (Depthwis (None, 32, 32, 3)         30        \n",
      "_________________________________________________________________\n",
      "conv2d_5 (Conv2D)            (None, 32, 32, 32)        1568      \n",
      "_________________________________________________________________\n",
      "conv2d_6 (Conv2D)            (None, 32, 32, 16)        2064      \n",
      "_________________________________________________________________\n",
      "max_pooling2d_5 (MaxPooling2 (None, 16, 16, 16)        0         \n",
      "_________________________________________________________________\n",
      "flatten_3 (Flatten)          (None, 4096)              0         \n",
      "_________________________________________________________________\n",
      "batch_normalization_6 (Batch (None, 4096)              16384     \n",
      "_________________________________________________________________\n",
      "dense_9 (Dense)              (None, 300)               1229100   \n",
      "_________________________________________________________________\n",
      "dropout_6 (Dropout)          (None, 300)               0         \n",
      "_________________________________________________________________\n",
      "batch_normalization_7 (Batch (None, 300)               1200      \n",
      "_________________________________________________________________\n",
      "dense_10 (Dense)             (None, 20)                6020      \n",
      "_________________________________________________________________\n",
      "dropout_7 (Dropout)          (None, 20)                0         \n",
      "_________________________________________________________________\n",
      "dense_11 (Dense)             (None, 10)                210       \n",
      "=================================================================\n",
      "Total params: 1,256,576\n",
      "Trainable params: 1,247,784\n",
      "Non-trainable params: 8,792\n",
      "_________________________________________________________________\n"
     ]
    }
   ],
   "source": [
    "model4.summary()"
   ]
  },
  {
   "cell_type": "code",
   "execution_count": 17,
   "metadata": {},
   "outputs": [
    {
     "name": "stdout",
     "output_type": "stream",
     "text": [
      "Epoch 1/10\n",
      "1563/1563 [==============================] - 131s 84ms/step - loss: 1.6193 - accuracy: 0.4267\n",
      "Epoch 2/10\n",
      "1563/1563 [==============================] - 128s 82ms/step - loss: 1.2041 - accuracy: 0.5755\n",
      "Epoch 3/10\n",
      "1563/1563 [==============================] - 126s 80ms/step - loss: 1.0609 - accuracy: 0.6296\n",
      "Epoch 4/10\n",
      "1563/1563 [==============================] - 126s 81ms/step - loss: 0.9703 - accuracy: 0.6617\n",
      "Epoch 5/10\n",
      "1563/1563 [==============================] - 124s 79ms/step - loss: 0.8954 - accuracy: 0.6857\n",
      "Epoch 6/10\n",
      "1563/1563 [==============================] - 126s 80ms/step - loss: 0.8508 - accuracy: 0.7018\n",
      "Epoch 7/10\n",
      "1563/1563 [==============================] - 126s 81ms/step - loss: 0.7842 - accuracy: 0.7267\n",
      "Epoch 8/10\n",
      "1563/1563 [==============================] - 126s 81ms/step - loss: 0.7406 - accuracy: 0.7391\n",
      "Epoch 9/10\n",
      "1563/1563 [==============================] - 125s 80ms/step - loss: 0.7005 - accuracy: 0.7531\n",
      "Epoch 10/10\n",
      "1563/1563 [==============================] - 125s 80ms/step - loss: 0.6729 - accuracy: 0.7613\n",
      "CPU times: user 40min 2s, sys: 16min 46s, total: 56min 49s\n",
      "Wall time: 21min 18s\n"
     ]
    },
    {
     "data": {
      "text/plain": [
       "<tensorflow.python.keras.callbacks.History at 0x7f9843e8f850>"
      ]
     },
     "execution_count": 17,
     "metadata": {},
     "output_type": "execute_result"
    }
   ],
   "source": [
    "%%time\n",
    "model4.fit(x_train, y_train_cats, epochs= 10)"
   ]
  },
  {
   "cell_type": "code",
   "execution_count": null,
   "metadata": {},
   "outputs": [],
   "source": []
  }
 ],
 "metadata": {
  "kernelspec": {
   "display_name": "Python 3",
   "language": "python",
   "name": "python3"
  },
  "language_info": {
   "codemirror_mode": {
    "name": "ipython",
    "version": 3
   },
   "file_extension": ".py",
   "mimetype": "text/x-python",
   "name": "python",
   "nbconvert_exporter": "python",
   "pygments_lexer": "ipython3",
   "version": "3.7.4"
  },
  "toc": {
   "base_numbering": 1,
   "nav_menu": {},
   "number_sections": true,
   "sideBar": true,
   "skip_h1_title": false,
   "title_cell": "Table of Contents",
   "title_sidebar": "Contents",
   "toc_cell": false,
   "toc_position": {},
   "toc_section_display": true,
   "toc_window_display": true
  }
 },
 "nbformat": 4,
 "nbformat_minor": 2
}
