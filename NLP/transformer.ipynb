{
 "cells": [
  {
   "cell_type": "markdown",
   "metadata": {
    "colab_type": "text",
    "id": "-tAYyK9URZnA"
   },
   "source": [
    "# Transformer 实现"
   ]
  },
  {
   "cell_type": "markdown",
   "metadata": {},
   "source": [
    "Eileen Zhang 2020/8/31"
   ]
  },
  {
   "cell_type": "markdown",
   "metadata": {
    "colab_type": "text",
    "id": "htujDJ0d6Tbd"
   },
   "source": [
    "注:以下是在google colab 上GPU跑的"
   ]
  },
  {
   "cell_type": "markdown",
   "metadata": {
    "colab_type": "text",
    "id": "ae4YRDdM6Tbh"
   },
   "source": [
    "![transformer](https://pic2.zhimg.com/80/v2-4b53b731a961ee467928619d14a5fd44_720w.jpg)"
   ]
  },
  {
   "cell_type": "code",
   "execution_count": 1,
   "metadata": {
    "colab": {},
    "colab_type": "code",
    "id": "8zgfiGQZRZnD"
   },
   "outputs": [],
   "source": [
    "import numpy as np\n",
    "import tensorflow as tf\n",
    "from tensorflow import keras"
   ]
  },
  {
   "cell_type": "code",
   "execution_count": 2,
   "metadata": {
    "colab": {},
    "colab_type": "code",
    "id": "-WLD2VzSRZnL"
   },
   "outputs": [],
   "source": [
    "import io\n",
    "import re"
   ]
  },
  {
   "cell_type": "code",
   "execution_count": 3,
   "metadata": {
    "colab": {},
    "colab_type": "code",
    "id": "mGJWmf2TRZnT"
   },
   "outputs": [],
   "source": [
    "import jieba"
   ]
  },
  {
   "cell_type": "code",
   "execution_count": 4,
   "metadata": {
    "colab": {},
    "colab_type": "code",
    "id": "cYK_KMHj6TcG"
   },
   "outputs": [],
   "source": [
    "%matplotlib inline\n",
    "import matplotlib.pyplot as plt"
   ]
  },
  {
   "cell_type": "code",
   "execution_count": 5,
   "metadata": {
    "colab": {
     "base_uri": "https://localhost:8080/",
     "height": 131
    },
    "colab_type": "code",
    "id": "h2rmSKf1X9Eg",
    "outputId": "ea263c8a-a8d0-479d-d297-5be142b58104"
   },
   "outputs": [
    {
     "name": "stdout",
     "output_type": "stream",
     "text": [
      "Go to this URL in a browser: https://accounts.google.com/o/oauth2/auth?client_id=947318989803-6bn6qk8qdgf4n4g3pfee6491hc0brc4i.apps.googleusercontent.com&redirect_uri=urn%3aietf%3awg%3aoauth%3a2.0%3aoob&scope=email%20https%3a%2f%2fwww.googleapis.com%2fauth%2fdocs.test%20https%3a%2f%2fwww.googleapis.com%2fauth%2fdrive%20https%3a%2f%2fwww.googleapis.com%2fauth%2fdrive.photos.readonly%20https%3a%2f%2fwww.googleapis.com%2fauth%2fpeopleapi.readonly&response_type=code\n",
      "\n",
      "Enter your authorization code:\n",
      "··········\n",
      "Mounted at /content/drive\n"
     ]
    }
   ],
   "source": [
    "from google.colab import drive\n",
    "drive.mount('/content/drive')"
   ]
  },
  {
   "cell_type": "code",
   "execution_count": 6,
   "metadata": {
    "colab": {},
    "colab_type": "code",
    "id": "uol5g42sRZnb"
   },
   "outputs": [],
   "source": [
    "file = \"/content/drive/My Drive/cmn.txt\""
   ]
  },
  {
   "cell_type": "markdown",
   "metadata": {
    "colab_type": "text",
    "id": "LX7SrmWYRZnh"
   },
   "source": [
    "## 数据处理"
   ]
  },
  {
   "cell_type": "markdown",
   "metadata": {
    "colab_type": "text",
    "id": "xi5_2tzURZni"
   },
   "source": [
    "### 数据查看 预处理"
   ]
  },
  {
   "cell_type": "code",
   "execution_count": 7,
   "metadata": {
    "colab": {},
    "colab_type": "code",
    "id": "R1nY7mrCRZnj"
   },
   "outputs": [],
   "source": [
    "def preprocess_sentence(w):\n",
    "    w = w.lower().strip()\n",
    "\n",
    "    # 在单词与跟在其后的标点符号之间插入一个空格\n",
    "    # https://stackoverflow.com/questions/3645931/python-padding-punctuation-with-white-spaces-keeping-punctuation\n",
    "    w = re.sub(r\"([?.!,¿])\", r\" \\1 \", w)\n",
    "    w = re.sub(r'[\" \"]+', \" \", w)\n",
    "\n",
    "    w = w.rstrip().strip()\n",
    "\n",
    "    return w"
   ]
  },
  {
   "cell_type": "code",
   "execution_count": 8,
   "metadata": {
    "colab": {},
    "colab_type": "code",
    "id": "7-tux1j5RZnq"
   },
   "outputs": [],
   "source": [
    "def read_txt(path):\n",
    "    lines = io.open(path, encoding='UTF-8').read().strip().split('\\n')\n",
    "\n",
    "    word_pairs = [[preprocess_sentence(w) for w in l.split('\\t')]  for l in lines]\n",
    "\n",
    "    return zip(*word_pairs)"
   ]
  },
  {
   "cell_type": "code",
   "execution_count": 9,
   "metadata": {
    "colab": {},
    "colab_type": "code",
    "id": "979ySdlURZnx"
   },
   "outputs": [],
   "source": [
    "en_data, cn_data, _ = read_txt(file)"
   ]
  },
  {
   "cell_type": "code",
   "execution_count": null,
   "metadata": {
    "colab": {
     "base_uri": "https://localhost:8080/",
     "height": 107
    },
    "colab_type": "code",
    "id": "KI3W-gESRZn2",
    "outputId": "0684a286-d3de-4b48-976f-6f051783190f"
   },
   "outputs": [
    {
     "data": {
      "text/plain": [
       "('我母亲的法语比我父亲的英语要好，所以他们通常用法语交流。',\n",
       " '汤姆不知如何翻译“计算机”一词，因为同他谈话的人从未见过一台。',\n",
       " '即使是现在，我偶尔还是想见到你。不是今天的你，而是我记忆中曾经的你。',\n",
       " '你很容易把母语说得通顺流畅，却很容易把非母语说得不自然。',\n",
       " '如果一個人在成人前沒有機會習得目標語言，他對該語言的認識達到母語者程度的機會是相當小的。')"
      ]
     },
     "execution_count": 10,
     "metadata": {
      "tags": []
     },
     "output_type": "execute_result"
    }
   ],
   "source": [
    "cn_data[-5:]"
   ]
  },
  {
   "cell_type": "code",
   "execution_count": 10,
   "metadata": {
    "colab": {
     "base_uri": "https://localhost:8080/",
     "height": 92
    },
    "colab_type": "code",
    "id": "NtWKp2WtRZn_",
    "outputId": "0f6e57ba-405e-4152-8f15-8883ea2ddcd3"
   },
   "outputs": [
    {
     "name": "stderr",
     "output_type": "stream",
     "text": [
      "Building prefix dict from the default dictionary ...\n",
      "Dumping model to file cache /tmp/jieba.cache\n",
      "Loading model cost 0.834 seconds.\n",
      "Prefix dict has been built successfully.\n"
     ]
    }
   ],
   "source": [
    "cn_data = [\" \".join(jieba.cut(x, cut_all=False)) for x in cn_data]"
   ]
  },
  {
   "cell_type": "code",
   "execution_count": null,
   "metadata": {
    "colab": {
     "base_uri": "https://localhost:8080/",
     "height": 107
    },
    "colab_type": "code",
    "id": "ThhH_w0dRZoH",
    "outputId": "883ee965-c1e4-45e0-c9d0-db3b756584ef"
   },
   "outputs": [
    {
     "data": {
      "text/plain": [
       "['我 母亲 的 法语 比 我 父亲 的 英语 要 好 ， 所以 他们 通常 用 法语 交流 。',\n",
       " '汤姆 不知 如何 翻译 “ 计算机 ” 一词 ， 因为 同 他 谈话 的 人 从未见过 一台 。',\n",
       " '即使 是 现在 ， 我 偶尔 还是 想 见到 你 。 不是 今天 的 你 ， 而是 我 记忆 中 曾经 的 你 。',\n",
       " '你 很 容易 把 母语 说 得 通顺 流畅 ， 却 很 容易 把 非 母语 说 得 不 自然 。',\n",
       " '如果 一個 人 在 成人 前 沒 有 機會習 得 目標 語言 ， 他 對 該 語言 的 認識 達 到 母語者 程度 的 機會 是 相當 小 的 。']"
      ]
     },
     "execution_count": 12,
     "metadata": {
      "tags": []
     },
     "output_type": "execute_result"
    }
   ],
   "source": [
    "cn_data[-5:]"
   ]
  },
  {
   "cell_type": "code",
   "execution_count": 11,
   "metadata": {
    "colab": {},
    "colab_type": "code",
    "id": "jXc2SvF4RZoO"
   },
   "outputs": [],
   "source": [
    "# 给句子加上开始和结束标记\n",
    "# 以便模型知道何时开始和结束预测\n",
    "en_data = ['<start> ' + w + ' <end>' for w in en_data]\n",
    "cn_data = ['<start> ' + w + ' <end>' for w in cn_data]"
   ]
  },
  {
   "cell_type": "code",
   "execution_count": 12,
   "metadata": {
    "colab": {
     "base_uri": "https://localhost:8080/",
     "height": 226
    },
    "colab_type": "code",
    "id": "n94o5ekWRZoS",
    "outputId": "e318cd49-53c8-4004-9df2-05f9428b2936"
   },
   "outputs": [
    {
     "data": {
      "text/plain": [
       "(['<start> my mother speaks french better than my father speaks english , so they usually speak to each other in french . <end>',\n",
       "  \"<start> tom didn't know how to translate the word computer because the people he was talking to had never seen one . <end>\",\n",
       "  \"<start> even now , i occasionally think i'd like to see you . not the you that you are today , but the you i remember from the past . <end>\",\n",
       "  \"<start> it's very easy to sound natural in your own native language , and very easy to sound unnatural in your non-native language . <end>\",\n",
       "  \"<start> if a person has not had a chance to acquire his target language by the time he's an adult , he's unlikely to be able to reach native speaker level in that language . <end>\"],\n",
       " ['<start> 我 母亲 的 法语 比 我 父亲 的 英语 要 好 ， 所以 他们 通常 用 法语 交流 。 <end>',\n",
       "  '<start> 汤姆 不知 如何 翻译 “ 计算机 ” 一词 ， 因为 同 他 谈话 的 人 从未见过 一台 。 <end>',\n",
       "  '<start> 即使 是 现在 ， 我 偶尔 还是 想 见到 你 。 不是 今天 的 你 ， 而是 我 记忆 中 曾经 的 你 。 <end>',\n",
       "  '<start> 你 很 容易 把 母语 说 得 通顺 流畅 ， 却 很 容易 把 非 母语 说 得 不 自然 。 <end>',\n",
       "  '<start> 如果 一個 人 在 成人 前 沒 有 機會習 得 目標 語言 ， 他 對 該 語言 的 認識 達 到 母語者 程度 的 機會 是 相當 小 的 。 <end>'])"
      ]
     },
     "execution_count": 12,
     "metadata": {
      "tags": []
     },
     "output_type": "execute_result"
    }
   ],
   "source": [
    "en_data[-5:],cn_data[-5:]"
   ]
  },
  {
   "cell_type": "markdown",
   "metadata": {
    "colab_type": "text",
    "id": "KFTxAhrKRZo5"
   },
   "source": [
    "### 创建dataset"
   ]
  },
  {
   "cell_type": "code",
   "execution_count": 13,
   "metadata": {
    "colab": {},
    "colab_type": "code",
    "id": "hzt0djnPRZo7"
   },
   "outputs": [],
   "source": [
    "def tokenize(txt):\n",
    "    tokenizer = tf.keras.preprocessing.text.Tokenizer(\n",
    "      filters='')\n",
    "    tokenizer.fit_on_texts(txt)\n",
    "    tensor = tokenizer.texts_to_sequences(txt)\n",
    "    tensor = tf.keras.preprocessing.sequence.pad_sequences(tensor,padding='post')\n",
    "    return tensor, tokenizer"
   ]
  },
  {
   "cell_type": "code",
   "execution_count": 14,
   "metadata": {
    "colab": {},
    "colab_type": "code",
    "id": "roDwZZGCRZpA"
   },
   "outputs": [],
   "source": [
    "en_tensor, en_tokenizer = tokenize(en_data)\n",
    "cn_tensor, cn_tokenizer = tokenize(cn_data)"
   ]
  },
  {
   "cell_type": "code",
   "execution_count": 15,
   "metadata": {
    "colab": {},
    "colab_type": "code",
    "id": "6YqzHjbvRZpF"
   },
   "outputs": [],
   "source": [
    "en_tensor_length, cn_tensor_length = en_tensor.shape[1], cn_tensor.shape[1]"
   ]
  },
  {
   "cell_type": "code",
   "execution_count": 16,
   "metadata": {
    "colab": {
     "base_uri": "https://localhost:8080/",
     "height": 36
    },
    "colab_type": "code",
    "id": "Fv2xnRwRRZpK",
    "outputId": "df2f04d1-59d3-4518-8093-db02b9eb8c7a"
   },
   "outputs": [
    {
     "data": {
      "text/plain": [
       "(36, 32)"
      ]
     },
     "execution_count": 16,
     "metadata": {
      "tags": []
     },
     "output_type": "execute_result"
    }
   ],
   "source": [
    "en_tensor_length, cn_tensor_length"
   ]
  },
  {
   "cell_type": "code",
   "execution_count": 17,
   "metadata": {
    "colab": {},
    "colab_type": "code",
    "id": "AOOj2PQFRZpR"
   },
   "outputs": [],
   "source": [
    "from sklearn.model_selection import train_test_split"
   ]
  },
  {
   "cell_type": "code",
   "execution_count": 18,
   "metadata": {
    "colab": {},
    "colab_type": "code",
    "id": "NtfoLjsfRZpW"
   },
   "outputs": [],
   "source": [
    "en_tensor_train, en_tensor_val, cn_tensor_train, cn_tensor_val = train_test_split(en_tensor, cn_tensor, test_size=0.2)"
   ]
  },
  {
   "cell_type": "code",
   "execution_count": 19,
   "metadata": {
    "colab": {
     "base_uri": "https://localhost:8080/",
     "height": 36
    },
    "colab_type": "code",
    "id": "qOGhfx3xRZpb",
    "outputId": "82da4515-8d15-49a2-dcb8-c5fc7082898d"
   },
   "outputs": [
    {
     "data": {
      "text/plain": [
       "((18755, 36), (4689, 36))"
      ]
     },
     "execution_count": 19,
     "metadata": {
      "tags": []
     },
     "output_type": "execute_result"
    }
   ],
   "source": [
    "en_tensor_train.shape, en_tensor_val.shape"
   ]
  },
  {
   "cell_type": "code",
   "execution_count": 20,
   "metadata": {
    "colab": {},
    "colab_type": "code",
    "id": "4Ejwwv-mRZpi"
   },
   "outputs": [],
   "source": [
    "BUFFER_SIZE = len(en_tensor_train)\n",
    "BATCH_SIZE = 64\n",
    "steps_per_epoch = BUFFER_SIZE//BATCH_SIZE\n",
    "\n",
    "vocab_en_size = len(en_tokenizer.word_index)+1\n",
    "vocab_cn_size = len(cn_tokenizer.word_index)+1\n",
    "\n",
    "dataset = tf.data.Dataset.from_tensor_slices((en_tensor_train, cn_tensor_train)).shuffle(BUFFER_SIZE)\n",
    "dataset = dataset.batch(BATCH_SIZE, drop_remainder=True)"
   ]
  },
  {
   "cell_type": "code",
   "execution_count": 21,
   "metadata": {
    "colab": {
     "base_uri": "https://localhost:8080/",
     "height": 36
    },
    "colab_type": "code",
    "id": "GK8N4x9CRZpn",
    "outputId": "324fc333-b5a5-47e0-8433-3b1d9a0c3385"
   },
   "outputs": [
    {
     "data": {
      "text/plain": [
       "(TensorShape([64, 36]), TensorShape([64, 32]))"
      ]
     },
     "execution_count": 21,
     "metadata": {
      "tags": []
     },
     "output_type": "execute_result"
    }
   ],
   "source": [
    "example_en_batch, example_cn_batch = next(iter(dataset))\n",
    "example_en_batch.shape, example_cn_batch.shape"
   ]
  },
  {
   "cell_type": "code",
   "execution_count": 23,
   "metadata": {
    "colab": {},
    "colab_type": "code",
    "id": "2ZHPKRVgRZpq"
   },
   "outputs": [],
   "source": [
    "vocab_en_size = len(en_tokenizer.word_index)+2\n",
    "vocab_cn_size = len(cn_tokenizer.word_index)+2"
   ]
  },
  {
   "cell_type": "markdown",
   "metadata": {
    "colab_type": "text",
    "id": "Qy1WcvgW6Tem"
   },
   "source": [
    "# Position embedding 位置编码\n",
    "\n",
    "Word Embedding+Position Embedding 取代RNN"
   ]
  },
  {
   "cell_type": "code",
   "execution_count": 24,
   "metadata": {
    "colab": {},
    "colab_type": "code",
    "id": "NSW313Ej6Tem"
   },
   "outputs": [],
   "source": [
    "#pos 词语在句子中的位置,i 在embeding中的位置,embeding_dims embeding length\n",
    "#pos.shape [sentence_length,1]\n",
    "#i.shape [1, embeding_dims]\n",
    "# result.shape [sentence_length, embeding_dims]\n",
    "def get_angles(pos, i, embeding_dims):\n",
    "    angle_rates = 1 / np.power(10000, (2 * (i//2)) / np.float32(embeding_dims))\n",
    "    return pos * angle_rates"
   ]
  },
  {
   "cell_type": "code",
   "execution_count": 25,
   "metadata": {
    "colab": {},
    "colab_type": "code",
    "id": "67WLTd3Q6Teq"
   },
   "outputs": [],
   "source": [
    "def positional_encoding(max_seq_len, embeding_dims):\n",
    "    \n",
    "    angle_rads = get_angles(np.arange(max_seq_len)[:, np.newaxis],\n",
    "                            np.arange(embeding_dims)[np.newaxis, :],\n",
    "                            embeding_dims)\n",
    "  \n",
    "    # 将 sin 应用于数组中的偶数索引（indices）；2i\n",
    "    #第一个冒号是从0后所有值,第二个冒号是走2步\n",
    "    angle_rads[:, 0::2] = np.sin(angle_rads[:, 0::2])\n",
    "  \n",
    "    # 将 cos 应用于数组中的奇数索引；2i+1\n",
    "    angle_rads[:, 1::2] = np.cos(angle_rads[:, 1::2])\n",
    "    \n",
    "    pos_encoding = angle_rads[np.newaxis, ...]\n",
    "    \n",
    "    return tf.cast(pos_encoding, dtype=tf.float32)\n"
   ]
  },
  {
   "cell_type": "code",
   "execution_count": 26,
   "metadata": {
    "colab": {},
    "colab_type": "code",
    "id": "ut6UaJd56Tev"
   },
   "outputs": [],
   "source": [
    "def plot_position_encoding(positional_encoding):\n",
    "    \n",
    "    plt.pcolormesh(positional_encoding[0], cmap = 'RdBu')\n",
    "    plt.xlabel('Depth')\n",
    "    plt.xlim((0,512))\n",
    "    plt.ylabel('Position')\n",
    "    plt.colorbar()\n",
    "    plt.show()"
   ]
  },
  {
   "cell_type": "code",
   "execution_count": 27,
   "metadata": {
    "colab": {
     "base_uri": "https://localhost:8080/",
     "height": 283
    },
    "colab_type": "code",
    "id": "zx3GYh426Tez",
    "outputId": "cf7011d4-1bdd-4af1-a714-815f6ede428f"
   },
   "outputs": [
    {
     "data": {
      "image/png": "[encoded data removed]",
      "text/plain": [
       "<Figure size 432x288 with 2 Axes>"
      ]
     },
     "metadata": {
      "needs_background": "light",
      "tags": []
     },
     "output_type": "display_data"
    }
   ],
   "source": [
    "plot_position_encoding(positional_encoding(50,512))"
   ]
  },
  {
   "cell_type": "markdown",
   "metadata": {
    "colab_type": "text",
    "id": "-CfNNNn36Te4"
   },
   "source": [
    "# Mask"
   ]
  },
  {
   "cell_type": "markdown",
   "metadata": {
    "colab_type": "text",
    "id": "fhCIMS3t6Te7"
   },
   "source": [
    "- Pading Mask\n",
    "这确保了模型不会将填充作为输入。该 mask 表明填充值 0 出现的位置：在这些位置 mask 输出 1，否则输出 0。"
   ]
  },
  {
   "cell_type": "code",
   "execution_count": 28,
   "metadata": {
    "colab": {},
    "colab_type": "code",
    "id": "y-BZVitU6Te7"
   },
   "outputs": [],
   "source": [
    "def create_padding_mask(seq):\n",
    "    seq = tf.cast(tf.math.equal(seq, 0), tf.float32)\n",
    "    #print(seq)\n",
    "    return seq[:, tf.newaxis, tf.newaxis, :]  # (batch_size, 1, 1, seq_len)"
   ]
  },
  {
   "cell_type": "code",
   "execution_count": 29,
   "metadata": {
    "colab": {
     "base_uri": "https://localhost:8080/",
     "height": 168
    },
    "colab_type": "code",
    "id": "MfaZ7FCD6Te_",
    "outputId": "6251db5d-e8f3-43f4-9bee-0f7e2d26cc32"
   },
   "outputs": [
    {
     "data": {
      "text/plain": [
       "<tf.Tensor: shape=(3, 1, 1, 5), dtype=float32, numpy=\n",
       "array([[[[0., 0., 0., 0., 0.]]],\n",
       "\n",
       "\n",
       "       [[[1., 0., 0., 0., 0.]]],\n",
       "\n",
       "\n",
       "       [[[1., 1., 0., 0., 0.]]]], dtype=float32)>"
      ]
     },
     "execution_count": 29,
     "metadata": {
      "tags": []
     },
     "output_type": "execute_result"
    }
   ],
   "source": [
    "create_padding_mask(tf.constant([[2, 2, 2, 2, 2], [0, 2, 2, 2, 2], [0, 0, 2, 2, 2]]))"
   ]
  },
  {
   "cell_type": "markdown",
   "metadata": {
    "colab_type": "text",
    "id": "l7JqpblO6TfG"
   },
   "source": [
    "- 预测第三个词，将仅使用第一个和第二个词。与此类似，预测第四个词，仅使用第一个，第二个和第三个词，依此类推。"
   ]
  },
  {
   "cell_type": "code",
   "execution_count": 30,
   "metadata": {
    "colab": {},
    "colab_type": "code",
    "id": "JtM5Ma6f6TfG"
   },
   "outputs": [],
   "source": [
    "# \n",
    "def create_look_ahead_mask(size):\n",
    "    mask = 1 - tf.linalg.band_part(tf.ones((size, size)), -1, 0)\n",
    "    return mask  # (seq_len, seq_len)"
   ]
  },
  {
   "cell_type": "code",
   "execution_count": 31,
   "metadata": {
    "colab": {
     "base_uri": "https://localhost:8080/",
     "height": 111
    },
    "colab_type": "code",
    "id": "uPZSeQ1J6TfL",
    "outputId": "8283c299-9671-48e7-9510-ff1f79f3fbf0"
   },
   "outputs": [
    {
     "data": {
      "text/plain": [
       "<tf.Tensor: shape=(4, 4), dtype=float32, numpy=\n",
       "array([[0., 1., 1., 1.],\n",
       "       [0., 0., 1., 1.],\n",
       "       [0., 0., 0., 1.],\n",
       "       [0., 0., 0., 0.]], dtype=float32)>"
      ]
     },
     "execution_count": 31,
     "metadata": {
      "tags": []
     },
     "output_type": "execute_result"
    }
   ],
   "source": [
    "create_look_ahead_mask(4)"
   ]
  },
  {
   "cell_type": "markdown",
   "metadata": {
    "colab_type": "text",
    "id": "dRqxApIP6TfP"
   },
   "source": [
    "# Multi-head Attention"
   ]
  },
  {
   "cell_type": "markdown",
   "metadata": {
    "colab_type": "text",
    "id": "y0PZVyEe6TfQ"
   },
   "source": [
    "![Multi-head Attention](data/multi_attention.png)"
   ]
  },
  {
   "cell_type": "markdown",
   "metadata": {
    "colab_type": "text",
    "id": "qq_VHcsZ6TfR"
   },
   "source": [
    "![%E5%9B%BE%E7%89%87.png](https://img-blog.csdnimg.cn/20190504124806248.png?x-oss-process=image/watermark,type_ZmFuZ3poZW5naGVpdGk,shadow_10,text_aHR0cHM6Ly9ibG9nLmNzZG4ubmV0L25pbmd5YW5nZ2VnZQ==,size_16,color_FFFFFF,t_70)"
   ]
  },
  {
   "cell_type": "markdown",
   "metadata": {
    "colab_type": "text",
    "id": "3-dBRiBp6TfR"
   },
   "source": [
    "**scaled_dot_product_attention 公式**  \n",
    "\n",
    "$softmax(Q * K^T / \\sqrt{d_k}) * V $  \n",
    "\n",
    "除以$\\sqrt{d_k}$ 防止 Q * K 后值过大,假设Q K 符合正态分布; 则 Q * K 符合 0 ~ $\\sqrt{d_k}$ 的正态分布;除以$\\sqrt{d_k}$进行归一化"
   ]
  },
  {
   "cell_type": "code",
   "execution_count": 32,
   "metadata": {
    "colab": {},
    "colab_type": "code",
    "id": "06CMcKkA6TfT"
   },
   "outputs": [],
   "source": [
    "def scaled_dot_product_attention(q, k, v, mask):\n",
    "    \"\"\"计算注意力权重。\n",
    "    \n",
    "    参数:\n",
    "      q: 请求的形状 == (..., seq_len_q, embedding_dims)\n",
    "      k: 主键的形状 == (..., seq_len_k, embedding_dims)\n",
    "      v: 数值的形状 == (..., seq_len_v, embedding_dims)\n",
    "      mask: 把需要mask的部分加上-1e9 ,从而使该部分值经过 softmax后趋近于0 \n",
    "      \n",
    "    返回值:\n",
    "      outs.shape = (..., seq_len_q, embedding_dims)\n",
    "      输出，注意力权重\n",
    "    \"\"\"\n",
    "    \n",
    "    matmul_qk = tf.matmul(q, k, transpose_b=True)  # (..., seq_len_q, seq_len_k)\n",
    "  \n",
    "    # 缩放 matmul_qk\n",
    "    dk = tf.cast(tf.shape(k)[-1], tf.float32)\n",
    "    scaled_attention_logits = matmul_qk / tf.math.sqrt(dk)\n",
    "    \n",
    "    # 将 mask 加入到缩放的张量上。\n",
    "    if mask is not None:\n",
    "        scaled_attention_logits += (mask * -1e9)  \n",
    "    \n",
    "    # softmax 在最后一个轴（seq_len_k）上归一化，因此分数\n",
    "    # 相加等于1。\n",
    "    attention_weights = tf.nn.softmax(scaled_attention_logits, axis=-1)  # (..., seq_len_q, seq_len_k)\n",
    "\n",
    "    output = tf.matmul(attention_weights, v)  # (..., seq_len_q, embedding_dims)\n",
    "\n",
    "    return output, attention_weights\n"
   ]
  },
  {
   "cell_type": "code",
   "execution_count": 33,
   "metadata": {
    "colab": {},
    "colab_type": "code",
    "id": "FGCBzotS6TfW"
   },
   "outputs": [],
   "source": [
    "# V,K,Q 分别做num_heads个liner 不如做一个liner 分成num_heads 份 \n",
    "class MultiHeadAttention(tf.keras.layers.Layer):\n",
    "    \"\"\"\n",
    "    num_heads: the numbers of heads\n",
    "    embeding_dims : the q, k, v dims for one head\n",
    "    \n",
    "    outs.shape =  (batch_size, seq_len_q, embeding_dims)\n",
    "    \"\"\"    \n",
    "    def __init__(self, num_heads, embeding_dims):\n",
    "        super(MultiHeadAttention, self).__init__()\n",
    "        self.num_heads = num_heads\n",
    "        self.embeding_dims = embeding_dims\n",
    "        \n",
    "        #print('embeding_dims', embeding_dims , 'self.num_heads',self.num_heads)\n",
    "        #print('embeding_dims % self.num_heads == 0',embeding_dims % self.num_heads)\n",
    "        assert embeding_dims % self.num_heads == 0\n",
    "\n",
    "        self.dims = embeding_dims // self.num_heads\n",
    "    \n",
    "        self.wq = tf.keras.layers.Dense(self.embeding_dims)\n",
    "        self.wk = tf.keras.layers.Dense(self.embeding_dims)\n",
    "        self.wv = tf.keras.layers.Dense(self.embeding_dims)\n",
    "    \n",
    "        self.dense = tf.keras.layers.Dense(self.embeding_dims)\n",
    "        \n",
    "    def split_heads(self, x, batch_size):\n",
    "        \"\"\"分拆最后一个维度到 (num_heads, embeding_dims).\n",
    "        转置结果使得形状为 (batch_size, num_heads, seq_len, embeding_dims)\n",
    "        \"\"\"\n",
    "        #做归一化 ? 未实现      \n",
    "        x = tf.reshape(x, (batch_size, -1, self.num_heads, self.dims))\n",
    "        return tf.transpose(x, perm=[0, 2, 1, 3])\n",
    "    \n",
    "    def call(self, v, k, q, mask):\n",
    "        batch_size = tf.shape(q)[0]\n",
    "    \n",
    "        q = self.wq(q)  # (batch_size, seq_len, embeding_dims)\n",
    "        k = self.wk(k)  # (batch_size, seq_len, embeding_dims)\n",
    "        v = self.wv(v)  # (batch_size, seq_len, embeding_dims)\n",
    "    \n",
    "        q = self.split_heads(q, batch_size)  # (batch_size, num_heads, seq_len_q, dims)\n",
    "        k = self.split_heads(k, batch_size)  # (batch_size, num_heads, seq_len_k, dims)\n",
    "        v = self.split_heads(v, batch_size)  # (batch_size, num_heads, seq_len_v, dims)\n",
    "        #print('q', q.shape)\n",
    "        #print('k', k.shape)\n",
    "        #print('v', v.shape)\n",
    "    \n",
    "        # scaled_attention.shape == (batch_size, num_heads, seq_len_q, dims)\n",
    "        # attention_weights.shape == (batch_size, num_heads, seq_len_q, seq_len_k)\n",
    "        scaled_attention, attention_weights = scaled_dot_product_attention(\n",
    "        q, k, v, mask)\n",
    "    \n",
    "        scaled_attention = tf.transpose(scaled_attention, perm=[0, 2, 1, 3])  # (batch_size, seq_len_q, num_heads, dims)\n",
    "\n",
    "        concat_attention = tf.reshape(scaled_attention, \n",
    "                                  (batch_size, -1, self.embeding_dims))  # (batch_size, seq_len_q, embeding_dims)\n",
    "\n",
    "        output = self.dense(concat_attention)  # (batch_size, seq_len_q, embeding_dims)\n",
    "        #print('scaled_attention', scaled_attention.shape)\n",
    "        #print('concat_attention', concat_attention.shape)\n",
    "        #print('output', output.shape)\n",
    "        return output, attention_weights\n"
   ]
  },
  {
   "cell_type": "markdown",
   "metadata": {
    "colab_type": "text",
    "id": "1kmwaBM4RZpx"
   },
   "source": [
    "# Encoder\n",
    "\n",
    "inputs.shape = (batch_size, input_seq_len)  \n",
    "outs.shape = (batch_size, input_seq_len, embeding_dims)"
   ]
  },
  {
   "cell_type": "code",
   "execution_count": 34,
   "metadata": {
    "colab": {},
    "colab_type": "code",
    "id": "dF5Q5wVx6Tfb"
   },
   "outputs": [],
   "source": [
    "# outs.shape = (batch_size, seq_len, embeding_dims)\n",
    "def feed_forward_network(units, embeding_dims):\n",
    "    return tf.keras.Sequential([\n",
    "        tf.keras.layers.Dense(units, activation='relu'),  # (batch_size, seq_len, units)\n",
    "        tf.keras.layers.Dense(embeding_dims)  # (batch_size, seq_len, embeding_dims)\n",
    "    ])\n"
   ]
  },
  {
   "cell_type": "code",
   "execution_count": 35,
   "metadata": {
    "colab": {},
    "colab_type": "code",
    "id": "DH_XIGiD6Tfg"
   },
   "outputs": [],
   "source": [
    "class EncoderLayer(tf.keras.layers.Layer):\n",
    "    def __init__(self, embeding_dims, num_heads, ffn_units, rate=0.1):\n",
    "        super(EncoderLayer, self).__init__()\n",
    "        \n",
    "        self.mha = MultiHeadAttention(num_heads, embeding_dims)\n",
    "        self.ffn = feed_forward_network(ffn_units, embeding_dims)\n",
    "\n",
    "        self.layernorm1 = tf.keras.layers.LayerNormalization(epsilon=1e-6)\n",
    "        self.layernorm2 = tf.keras.layers.LayerNormalization(epsilon=1e-6)\n",
    "    \n",
    "        self.dropout1 = tf.keras.layers.Dropout(rate)\n",
    "        self.dropout2 = tf.keras.layers.Dropout(rate)\n",
    "    \n",
    "    def call(self, x, training, mask):\n",
    "\n",
    "        attn_output, _ = self.mha(x, x, x, mask)  # (batch_size, input_seq_len, embeding_dims)\n",
    "        attn_output = self.dropout1(attn_output, training=training)\n",
    "        #print('attn_output', attn_output.shape)\n",
    "        #print('x', x.shape)\n",
    "        out1 = self.layernorm1(x + attn_output)  # (batch_size, input_seq_len, embeding_dims)\n",
    "    \n",
    "        ffn_output = self.ffn(out1)  # (batch_size, input_seq_len, embeding_dims)\n",
    "        ffn_output = self.dropout2(ffn_output, training=training)\n",
    "        out2 = self.layernorm2(out1 + ffn_output)  # (batch_size, input_seq_len, embeding_dims)\n",
    "        return out2\n",
    "    "
   ]
  },
  {
   "cell_type": "code",
   "execution_count": 36,
   "metadata": {
    "colab": {},
    "colab_type": "code",
    "id": "WhNTSHyLRZpx"
   },
   "outputs": [],
   "source": [
    "class Encoder(tf.keras.layers.Layer):\n",
    "    def __init__(self, num_layers, num_heads, embeding_dims, ffn_units, input_vocab_size,\n",
    "                 max_seq_len, rate=0.1):\n",
    "        super(Encoder, self).__init__()\n",
    "\n",
    "        self.embeding_dims = embeding_dims\n",
    "        self.num_layers = num_layers\n",
    "    \n",
    "        self.embedding = tf.keras.layers.Embedding(input_vocab_size, embeding_dims)\n",
    "        self.pos_encoding = positional_encoding(max_seq_len, \n",
    "                                            self.embeding_dims)\n",
    "    \n",
    "    \n",
    "        self.enc_layers = [EncoderLayer(embeding_dims, num_heads, ffn_units, rate) for _ in range(num_layers)]\n",
    "  \n",
    "        self.dropout = tf.keras.layers.Dropout(rate)\n",
    "        \n",
    "    def call(self, x, training, mask):\n",
    "        seq_len = tf.shape(x)[1]\n",
    "    \n",
    "        # 将嵌入和位置编码相加。\n",
    "        x = self.embedding(x)  # (batch_size, input_seq_len, embeding_dims)\n",
    "        x *= tf.math.sqrt(tf.cast(self.embeding_dims, tf.float32)) #使x权重 大于pos_encoding权重\n",
    "        x += self.pos_encoding[:, :seq_len, :]\n",
    "\n",
    "        x = self.dropout(x, training=training)\n",
    "    \n",
    "        for i in range(self.num_layers):\n",
    "            x = self.enc_layers[i](x, training, mask)\n",
    "    \n",
    "        return x  # (batch_size, input_seq_len, embeding_dims)"
   ]
  },
  {
   "cell_type": "code",
   "execution_count": 37,
   "metadata": {
    "colab": {
     "base_uri": "https://localhost:8080/",
     "height": 36
    },
    "colab_type": "code",
    "id": "g_hWzIPC6Tfv",
    "outputId": "94e54f2b-3e02-417c-9bb0-e2759c5df5d6"
   },
   "outputs": [
    {
     "data": {
      "text/plain": [
       "TensorShape([64, 36, 256])"
      ]
     },
     "execution_count": 37,
     "metadata": {
      "tags": []
     },
     "output_type": "execute_result"
    }
   ],
   "source": [
    "test_encoder = Encoder(num_layers = 4 , num_heads = 8, embeding_dims = 256, ffn_units = 100, input_vocab_size = vocab_en_size,\n",
    "                 max_seq_len = en_tensor_length, rate=0.1)\n",
    "\n",
    "test_encoder_outs = test_encoder(tf.random.uniform(example_en_batch.shape), training=False, mask=None)\n",
    "\n",
    "test_encoder_outs.shape"
   ]
  },
  {
   "cell_type": "markdown",
   "metadata": {
    "colab_type": "text",
    "id": "swdrEpio6Tf0"
   },
   "source": [
    "# Decoder"
   ]
  },
  {
   "cell_type": "code",
   "execution_count": 38,
   "metadata": {
    "colab": {},
    "colab_type": "code",
    "id": "9nSzmInV6Tf2"
   },
   "outputs": [],
   "source": [
    "class DecoderLayer(tf.keras.layers.Layer):\n",
    "    def __init__(self, num_heads, embeding_dims, ffn_units, rate=0.1):\n",
    "        super(DecoderLayer, self).__init__()\n",
    "\n",
    "        self.mha1 = MultiHeadAttention(num_heads, embeding_dims)\n",
    "        self.mha2 = MultiHeadAttention(num_heads, embeding_dims)\n",
    "\n",
    "        self.ffn = feed_forward_network(ffn_units, embeding_dims)\n",
    " \n",
    "        self.layernorm1 = tf.keras.layers.LayerNormalization(epsilon=1e-6)\n",
    "        self.layernorm2 = tf.keras.layers.LayerNormalization(epsilon=1e-6)\n",
    "        self.layernorm3 = tf.keras.layers.LayerNormalization(epsilon=1e-6)\n",
    "    \n",
    "        self.dropout1 = tf.keras.layers.Dropout(rate)\n",
    "        self.dropout2 = tf.keras.layers.Dropout(rate)\n",
    "        self.dropout3 = tf.keras.layers.Dropout(rate)\n",
    "    \n",
    "    \n",
    "    def call(self, x, enc_output, training, look_ahead_mask, padding_mask):\n",
    "        # enc_output.shape == (batch_size, input_seq_len, embeding_dims)\n",
    "\n",
    "        attn1, attn_weights_block1 = self.mha1(x, x, x, look_ahead_mask)  # (batch_size, target_seq_len, embeding_dims)\n",
    "        attn1 = self.dropout1(attn1, training=training)\n",
    "        out1 = self.layernorm1(attn1 + x)\n",
    "    \n",
    "        attn2, attn_weights_block2 = self.mha2(enc_output, enc_output, out1, padding_mask)  # (batch_size, target_seq_len, embeding_dims)\n",
    "        attn2 = self.dropout2(attn2, training=training)\n",
    "        out2 = self.layernorm2(attn2 + out1)  # (batch_size, target_seq_len, embeding_dims)\n",
    "    \n",
    "        ffn_output = self.ffn(out2)  # (batch_size, target_seq_len, embeding_dims)\n",
    "        ffn_output = self.dropout3(ffn_output, training=training)\n",
    "        out3 = self.layernorm3(ffn_output + out2)  # (batch_size, target_seq_len, embeding_dims)\n",
    "    \n",
    "        return out3, attn_weights_block1, attn_weights_block2\n"
   ]
  },
  {
   "cell_type": "code",
   "execution_count": 39,
   "metadata": {
    "colab": {},
    "colab_type": "code",
    "id": "6t22t30o6Tf7"
   },
   "outputs": [],
   "source": [
    "class Decoder(tf.keras.layers.Layer):\n",
    "    def __init__(self, num_layers, num_heads, embeding_dims, ffn_units, target_vocab_size, max_seq_len, rate=0.1):\n",
    "        super(Decoder, self).__init__()\n",
    "\n",
    "        self.embeding_dims = embeding_dims\n",
    "        self.num_layers = num_layers\n",
    "    \n",
    "        self.embedding = tf.keras.layers.Embedding(target_vocab_size, embeding_dims)\n",
    "        self.pos_encoding = positional_encoding(max_seq_len, embeding_dims)\n",
    "    \n",
    "        self.dec_layers = [DecoderLayer(num_heads = num_heads, embeding_dims = embeding_dims, ffn_units = ffn_units, rate = rate) \n",
    "                       for _ in range(num_layers)]\n",
    "        self.dropout = tf.keras.layers.Dropout(rate)\n",
    "    \n",
    "    def call(self, x, enc_output, training, look_ahead_mask, padding_mask):\n",
    "\n",
    "        seq_len = tf.shape(x)[1]\n",
    "        attention_weights = {}   \n",
    "        x = self.embedding(x)  # (batch_size, target_seq_len, embeding_dims)\n",
    "        x *= tf.math.sqrt(tf.cast(self.embeding_dims, tf.float32))\n",
    "        x += self.pos_encoding[:, :seq_len, :]\n",
    "    \n",
    "        x = self.dropout(x, training=training)\n",
    "\n",
    "        for i in range(self.num_layers):\n",
    "            x, block1, block2 = self.dec_layers[i](x, enc_output, training,look_ahead_mask, padding_mask)\n",
    "            attention_weights['decoder_layer{}_block1'.format(i+1)] = block1\n",
    "            attention_weights['decoder_layer{}_block2'.format(i+1)] = block2\n",
    "    \n",
    "        # x.shape == (batch_size, target_seq_len, embeding_dims)\n",
    "        return x, attention_weights\n"
   ]
  },
  {
   "cell_type": "code",
   "execution_count": 40,
   "metadata": {
    "colab": {
     "base_uri": "https://localhost:8080/",
     "height": 36
    },
    "colab_type": "code",
    "id": "rJBi2tJx6Tf_",
    "outputId": "b399653a-866b-48d6-860f-71acbfbd031d"
   },
   "outputs": [
    {
     "data": {
      "text/plain": [
       "(TensorShape([64, 26, 512]), TensorShape([64, 8, 26, 36]))"
      ]
     },
     "execution_count": 40,
     "metadata": {
      "tags": []
     },
     "output_type": "execute_result"
    }
   ],
   "source": [
    "test_decoder = Decoder(num_layers=2, embeding_dims=512, num_heads=8, \n",
    "                         ffn_units=20, target_vocab_size=800,\n",
    "                         max_seq_len=200)\n",
    "\n",
    "output, attn = test_decoder(tf.random.uniform((64, 26)), \n",
    "                              enc_output=test_encoder_outs, \n",
    "                              training=False, look_ahead_mask=None, \n",
    "                              padding_mask=None)\n",
    "\n",
    "output.shape, attn['decoder_layer2_block2'].shape\n"
   ]
  },
  {
   "cell_type": "code",
   "execution_count": null,
   "metadata": {
    "colab": {},
    "colab_type": "code",
    "id": "g0LUg1Qo6TgH"
   },
   "outputs": [],
   "source": []
  },
  {
   "cell_type": "code",
   "execution_count": null,
   "metadata": {
    "colab": {},
    "colab_type": "code",
    "id": "X1ZUJDjE6Tgj"
   },
   "outputs": [],
   "source": []
  },
  {
   "cell_type": "markdown",
   "metadata": {
    "colab_type": "text",
    "id": "F25NHqer6Tgq"
   },
   "source": [
    "# Transformer"
   ]
  },
  {
   "cell_type": "code",
   "execution_count": 41,
   "metadata": {
    "colab": {},
    "colab_type": "code",
    "id": "NnT9ipS46Tgq"
   },
   "outputs": [],
   "source": [
    "class Transformer(tf.keras.Model):\n",
    "    def __init__(self, num_layers, embeding_dims, num_heads, ffn_units, input_vocab_size, \n",
    "               target_vocab_size, input_max_seq_len, target_max_seq_len, rate=0.1):\n",
    "        \n",
    "        super(Transformer, self).__init__()\n",
    "\n",
    "        self.encoder = Encoder(num_layers = num_layers, embeding_dims = embeding_dims, num_heads = num_heads, ffn_units = ffn_units, \n",
    "                           input_vocab_size = input_vocab_size, max_seq_len = input_max_seq_len, rate = rate)\n",
    "\n",
    "        self.decoder = Decoder(num_layers = num_layers, embeding_dims = embeding_dims, num_heads = num_heads, ffn_units = ffn_units, \n",
    "                           target_vocab_size = target_vocab_size, max_seq_len = target_max_seq_len, rate = rate)\n",
    "\n",
    "        self.final_layer = tf.keras.layers.Dense(target_vocab_size)\n",
    "    \n",
    "    def call(self, inp, tar, training, enc_padding_mask, \n",
    "           look_ahead_mask, dec_padding_mask):\n",
    "\n",
    "        enc_output = self.encoder(inp, training, enc_padding_mask)  # (batch_size, inp_seq_len, embeding_dims)\n",
    "    \n",
    "        # dec_output.shape == (batch_size, tar_seq_len, embeding_dims)\n",
    "        dec_output, attention_weights = self.decoder(tar, enc_output, training, look_ahead_mask, dec_padding_mask)\n",
    "    \n",
    "        final_output = self.final_layer(dec_output)  # (batch_size, tar_seq_len, target_vocab_size)\n",
    "    \n",
    "        return final_output, attention_weights\n"
   ]
  },
  {
   "cell_type": "code",
   "execution_count": 42,
   "metadata": {
    "colab": {
     "base_uri": "https://localhost:8080/",
     "height": 36
    },
    "colab_type": "code",
    "id": "-AwJ9ZjO6Tgv",
    "outputId": "17aba3ef-fa67-4c2f-ed4c-4d9a8fdb9125"
   },
   "outputs": [
    {
     "data": {
      "text/plain": [
       "TensorShape([64, 26, 300])"
      ]
     },
     "execution_count": 42,
     "metadata": {
      "tags": []
     },
     "output_type": "execute_result"
    }
   ],
   "source": [
    "test_transformer = Transformer(\n",
    "    num_layers=2, embeding_dims=512, num_heads=8, ffn_units=5, \n",
    "    input_vocab_size=200, target_vocab_size=300, \n",
    "    input_max_seq_len=65, target_max_seq_len=30)\n",
    "\n",
    "temp_input = tf.random.uniform((64, 62))\n",
    "temp_target = tf.random.uniform((64, 26))\n",
    "\n",
    "fn_out, _ = test_transformer(temp_input, temp_target, training=False, \n",
    "                               enc_padding_mask=None, \n",
    "                               look_ahead_mask=None,\n",
    "                               dec_padding_mask=None)\n",
    "\n",
    "fn_out.shape  # (batch_size, tar_seq_len, target_vocab_size)\n"
   ]
  },
  {
   "cell_type": "markdown",
   "metadata": {
    "colab_type": "text",
    "id": "To2SbncvRZrB"
   },
   "source": [
    "# Loss Function"
   ]
  },
  {
   "cell_type": "markdown",
   "metadata": {
    "colab_type": "text",
    "id": "3D_H4fwI6Tg0"
   },
   "source": []
  },
  {
   "cell_type": "code",
   "execution_count": 43,
   "metadata": {
    "colab": {},
    "colab_type": "code",
    "id": "RYWxGDh26Tg1"
   },
   "outputs": [],
   "source": [
    "from tensorflow.keras.losses import SparseCategoricalCrossentropy\n",
    "from tensorflow.keras.metrics import Mean\n",
    "\n",
    "optimizer = tf.keras.optimizers.Adam()"
   ]
  },
  {
   "cell_type": "code",
   "execution_count": 44,
   "metadata": {
    "colab": {},
    "colab_type": "code",
    "id": "4txOFzCb6Tg4"
   },
   "outputs": [],
   "source": [
    "def create_masks(inp, tar):\n",
    "    # 编码器填充遮挡\n",
    "    enc_padding_mask = create_padding_mask(inp)\n",
    "  \n",
    "    # 在解码器的第二个注意力模块使用。\n",
    "    # 该填充遮挡用于遮挡编码器的输出。\n",
    "    dec_padding_mask = create_padding_mask(inp)\n",
    "  \n",
    "    # 在解码器的第一个注意力模块使用。\n",
    "    # 用于填充（pad）和遮挡（mask）解码器获取到的输入的后续标记（future tokens）。\n",
    "    look_ahead_mask = create_look_ahead_mask(tf.shape(tar)[1])\n",
    "    dec_target_padding_mask = create_padding_mask(tar)\n",
    "    combined_mask = tf.maximum(dec_target_padding_mask, look_ahead_mask)\n",
    "  \n",
    "    return enc_padding_mask, combined_mask, dec_padding_mask"
   ]
  },
  {
   "cell_type": "code",
   "execution_count": 45,
   "metadata": {
    "colab": {},
    "colab_type": "code",
    "id": "HK75izPL6Tg-"
   },
   "outputs": [],
   "source": [
    "num_layers = 4\n",
    "embeding_dims = 128\n",
    "ffn_units = 512\n",
    "num_heads = 8\n",
    "\n",
    "    \n",
    "transformer = Transformer(num_layers = num_layers, embeding_dims = embeding_dims, num_heads = num_heads, ffn_units = ffn_units,\n",
    "                          input_vocab_size = vocab_en_size, target_vocab_size = vocab_cn_size, \n",
    "                          input_max_seq_len = vocab_en_size, \n",
    "                          target_max_seq_len = vocab_cn_size)"
   ]
  },
  {
   "cell_type": "code",
   "execution_count": 46,
   "metadata": {
    "colab": {},
    "colab_type": "code",
    "id": "7FzR6boy6ThC"
   },
   "outputs": [],
   "source": [
    "def loss_function(real, pred):\n",
    "    mask = tf.math.logical_not(tf.math.equal(real, 0))\n",
    "    loss_ = SparseCategoricalCrossentropy(from_logits=True, reduction='none')(real, pred)\n",
    "\n",
    "    mask = tf.cast(mask, dtype=loss_.dtype)\n",
    "    loss_ *= mask\n",
    "  \n",
    "    return tf.reduce_mean(loss_)"
   ]
  },
  {
   "cell_type": "code",
   "execution_count": 50,
   "metadata": {
    "colab": {},
    "colab_type": "code",
    "id": "Z9fkL0gR6ThG"
   },
   "outputs": [],
   "source": [
    "train_step_signature = [\n",
    "    tf.TensorSpec(shape=(None, None), dtype=tf.int32),\n",
    "    tf.TensorSpec(shape=(None, None), dtype=tf.int32),\n",
    "]\n",
    "\n",
    "@tf.function(input_signature=train_step_signature)\n",
    "def train_step(inp, tar):\n",
    "    tar_inp = tar[:, :-1]\n",
    "    tar_real = tar[:, 1:]\n",
    "  \n",
    "    enc_padding_mask, combined_mask, dec_padding_mask = create_masks(inp, tar_inp)\n",
    "  \n",
    "    with tf.GradientTape() as tape:\n",
    "        predictions, _ = transformer(inp, tar_inp, \n",
    "                                 True, \n",
    "                                 enc_padding_mask, \n",
    "                                 combined_mask, \n",
    "                                 dec_padding_mask)\n",
    "        loss = loss_function(tar_real, predictions)\n",
    "\n",
    "    gradients = tape.gradient(loss, transformer.trainable_variables)    \n",
    "    optimizer.apply_gradients(zip(gradients, transformer.trainable_variables))\n",
    "  \n",
    "    return loss"
   ]
  },
  {
   "cell_type": "markdown",
   "metadata": {
    "colab_type": "text",
    "id": "Tpud86HI6ThJ"
   },
   "source": [
    "# 训练"
   ]
  },
  {
   "cell_type": "code",
   "execution_count": 48,
   "metadata": {
    "colab": {},
    "colab_type": "code",
    "id": "GaWkxvLz6ThJ"
   },
   "outputs": [],
   "source": [
    "import time"
   ]
  },
  {
   "cell_type": "code",
   "execution_count": 53,
   "metadata": {
    "colab": {
     "base_uri": "https://localhost:8080/",
     "height": 1000
    },
    "colab_type": "code",
    "id": "ExWgcvAX6ThM",
    "outputId": "8797eab1-4511-43d8-999b-fe248c5a6137"
   },
   "outputs": [
    {
     "name": "stdout",
     "output_type": "stream",
     "text": [
      "Epoch 1 Loss 1.2583\n",
      "Epoch 2 Loss 1.2531\n",
      "Epoch 3 Loss 1.2450\n",
      "Epoch 4 Loss 1.2392\n",
      "Epoch 5 Loss 1.2349\n",
      "Epoch 6 Loss 1.2297\n",
      "Epoch 7 Loss 1.2288\n",
      "Epoch 8 Loss 1.2229\n",
      "Epoch 9 Loss 1.2153\n",
      "Epoch 10 Loss 1.2065\n",
      "Epoch 11 Loss 1.2025\n",
      "Epoch 12 Loss 1.2021\n",
      "Epoch 13 Loss 1.1955\n",
      "Epoch 14 Loss 1.1970\n",
      "Epoch 15 Loss 1.1853\n",
      "Epoch 16 Loss 1.1797\n",
      "Epoch 17 Loss 1.1773\n",
      "Epoch 18 Loss 1.1769\n",
      "Epoch 19 Loss 1.1674\n",
      "Epoch 20 Loss 1.1652\n",
      "Epoch 21 Loss 1.1615\n",
      "Epoch 22 Loss 1.1578\n",
      "Epoch 23 Loss 1.1536\n",
      "Epoch 24 Loss 1.1502\n",
      "Epoch 25 Loss 1.1464\n",
      "Epoch 26 Loss 1.1437\n",
      "Epoch 27 Loss 1.1417\n",
      "Epoch 28 Loss 1.1403\n",
      "Epoch 29 Loss 1.1329\n",
      "Epoch 30 Loss 1.1292\n",
      "Epoch 31 Loss 1.1297\n",
      "Epoch 32 Loss 1.1296\n",
      "Epoch 33 Loss 1.1212\n",
      "Epoch 34 Loss 1.1158\n",
      "Epoch 35 Loss 1.1156\n",
      "Epoch 36 Loss 1.1114\n",
      "Epoch 37 Loss 1.1147\n",
      "Epoch 38 Loss 1.1068\n",
      "Epoch 39 Loss 1.1048\n",
      "Epoch 40 Loss 1.1154\n",
      "Epoch 41 Loss 1.1011\n",
      "Epoch 42 Loss 1.0959\n",
      "Epoch 43 Loss 1.0937\n",
      "Epoch 44 Loss 1.0946\n",
      "Epoch 45 Loss 1.0922\n",
      "Epoch 46 Loss 1.0900\n",
      "Epoch 47 Loss 1.0842\n",
      "Epoch 48 Loss 1.0802\n",
      "Epoch 49 Loss 1.0872\n",
      "Epoch 50 Loss 1.0824\n",
      "Epoch 51 Loss 1.0754\n",
      "Epoch 52 Loss 1.0715\n",
      "Epoch 53 Loss 1.0673\n",
      "Epoch 54 Loss 1.0671\n",
      "Epoch 55 Loss 1.0275\n",
      "Epoch 56 Loss 1.0486\n",
      "Epoch 57 Loss 1.0521\n",
      "Epoch 58 Loss 1.0193\n",
      "Epoch 59 Loss 1.0074\n",
      "Epoch 60 Loss 1.0228\n",
      "Epoch 61 Loss 1.0189\n",
      "Epoch 62 Loss 1.0021\n",
      "Epoch 63 Loss 0.9972\n",
      "Epoch 64 Loss 1.0009\n",
      "Epoch 65 Loss 0.9905\n",
      "Epoch 66 Loss 0.9891\n",
      "Epoch 67 Loss 0.9833\n",
      "Epoch 68 Loss 0.9795\n",
      "Epoch 69 Loss 0.9845\n",
      "Epoch 70 Loss 0.9788\n",
      "Epoch 71 Loss 0.9694\n",
      "Epoch 72 Loss 0.9638\n",
      "Epoch 73 Loss 0.9648\n",
      "Epoch 74 Loss 0.9575\n",
      "Epoch 75 Loss 0.9507\n",
      "Epoch 76 Loss 0.9628\n",
      "Epoch 77 Loss 0.9555\n",
      "Epoch 78 Loss 0.9435\n",
      "Epoch 79 Loss 0.9407\n",
      "Epoch 80 Loss 0.9330\n",
      "Epoch 81 Loss 0.9311\n",
      "Epoch 82 Loss 0.9336\n",
      "Epoch 83 Loss 0.9322\n",
      "Epoch 84 Loss 0.9198\n",
      "Epoch 85 Loss 0.9179\n",
      "Epoch 86 Loss 0.9203\n",
      "Epoch 87 Loss 0.9129\n",
      "Epoch 88 Loss 0.9083\n",
      "Epoch 89 Loss 0.9025\n",
      "Epoch 90 Loss 0.9049\n",
      "Epoch 91 Loss 0.8947\n",
      "Epoch 92 Loss 0.9093\n",
      "Epoch 93 Loss 0.8972\n",
      "Epoch 94 Loss 0.8942\n",
      "Epoch 95 Loss 0.8879\n",
      "Epoch 96 Loss 0.8887\n",
      "Epoch 97 Loss 0.8817\n",
      "Epoch 98 Loss 0.8797\n",
      "Epoch 99 Loss 0.8921\n",
      "Epoch 100 Loss 0.8811\n",
      "CPU times: user 58min 3s, sys: 5min 50s, total: 1h 3min 54s\n",
      "Wall time: 1h 8min 35s\n"
     ]
    }
   ],
   "source": [
    "%%time\n",
    "EPOCHS = 100\n",
    "\n",
    "for epoch in range(EPOCHS):\n",
    "    total_loss = 0\n",
    "    for (batch_id, (inp, targ)) in enumerate(dataset.take(steps_per_epoch)):\n",
    "        batch_loss = train_step(inp, targ)\n",
    "        total_loss += batch_loss\n",
    "    \n",
    "    print('Epoch {} Loss {:.4f}'.format(epoch + 1,total_loss / steps_per_epoch))\n"
   ]
  },
  {
   "cell_type": "code",
   "execution_count": null,
   "metadata": {
    "colab": {},
    "colab_type": "code",
    "id": "7w5Dz1aBQiyl"
   },
   "outputs": [],
   "source": []
  }
 ],
 "metadata": {
  "accelerator": "GPU",
  "colab": {
   "collapsed_sections": [],
   "name": "transformer.ipynb",
   "provenance": []
  },
  "kernelspec": {
   "display_name": "Python 3",
   "language": "python",
   "name": "python3"
  },
  "language_info": {
   "codemirror_mode": {
    "name": "ipython",
    "version": 3
   },
   "file_extension": ".py",
   "mimetype": "text/x-python",
   "name": "python",
   "nbconvert_exporter": "python",
   "pygments_lexer": "ipython3",
   "version": "3.7.4"
  },
  "toc": {
   "base_numbering": 1,
   "nav_menu": {},
   "number_sections": true,
   "sideBar": true,
   "skip_h1_title": false,
   "title_cell": "Table of Contents",
   "title_sidebar": "Contents",
   "toc_cell": false,
   "toc_position": {},
   "toc_section_display": true,
   "toc_window_display": false
  }
 },
 "nbformat": 4,
 "nbformat_minor": 1
}
