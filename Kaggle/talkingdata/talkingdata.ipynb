{
 "cells": [
  {
   "cell_type": "markdown",
   "metadata": {
    "id": "fYHP2Kqr85Hc"
   },
   "source": [
    "# TalkingData Mobile User Demographics"
   ]
  },
  {
   "cell_type": "markdown",
   "metadata": {
    "id": "Omvhlvfm85Hf"
   },
   "source": [
    "https://www.kaggle.com/c/talkingdata-mobile-user-demographics/overview"
   ]
  },
  {
   "cell_type": "markdown",
   "metadata": {
    "id": "tSL14wXR85Hj"
   },
   "source": [
    "Score : 2.27826"
   ]
  },
  {
   "cell_type": "code",
   "execution_count": 1,
   "metadata": {
    "_cell_guid": "79c7e3d0-c299-4dcb-8224-4455121ee9b0",
    "_uuid": "d629ff2d2480ee46fbb7e2d37f6b5fab8052498a",
    "id": "fgRvFyR885Hn"
   },
   "outputs": [],
   "source": [
    "import pandas as pd\n",
    "import numpy as np\n",
    "import os\n",
    "from sklearn.model_selection import train_test_split\n",
    "from sklearn.metrics import log_loss\n",
    "from scipy.sparse import csr_matrix"
   ]
  },
  {
   "cell_type": "code",
   "execution_count": 2,
   "metadata": {
    "colab": {
     "base_uri": "https://localhost:8080/",
     "height": 56
    },
    "id": "rpWaCTL396lh",
    "outputId": "6bfd6eae-5ded-4b66-c932-8ae6a2aad13d"
   },
   "outputs": [
    {
     "name": "stdout",
     "output_type": "stream",
     "text": [
      "Drive already mounted at /content/drive/; to attempt to forcibly remount, call drive.mount(\"/content/drive/\", force_remount=True).\n"
     ]
    }
   ],
   "source": [
    "from google.colab import drive\n",
    "drive.mount('/content/drive/')"
   ]
  },
  {
   "cell_type": "code",
   "execution_count": 3,
   "metadata": {
    "id": "-4lieqZ-85H6"
   },
   "outputs": [],
   "source": [
    "import random\n",
    "import time\n",
    "random.seed(2020)"
   ]
  },
  {
   "cell_type": "code",
   "execution_count": 32,
   "metadata": {
    "id": "oDuibO9mNwij"
   },
   "outputs": [],
   "source": [
    "from sklearn.preprocessing import LabelEncoder"
   ]
  },
  {
   "cell_type": "markdown",
   "metadata": {
    "id": "HpRykcM185IG"
   },
   "source": [
    "# 数据预处理"
   ]
  },
  {
   "cell_type": "code",
   "execution_count": 4,
   "metadata": {
    "id": "114XAzjAJxIx"
   },
   "outputs": [],
   "source": [
    "def load_sparse(filename):\n",
    "    data = np.load(filename)\n",
    "    return csr_matrix((data['data'], data['indices'], data['indptr']), shape= data['shape'])\n"
   ]
  },
  {
   "cell_type": "code",
   "execution_count": 5,
   "metadata": {
    "id": "7PdyrIJeNf_1"
   },
   "outputs": [],
   "source": [
    "datadir = './drive/My Drive/talkingdata'"
   ]
  },
  {
   "cell_type": "code",
   "execution_count": 6,
   "metadata": {
    "id": "cHLfAZB8J2u6"
   },
   "outputs": [],
   "source": [
    "Xtrain = load_sparse(os.path.join(datadir,'Xtrain.npz'))\n",
    "Xtest = load_sparse(os.path.join(datadir,'Xtest.npz'))"
   ]
  },
  {
   "cell_type": "code",
   "execution_count": 7,
   "metadata": {
    "id": "cvGAJu5D85Ji"
   },
   "outputs": [],
   "source": [
    "train = pd.read_csv(os.path.join(datadir,'gender_age_train.csv.zip'))"
   ]
  },
  {
   "cell_type": "code",
   "execution_count": 18,
   "metadata": {
    "id": "5Rdf0op485Jq"
   },
   "outputs": [],
   "source": [
    "y_train = train.group"
   ]
  },
  {
   "cell_type": "code",
   "execution_count": 33,
   "metadata": {
    "colab": {
     "base_uri": "https://localhost:8080/",
     "height": 55
    },
    "id": "0EUNmKiCpK8S",
    "outputId": "01efb188-83b5-4953-f504-4bfef99e1fef"
   },
   "outputs": [
    {
     "name": "stdout",
     "output_type": "stream",
     "text": [
      "total number of target classes:  12 ['F23-' 'F24-26' 'F27-28' 'F29-32' 'F33-42' 'F43+' 'M22-' 'M23-26'\n",
      " 'M27-28' 'M29-31' 'M32-38' 'M39+']\n"
     ]
    }
   ],
   "source": [
    "y_encoder = LabelEncoder().fit(train.group)\n",
    "y_train = y_encoder.transform(train.group)\n",
    "yclasses_ = len(y_encoder.classes_)\n",
    "print('total number of target classes: ', yclasses_, y_encoder.classes_)"
   ]
  },
  {
   "cell_type": "code",
   "execution_count": 35,
   "metadata": {
    "colab": {
     "base_uri": "https://localhost:8080/",
     "height": 36
    },
    "id": "uF_CCcn9p394",
    "outputId": "c65aedd0-6271-44c1-f1fa-f21b03d68755"
   },
   "outputs": [
    {
     "data": {
      "text/plain": [
       "array([10, 10, 10, ...,  6, 10,  7])"
      ]
     },
     "execution_count": 35,
     "metadata": {
      "tags": []
     },
     "output_type": "execute_result"
    }
   ],
   "source": [
    "y_train"
   ]
  },
  {
   "cell_type": "markdown",
   "metadata": {
    "id": "qxKghsMc85Mv"
   },
   "source": [
    "# 机器学习模型"
   ]
  },
  {
   "cell_type": "code",
   "execution_count": 8,
   "metadata": {
    "id": "6u90B1K7rbR0"
   },
   "outputs": [],
   "source": [
    "from sklearn.metrics import log_loss"
   ]
  },
  {
   "cell_type": "code",
   "execution_count": 11,
   "metadata": {
    "id": "-6rdCHEw85Mv"
   },
   "outputs": [],
   "source": [
    "class SklearnHelper(object):\n",
    "    def __init__(self, clf, seed=None, params=None):\n",
    "        if seed:\n",
    "            params['random_state'] = seed\n",
    "        self.clf = clf(**params)\n",
    "\n",
    "    def train(self, x_train, y_train):\n",
    "        self.clf.fit(x_train, y_train)\n",
    "\n",
    "    def predict(self, x):\n",
    "        return self.clf.predict(x)\n",
    "    \n",
    "    def predict_proba(self, x):\n",
    "        return self.clf.predict_proba(x)\n",
    "\n",
    "    def fit(self,x,y):\n",
    "        return self.clf.fit(x,y)\n",
    "    \n",
    "    def score(self, x, y):\n",
    "        return self.clf.score(x, y)\n",
    "    \n",
    "    def get_name(self):\n",
    "        return str(self.clf).split('(')[0]\n",
    "\n",
    "    def get_clf(self):\n",
    "        return clf\n"
   ]
  },
  {
   "cell_type": "code",
   "execution_count": 22,
   "metadata": {
    "id": "CBi94DgR85M2"
   },
   "outputs": [],
   "source": [
    "def get_oof(clf, x_train, y_train, x_test,label_num = 12):\n",
    "    print(clf.get_name() + \" start ...\" )\n",
    "    start = time.time()\n",
    "    kf = model_selection.KFold(n_splits=5, shuffle=True, random_state=2020)\n",
    "    oof_train = np.zeros((x_train.shape[0], label_num))\n",
    "    oof_test = np.zeros((x_test.shape[0], label_num))\n",
    "    for i, (train_index, test_index) in enumerate(kf.split(x_train, y_train)):\n",
    "        x_tr = x_train[train_index]\n",
    "        y_tr = y_train[train_index]\n",
    "        x_te = x_train[test_index]\n",
    "        clf.train(x_tr, y_tr)\n",
    "            \n",
    "        oof_train[test_index] = clf.predict_proba(x_te)\n",
    "        oof_test += clf.predict_proba(x_test)\n",
    "        l_score = log_loss(y_train[test_index],oof_train[test_index])\n",
    "        print('times: ' , str(time.time() - start))\n",
    "        print('    Fold %d loss: %f' % (i , l_score))\n",
    "            \n",
    "    print('times: ' , str(time.time() - start))\n",
    "    return oof_train, oof_test / kf.n_splits"
   ]
  },
  {
   "cell_type": "code",
   "execution_count": 12,
   "metadata": {
    "id": "qW0azw1x85M8"
   },
   "outputs": [],
   "source": [
    "rf_params = {\n",
    "    'n_jobs': -1,\n",
    "    'n_estimators': 500,\n",
    "     'warm_start': True, \n",
    "     #'max_features': 0.2,\n",
    "    'max_depth': 6,\n",
    "    'min_samples_leaf': 2,\n",
    "    'max_features' : 'sqrt',\n",
    "    'verbose': 0\n",
    "}\n",
    "\n",
    "# Extra Trees Parameters\n",
    "et_params = {\n",
    "    'n_jobs': -1,\n",
    "    'n_estimators':500,\n",
    "    #'max_features': 0.5,\n",
    "    'max_depth': 8,\n",
    "    'min_samples_leaf': 2,\n",
    "    'verbose': 0\n",
    "}\n",
    "\n",
    "# AdaBoost parameters\n",
    "ada_params = {\n",
    "    'n_estimators': 500,\n",
    "    'learning_rate' : 0.75\n",
    "}\n",
    "\n",
    "\n",
    "gb_params = {\n",
    "    'n_estimators': 500,\n",
    "    'max_depth': 5,\n",
    "    'min_samples_leaf': 2,\n",
    "    'verbose': 0\n",
    "}\n",
    "\n",
    "lgb_params = {\n",
    "    'objective': 'multi:softprob',\n",
    "     'eta': 0.03,\n",
    "     'max_depth': 6,\n",
    "     'silent': 0,\n",
    "     'num_class': 3,\n",
    "     'eval_metric': 'mlogloss',\n",
    "     'min_child_weight': 1,\n",
    "     'subsample': 0.7,\n",
    "     'colsample_bytree': 0.7,\n",
    "     'nthread': 12\n",
    "}\n",
    "\n",
    "xgb_params = {\n",
    "    'objective': 'multi:softprob',\n",
    "     'eta': 0.03,\n",
    "     'max_depth': 6,\n",
    "     'silent': 0,\n",
    "     'num_class': 3,\n",
    "     'eval_metric': 'mlogloss',\n",
    "     'min_child_weight': 1,\n",
    "     'subsample': 0.7,\n",
    "     'colsample_bytree': 0.7,\n",
    "     'nthread': 12\n",
    "}"
   ]
  },
  {
   "cell_type": "code",
   "execution_count": 13,
   "metadata": {
    "id": "_75_soQ885NB"
   },
   "outputs": [],
   "source": [
    "from sklearn import model_selection"
   ]
  },
  {
   "cell_type": "code",
   "execution_count": 14,
   "metadata": {
    "id": "udDjs7lO85ND"
   },
   "outputs": [],
   "source": [
    "from sklearn.ensemble import (RandomForestClassifier, AdaBoostClassifier, \n",
    "                              GradientBoostingClassifier, ExtraTreesClassifier)\n",
    "from sklearn.linear_model import LogisticRegression\n",
    "from lightgbm import LGBMClassifier\n",
    "from xgboost import XGBClassifier"
   ]
  },
  {
   "cell_type": "code",
   "execution_count": 36,
   "metadata": {
    "id": "C85YlP6085NH"
   },
   "outputs": [],
   "source": [
    "SEED = 300\n",
    "rf = SklearnHelper(clf=RandomForestClassifier, seed=SEED, params=rf_params)\n",
    "et = SklearnHelper(clf=ExtraTreesClassifier, seed=SEED, params=et_params)\n",
    "ada = SklearnHelper(clf=AdaBoostClassifier, seed=SEED, params=ada_params)\n",
    "gb = SklearnHelper(clf=GradientBoostingClassifier, seed=SEED, params=gb_params)\n",
    "lgb = SklearnHelper(clf=LGBMClassifier, seed=SEED, params=lgb_params)\n",
    "xgb = SklearnHelper(clf=XGBClassifier, seed=SEED, params=xgb_params)"
   ]
  },
  {
   "cell_type": "code",
   "execution_count": 37,
   "metadata": {
    "colab": {
     "base_uri": "https://localhost:8080/",
     "height": 1000
    },
    "id": "WLIDV4U785NY",
    "outputId": "5b515951-f1ef-47e4-d5b7-5880293eae19"
   },
   "outputs": [
    {
     "name": "stdout",
     "output_type": "stream",
     "text": [
      "ExtraTreesClassifier start ...\n",
      "times:  33.73877763748169\n",
      "    Fold 0 loss: 2.382847\n",
      "times:  66.85583925247192\n",
      "    Fold 1 loss: 2.382000\n",
      "times:  98.86633443832397\n",
      "    Fold 2 loss: 2.380802\n",
      "times:  130.87490034103394\n",
      "    Fold 3 loss: 2.381786\n",
      "times:  163.3896198272705\n",
      "    Fold 4 loss: 2.389944\n",
      "times:  163.38984417915344\n",
      "RandomForestClassifier start ...\n",
      "times:  21.81128978729248\n",
      "    Fold 0 loss: 2.392088\n"
     ]
    },
    {
     "name": "stderr",
     "output_type": "stream",
     "text": [
      "/usr/local/lib/python3.6/dist-packages/sklearn/ensemble/_forest.py:359: UserWarning: Warm-start fitting without increasing n_estimators does not fit new trees.\n",
      "  warn(\"Warm-start fitting without increasing n_estimators does not \"\n"
     ]
    },
    {
     "name": "stdout",
     "output_type": "stream",
     "text": [
      "times:  29.53079390525818\n",
      "    Fold 1 loss: 2.382568\n"
     ]
    },
    {
     "name": "stderr",
     "output_type": "stream",
     "text": [
      "/usr/local/lib/python3.6/dist-packages/sklearn/ensemble/_forest.py:359: UserWarning: Warm-start fitting without increasing n_estimators does not fit new trees.\n",
      "  warn(\"Warm-start fitting without increasing n_estimators does not \"\n"
     ]
    },
    {
     "name": "stdout",
     "output_type": "stream",
     "text": [
      "times:  37.55006980895996\n",
      "    Fold 2 loss: 2.380660\n"
     ]
    },
    {
     "name": "stderr",
     "output_type": "stream",
     "text": [
      "/usr/local/lib/python3.6/dist-packages/sklearn/ensemble/_forest.py:359: UserWarning: Warm-start fitting without increasing n_estimators does not fit new trees.\n",
      "  warn(\"Warm-start fitting without increasing n_estimators does not \"\n"
     ]
    },
    {
     "name": "stdout",
     "output_type": "stream",
     "text": [
      "times:  45.56214451789856\n",
      "    Fold 3 loss: 2.382015\n"
     ]
    },
    {
     "name": "stderr",
     "output_type": "stream",
     "text": [
      "/usr/local/lib/python3.6/dist-packages/sklearn/ensemble/_forest.py:359: UserWarning: Warm-start fitting without increasing n_estimators does not fit new trees.\n",
      "  warn(\"Warm-start fitting without increasing n_estimators does not \"\n"
     ]
    },
    {
     "name": "stdout",
     "output_type": "stream",
     "text": [
      "times:  53.47763967514038\n",
      "    Fold 4 loss: 2.389935\n",
      "times:  53.477816343307495\n",
      "XGBClassifier start ...\n",
      "times:  123.18657445907593\n",
      "    Fold 0 loss: 2.295664\n",
      "times:  245.95054006576538\n",
      "    Fold 1 loss: 2.288511\n",
      "times:  368.4545660018921\n",
      "    Fold 2 loss: 2.292495\n",
      "times:  491.32444643974304\n",
      "    Fold 3 loss: 2.294728\n",
      "times:  614.5949122905731\n",
      "    Fold 4 loss: 2.304465\n",
      "times:  614.5951476097107\n",
      "LGBMClassifier start ...\n",
      "times:  73.75813722610474\n",
      "    Fold 0 loss: 2.297780\n",
      "times:  147.70374274253845\n",
      "    Fold 1 loss: 2.288606\n",
      "times:  223.45040249824524\n",
      "    Fold 2 loss: 2.294831\n",
      "times:  302.347368478775\n",
      "    Fold 3 loss: 2.298991\n",
      "times:  384.03445863723755\n",
      "    Fold 4 loss: 2.308026\n",
      "times:  384.03471183776855\n",
      "CPU times: user 36min 47s, sys: 1min 16s, total: 38min 4s\n",
      "Wall time: 20min 15s\n"
     ]
    }
   ],
   "source": [
    "%%time\n",
    "et_oof_train, et_oof_test = get_oof(et, Xtrain, y_train, Xtest) \n",
    "rf_oof_train, rf_oof_test = get_oof(rf,Xtrain, y_train, Xtest) \n",
    "#ada_oof_train, ada_oof_test = get_oof(ada, Xtrain, y_train, Xtest) \n",
    "xgb_oof_train, xgb_oof_test = get_oof(xgb,Xtrain, y_train, Xtest)\n",
    "lgb_oof_train, lgb_oof_test = get_oof(lgb,Xtrain, y_train, Xtest) "
   ]
  },
  {
   "cell_type": "code",
   "execution_count": 38,
   "metadata": {
    "colab": {
     "base_uri": "https://localhost:8080/",
     "height": 36
    },
    "id": "ZYVZ3epmPSvu",
    "outputId": "5a7ed8bf-4f1c-42ad-8746-1ded109a755e"
   },
   "outputs": [
    {
     "data": {
      "text/plain": [
       "112071"
      ]
     },
     "execution_count": 38,
     "metadata": {
      "tags": []
     },
     "output_type": "execute_result"
    }
   ],
   "source": [
    "len(lgb_oof_test)"
   ]
  },
  {
   "cell_type": "markdown",
   "metadata": {
    "id": "dnO8lFuRJdsR"
   },
   "source": [
    "# stack 模型融合"
   ]
  },
  {
   "cell_type": "code",
   "execution_count": 39,
   "metadata": {
    "id": "mr0UkjUoJpty"
   },
   "outputs": [],
   "source": [
    "params = {\n",
    "    \"n_estimators\" : 2000,\n",
    "    \"objective\": \"multi:softprob\",\n",
    "    \"num_class\": 12,\n",
    "    \"booster\" : \"gbtree\",\n",
    "    \"eval_metric\": \"mlogloss\",\n",
    "    \"eta\": 0.3,\n",
    "    \"max_depth\": 3,\n",
    "    \"subsample\": 0.7,\n",
    "    \"colsample_bytree\": 0.7,\n",
    "    \"silent\": 1,\n",
    "    \"seed\": 0,\n",
    "    }"
   ]
  },
  {
   "cell_type": "code",
   "execution_count": 40,
   "metadata": {
    "id": "nV6Nml6KFgSG"
   },
   "outputs": [],
   "source": [
    "x_train = np.concatenate(( et_oof_train, rf_oof_train, \n",
    "                          xgb_oof_train, lgb_oof_train), axis=1)\n",
    "x_test = np.concatenate((  et_oof_test, rf_oof_test, \n",
    "                          xgb_oof_test, lgb_oof_test), axis=1)"
   ]
  },
  {
   "cell_type": "code",
   "execution_count": 183,
   "metadata": {
    "colab": {
     "base_uri": "https://localhost:8080/",
     "height": 36
    },
    "id": "rJbBm47aPXRl",
    "outputId": "d7980142-44e0-4da9-998a-40929ff4589a"
   },
   "outputs": [
    {
     "data": {
      "text/plain": [
       "(112071, 72)"
      ]
     },
     "execution_count": 183,
     "metadata": {
      "tags": []
     },
     "output_type": "execute_result"
    }
   ],
   "source": [
    "x_test.shape"
   ]
  },
  {
   "cell_type": "code",
   "execution_count": 27,
   "metadata": {
    "id": "4VG6Tto2LkXs"
   },
   "outputs": [],
   "source": [
    "import xgboost"
   ]
  },
  {
   "cell_type": "code",
   "execution_count": 41,
   "metadata": {
    "id": "feD6Hppt85Ne"
   },
   "outputs": [],
   "source": [
    "dtrain = xgboost.DMatrix(x_train, y_train)\n",
    "dtest = xgboost.DMatrix(x_test)"
   ]
  },
  {
   "cell_type": "code",
   "execution_count": 42,
   "metadata": {
    "id": "ahn9nsIe85Nl"
   },
   "outputs": [],
   "source": [
    "watchlist = [(dtrain, 'train')]"
   ]
  },
  {
   "cell_type": "code",
   "execution_count": 43,
   "metadata": {
    "colab": {
     "base_uri": "https://localhost:8080/",
     "height": 1000
    },
    "id": "fRv1NnMZ85No",
    "outputId": "f0974647-75bd-49af-be15-9c1e1ac42cf5"
   },
   "outputs": [
    {
     "name": "stdout",
     "output_type": "stream",
     "text": [
      "[0]\ttrain-mlogloss:2.40739\n",
      "Will train until train-mlogloss hasn't improved in 50 rounds.\n",
      "[1]\ttrain-mlogloss:2.36294\n",
      "[2]\ttrain-mlogloss:2.33043\n",
      "[3]\ttrain-mlogloss:2.30706\n",
      "[4]\ttrain-mlogloss:2.28811\n",
      "[5]\ttrain-mlogloss:2.27468\n",
      "[6]\ttrain-mlogloss:2.26405\n",
      "[7]\ttrain-mlogloss:2.25504\n",
      "[8]\ttrain-mlogloss:2.24781\n",
      "[9]\ttrain-mlogloss:2.24103\n",
      "[10]\ttrain-mlogloss:2.23617\n",
      "[11]\ttrain-mlogloss:2.23146\n",
      "[12]\ttrain-mlogloss:2.22736\n",
      "[13]\ttrain-mlogloss:2.22346\n",
      "[14]\ttrain-mlogloss:2.2198\n",
      "[15]\ttrain-mlogloss:2.2164\n",
      "[16]\ttrain-mlogloss:2.21326\n",
      "[17]\ttrain-mlogloss:2.20995\n",
      "[18]\ttrain-mlogloss:2.20748\n",
      "[19]\ttrain-mlogloss:2.20451\n",
      "[20]\ttrain-mlogloss:2.20174\n",
      "[21]\ttrain-mlogloss:2.19945\n",
      "[22]\ttrain-mlogloss:2.1974\n",
      "[23]\ttrain-mlogloss:2.19463\n",
      "[24]\ttrain-mlogloss:2.19238\n",
      "[25]\ttrain-mlogloss:2.19026\n",
      "[26]\ttrain-mlogloss:2.18847\n",
      "[27]\ttrain-mlogloss:2.18651\n",
      "[28]\ttrain-mlogloss:2.1846\n",
      "[29]\ttrain-mlogloss:2.18234\n",
      "[30]\ttrain-mlogloss:2.18039\n",
      "[31]\ttrain-mlogloss:2.17848\n",
      "[32]\ttrain-mlogloss:2.17639\n",
      "[33]\ttrain-mlogloss:2.17469\n",
      "[34]\ttrain-mlogloss:2.17312\n",
      "[35]\ttrain-mlogloss:2.17128\n",
      "[36]\ttrain-mlogloss:2.16977\n",
      "[37]\ttrain-mlogloss:2.16784\n",
      "[38]\ttrain-mlogloss:2.1659\n",
      "[39]\ttrain-mlogloss:2.1642\n",
      "[40]\ttrain-mlogloss:2.16267\n",
      "[41]\ttrain-mlogloss:2.16107\n",
      "[42]\ttrain-mlogloss:2.15939\n",
      "[43]\ttrain-mlogloss:2.15803\n",
      "[44]\ttrain-mlogloss:2.1564\n",
      "[45]\ttrain-mlogloss:2.15464\n",
      "[46]\ttrain-mlogloss:2.15269\n",
      "[47]\ttrain-mlogloss:2.15099\n",
      "[48]\ttrain-mlogloss:2.14973\n",
      "[49]\ttrain-mlogloss:2.14817\n",
      "[50]\ttrain-mlogloss:2.14693\n",
      "[51]\ttrain-mlogloss:2.14505\n",
      "[52]\ttrain-mlogloss:2.14357\n",
      "[53]\ttrain-mlogloss:2.1423\n",
      "[54]\ttrain-mlogloss:2.14083\n",
      "[55]\ttrain-mlogloss:2.13959\n",
      "[56]\ttrain-mlogloss:2.13828\n",
      "[57]\ttrain-mlogloss:2.13688\n",
      "[58]\ttrain-mlogloss:2.13546\n",
      "[59]\ttrain-mlogloss:2.13404\n",
      "[60]\ttrain-mlogloss:2.13264\n",
      "[61]\ttrain-mlogloss:2.13146\n",
      "[62]\ttrain-mlogloss:2.12986\n",
      "[63]\ttrain-mlogloss:2.12865\n",
      "[64]\ttrain-mlogloss:2.12704\n",
      "[65]\ttrain-mlogloss:2.12569\n",
      "[66]\ttrain-mlogloss:2.12445\n",
      "[67]\ttrain-mlogloss:2.12297\n",
      "[68]\ttrain-mlogloss:2.12168\n",
      "[69]\ttrain-mlogloss:2.12032\n",
      "[70]\ttrain-mlogloss:2.1191\n",
      "[71]\ttrain-mlogloss:2.11773\n",
      "[72]\ttrain-mlogloss:2.11659\n",
      "[73]\ttrain-mlogloss:2.11524\n",
      "[74]\ttrain-mlogloss:2.11395\n",
      "[75]\ttrain-mlogloss:2.11281\n",
      "[76]\ttrain-mlogloss:2.11138\n",
      "[77]\ttrain-mlogloss:2.10993\n",
      "[78]\ttrain-mlogloss:2.10858\n",
      "[79]\ttrain-mlogloss:2.10746\n",
      "[80]\ttrain-mlogloss:2.10619\n",
      "[81]\ttrain-mlogloss:2.10513\n",
      "[82]\ttrain-mlogloss:2.10384\n",
      "[83]\ttrain-mlogloss:2.10249\n",
      "[84]\ttrain-mlogloss:2.10139\n",
      "[85]\ttrain-mlogloss:2.10031\n",
      "[86]\ttrain-mlogloss:2.0992\n",
      "[87]\ttrain-mlogloss:2.09794\n",
      "[88]\ttrain-mlogloss:2.09667\n",
      "[89]\ttrain-mlogloss:2.0955\n",
      "[90]\ttrain-mlogloss:2.09456\n",
      "[91]\ttrain-mlogloss:2.09327\n",
      "[92]\ttrain-mlogloss:2.09218\n",
      "[93]\ttrain-mlogloss:2.09112\n",
      "[94]\ttrain-mlogloss:2.09\n",
      "[95]\ttrain-mlogloss:2.08865\n",
      "[96]\ttrain-mlogloss:2.0877\n",
      "[97]\ttrain-mlogloss:2.08647\n",
      "[98]\ttrain-mlogloss:2.08541\n",
      "[99]\ttrain-mlogloss:2.08446\n"
     ]
    }
   ],
   "source": [
    "xgb_model = xgboost.train(params, dtrain, 100, early_stopping_rounds = 50, evals=watchlist, verbose_eval=True)"
   ]
  },
  {
   "cell_type": "code",
   "execution_count": 45,
   "metadata": {
    "id": "kzWno2Lo85Ns"
   },
   "outputs": [],
   "source": [
    "test_pred = xgb_model.predict(dtest)"
   ]
  },
  {
   "cell_type": "code",
   "execution_count": 46,
   "metadata": {
    "colab": {
     "base_uri": "https://localhost:8080/",
     "height": 36
    },
    "id": "c53qwnss85Nu",
    "outputId": "2bd7054a-3434-4ac3-97da-7608cd96feb7"
   },
   "outputs": [
    {
     "data": {
      "text/plain": [
       "112071"
      ]
     },
     "execution_count": 46,
     "metadata": {
      "tags": []
     },
     "output_type": "execute_result"
    }
   ],
   "source": [
    "len(test_pred)"
   ]
  },
  {
   "cell_type": "markdown",
   "metadata": {
    "id": "ePxjIV2_85OI"
   },
   "source": [
    "# 生成提交文件"
   ]
  },
  {
   "cell_type": "code",
   "execution_count": 51,
   "metadata": {
    "id": "8Bs7_40HvsTL"
   },
   "outputs": [],
   "source": [
    "test = pd.read_csv(os.path.join(datadir,\"gender_age_test.csv.zip\"), index_col='device_id')"
   ]
  },
  {
   "cell_type": "code",
   "execution_count": 49,
   "metadata": {
    "id": "ccUV9XRF85OP"
   },
   "outputs": [],
   "source": [
    "submit = pd.DataFrame(test_pred, columns=list(y_encoder.classes_))"
   ]
  },
  {
   "cell_type": "code",
   "execution_count": 52,
   "metadata": {
    "id": "8KsqlDci85OR"
   },
   "outputs": [],
   "source": [
    "submit[\"device_id\"] = test.index\n",
    "submit = submit.set_index(\"device_id\")"
   ]
  },
  {
   "cell_type": "code",
   "execution_count": 53,
   "metadata": {
    "id": "pmdC468Y85OY"
   },
   "outputs": [],
   "source": [
    "submit = submit[['F23-','F24-26','F27-28','F29-32','F33-42','F43+','M22-','M23-26','M27-28','M29-31','M32-38','M39+']]"
   ]
  },
  {
   "cell_type": "code",
   "execution_count": 54,
   "metadata": {
    "colab": {
     "base_uri": "https://localhost:8080/",
     "height": 36
    },
    "id": "RywxShY6O4Ox",
    "outputId": "9d323aa8-3264-4271-9f5f-f3149c5a3c0d"
   },
   "outputs": [
    {
     "data": {
      "text/plain": [
       "112071"
      ]
     },
     "execution_count": 54,
     "metadata": {
      "tags": []
     },
     "output_type": "execute_result"
    }
   ],
   "source": [
    "len(submit)"
   ]
  },
  {
   "cell_type": "code",
   "execution_count": 55,
   "metadata": {
    "id": "u8dm5Ysy85Oc"
   },
   "outputs": [],
   "source": [
    "submit.to_csv('submission.csv', index=True,index_label='device_id')"
   ]
  },
  {
   "cell_type": "code",
   "execution_count": 56,
   "metadata": {
    "colab": {
     "base_uri": "https://localhost:8080/",
     "height": 17
    },
    "id": "WnRrlYxq85Of",
    "outputId": "927c3ff7-6514-4319-8c3a-788a4ea187a6"
   },
   "outputs": [
    {
     "data": {
      "application/javascript": [
       "\n",
       "    async function download(id, filename, size) {\n",
       "      if (!google.colab.kernel.accessAllowed) {\n",
       "        return;\n",
       "      }\n",
       "      const div = document.createElement('div');\n",
       "      const label = document.createElement('label');\n",
       "      label.textContent = `Downloading \"${filename}\": `;\n",
       "      div.appendChild(label);\n",
       "      const progress = document.createElement('progress');\n",
       "      progress.max = size;\n",
       "      div.appendChild(progress);\n",
       "      document.body.appendChild(div);\n",
       "\n",
       "      const buffers = [];\n",
       "      let downloaded = 0;\n",
       "\n",
       "      const channel = await google.colab.kernel.comms.open(id);\n",
       "      // Send a message to notify the kernel that we're ready.\n",
       "      channel.send({})\n",
       "\n",
       "      for await (const message of channel.messages) {\n",
       "        // Send a message to notify the kernel that we're ready.\n",
       "        channel.send({})\n",
       "        if (message.buffers) {\n",
       "          for (const buffer of message.buffers) {\n",
       "            buffers.push(buffer);\n",
       "            downloaded += buffer.byteLength;\n",
       "            progress.value = downloaded;\n",
       "          }\n",
       "        }\n",
       "      }\n",
       "      const blob = new Blob(buffers, {type: 'application/binary'});\n",
       "      const a = document.createElement('a');\n",
       "      a.href = window.URL.createObjectURL(blob);\n",
       "      a.download = filename;\n",
       "      div.appendChild(a);\n",
       "      a.click();\n",
       "      div.remove();\n",
       "    }\n",
       "  "
      ],
      "text/plain": [
       "<IPython.core.display.Javascript object>"
      ]
     },
     "metadata": {
      "tags": []
     },
     "output_type": "display_data"
    },
    {
     "data": {
      "application/javascript": [
       "download(\"download_073461a7-55ad-40e4-ac4e-e5e0b1ed4f2b\", \"submission.csv\", 17587539)"
      ],
      "text/plain": [
       "<IPython.core.display.Javascript object>"
      ]
     },
     "metadata": {
      "tags": []
     },
     "output_type": "display_data"
    }
   ],
   "source": [
    "from google.colab import files\n",
    "files.download('submission.csv')"
   ]
  },
  {
   "cell_type": "code",
   "execution_count": null,
   "metadata": {
    "id": "zLFUYeBlONVu"
   },
   "outputs": [],
   "source": []
  }
 ],
 "metadata": {
  "accelerator": "GPU",
  "colab": {
   "collapsed_sections": [],
   "name": "talkingdata.ipynb",
   "provenance": []
  },
  "kernelspec": {
   "display_name": "Python 3",
   "language": "python",
   "name": "python3"
  },
  "language_info": {
   "codemirror_mode": {
    "name": "ipython",
    "version": 3
   },
   "file_extension": ".py",
   "mimetype": "text/x-python",
   "name": "python",
   "nbconvert_exporter": "python",
   "pygments_lexer": "ipython3",
   "version": "3.7.4"
  },
  "toc": {
   "base_numbering": 1,
   "nav_menu": {},
   "number_sections": true,
   "sideBar": true,
   "skip_h1_title": false,
   "title_cell": "Table of Contents",
   "title_sidebar": "Contents",
   "toc_cell": false,
   "toc_position": {},
   "toc_section_display": true,
   "toc_window_display": false
  }
 },
 "nbformat": 4,
 "nbformat_minor": 1
}
