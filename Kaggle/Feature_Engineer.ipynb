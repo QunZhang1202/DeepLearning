{
 "cells": [
  {
   "cell_type": "code",
   "execution_count": 1,
   "metadata": {
    "id": "F-xvMgphNC5N"
   },
   "outputs": [],
   "source": [
    "import pandas as pd\n",
    "import numpy as np\n",
    "import os"
   ]
  },
  {
   "cell_type": "code",
   "execution_count": 2,
   "metadata": {
    "id": "kEgqYmKHtPyd"
   },
   "outputs": [],
   "source": [
    "from sklearn.preprocessing import LabelEncoder\n",
    "from scipy.sparse import csr_matrix, hstack"
   ]
  },
  {
   "cell_type": "code",
   "execution_count": 3,
   "metadata": {
    "colab": {
     "base_uri": "https://localhost:8080/",
     "height": 36
    },
    "id": "MtIyx3hmNxvh",
    "outputId": "ef3009f9-43fa-4eaf-c2c1-2bdbf6aadf74"
   },
   "outputs": [
    {
     "name": "stdout",
     "output_type": "stream",
     "text": [
      "Mounted at /content/drive/\n"
     ]
    }
   ],
   "source": [
    "from google.colab import drive\n",
    "drive.mount('/content/drive/')"
   ]
  },
  {
   "cell_type": "code",
   "execution_count": 4,
   "metadata": {
    "id": "GLYlvkOKN5pH"
   },
   "outputs": [],
   "source": [
    "import random\n",
    "import time\n",
    "random.seed(2020)"
   ]
  },
  {
   "cell_type": "code",
   "execution_count": 5,
   "metadata": {
    "id": "RHucuZikN9lX"
   },
   "outputs": [],
   "source": [
    "datadir = './drive/My Drive/talkingdata'"
   ]
  },
  {
   "cell_type": "code",
   "execution_count": 6,
   "metadata": {
    "colab": {
     "base_uri": "https://localhost:8080/",
     "height": 75
    },
    "id": "NU-ExaAGNE-W",
    "outputId": "27f786af-333c-469b-88f0-0cbda9a62547"
   },
   "outputs": [
    {
     "name": "stderr",
     "output_type": "stream",
     "text": [
      "/usr/local/lib/python3.6/dist-packages/numpy/lib/arraysetops.py:569: FutureWarning: elementwise comparison failed; returning scalar instead, but in the future will perform elementwise comparison\n",
      "  mask |= (ar1 == a)\n"
     ]
    }
   ],
   "source": [
    "train = pd.read_csv(os.path.join(datadir, \"gender_age_train.csv.zip\"), index_col='device_id')\n",
    "test = pd.read_csv(os.path.join(datadir,\"gender_age_test.csv.zip\"), index_col='device_id')\n",
    "phone_data = pd.read_csv(os.path.join(datadir,\"phone_brand_device_model.csv.zip\")).drop_duplicates('device_id',keep='first').set_index('device_id')\n",
    "events = pd.read_csv(os.path.join(datadir,\"events.csv.zip\"), index_col='event_id')\n",
    "app_events = pd.read_csv(os.path.join(datadir,\"app_events.csv.zip\"), usecols=['event_id','app_id','is_active'], dtype={'is_active': bool}, index_col='event_id')\n",
    "app_labels = pd.read_csv(os.path.join(datadir,\"app_labels.csv.zip\"))\n",
    "label_cate = pd.read_csv(os.path.join(datadir,\"label_categories.csv.zip\"))\n"
   ]
  },
  {
   "cell_type": "code",
   "execution_count": 7,
   "metadata": {
    "id": "nQSME6ZBtgHt"
   },
   "outputs": [],
   "source": [
    "train['train_index'], test['test_index'] = np.arange(train.shape[0]), np.arange(test.shape[0])\n",
    "train = train.drop(['gender','age'], axis=1)"
   ]
  },
  {
   "cell_type": "code",
   "execution_count": 8,
   "metadata": {
    "colab": {
     "base_uri": "https://localhost:8080/",
     "height": 75
    },
    "id": "nDoZhfLGtxNh",
    "outputId": "d1e60602-befa-4f2e-c30e-1f96a57241d6"
   },
   "outputs": [
    {
     "name": "stdout",
     "output_type": "stream",
     "text": [
      "total number of target classes:  12 ['F23-' 'F24-26' 'F27-28' 'F29-32' 'F33-42' 'F43+' 'M22-' 'M23-26'\n",
      " 'M27-28' 'M29-31' 'M32-38' 'M39+']\n"
     ]
    }
   ],
   "source": [
    "y_encoder = LabelEncoder().fit(train.group)\n",
    "train['group'] = y_encoder.transform(train.group)\n",
    "yclasses_ = len(y_encoder.classes_)\n",
    "print('total number of target classes: ', yclasses_, y_encoder.classes_)"
   ]
  },
  {
   "cell_type": "code",
   "execution_count": 9,
   "metadata": {
    "id": "QnHJm1SSt4p0"
   },
   "outputs": [],
   "source": [
    "#Join App and label"
   ]
  },
  {
   "cell_type": "code",
   "execution_count": 10,
   "metadata": {
    "id": "cqTxSzCeidIB"
   },
   "outputs": [],
   "source": [
    "app_labels = app_labels.loc[app_labels.app_id.isin(app_events.app_id.unique())]\n",
    "app_encoder = LabelEncoder().fit(app_events.app_id)\n",
    "label_encoder = LabelEncoder().fit(app_labels.label_id)\n",
    "app_events['app'] = app_encoder.transform(app_events.app_id)\n",
    "app_labels['app'] = app_encoder.transform(app_labels.app_id)\n",
    "app_labels['label'] = label_encoder.transform(app_labels.label_id)\n",
    "app_id_to_label = app_labels.join(label_cate, how='left', on='label_id', lsuffix='k')[['app_id','app','label','category']]\n",
    "joined_app_events = app_events.join(events)\n",
    "joined_app_events = joined_app_events.groupby(['device_id','app'])['app'].agg(['size'])\n",
    "joined_app_events = ((joined_app_events.join(train['train_index'], how='left')).join(test['test_index'], how='left')).reset_index()"
   ]
  },
  {
   "cell_type": "code",
   "execution_count": 11,
   "metadata": {
    "id": "SvUgOzJziV2b"
   },
   "outputs": [],
   "source": [
    "joined_labels = joined_app_events.merge(app_labels[['app','label']])[['device_id','label','app']]\n",
    "joined_labels = joined_labels.groupby(['device_id','label'])['app'].agg(['size'])\n",
    "joined_labels = ((joined_labels.join(train['train_index'], how='left')).join(test['test_index'], how='left')).reset_index()\n"
   ]
  },
  {
   "cell_type": "code",
   "execution_count": 12,
   "metadata": {
    "colab": {
     "base_uri": "https://localhost:8080/",
     "height": 112
    },
    "id": "ZhrnxvozGITk",
    "outputId": "621e5d55-1cda-4f87-ca4e-316b993698a0"
   },
   "outputs": [
    {
     "data": {
      "text/html": [
       "<div>\n",
       "<style scoped>\n",
       "    .dataframe tbody tr th:only-of-type {\n",
       "        vertical-align: middle;\n",
       "    }\n",
       "\n",
       "    .dataframe tbody tr th {\n",
       "        vertical-align: top;\n",
       "    }\n",
       "\n",
       "    .dataframe thead th {\n",
       "        text-align: right;\n",
       "    }\n",
       "</style>\n",
       "<table border=\"1\" class=\"dataframe\">\n",
       "  <thead>\n",
       "    <tr style=\"text-align: right;\">\n",
       "      <th></th>\n",
       "      <th>device_id</th>\n",
       "      <th>label</th>\n",
       "      <th>size</th>\n",
       "      <th>train_index</th>\n",
       "      <th>test_index</th>\n",
       "    </tr>\n",
       "  </thead>\n",
       "  <tbody>\n",
       "    <tr>\n",
       "      <th>0</th>\n",
       "      <td>-9222956879900151005</td>\n",
       "      <td>117</td>\n",
       "      <td>1</td>\n",
       "      <td>21594.0</td>\n",
       "      <td>NaN</td>\n",
       "    </tr>\n",
       "    <tr>\n",
       "      <th>1</th>\n",
       "      <td>-9222956879900151005</td>\n",
       "      <td>120</td>\n",
       "      <td>1</td>\n",
       "      <td>21594.0</td>\n",
       "      <td>NaN</td>\n",
       "    </tr>\n",
       "  </tbody>\n",
       "</table>\n",
       "</div>"
      ],
      "text/plain": [
       "             device_id  label  size  train_index  test_index\n",
       "0 -9222956879900151005    117     1      21594.0         NaN\n",
       "1 -9222956879900151005    120     1      21594.0         NaN"
      ]
     },
     "execution_count": 12,
     "metadata": {
      "tags": []
     },
     "output_type": "execute_result"
    }
   ],
   "source": [
    "joined_labels.head(2)"
   ]
  },
  {
   "cell_type": "code",
   "execution_count": 13,
   "metadata": {
    "id": "uZ3kWCg5tew-"
   },
   "outputs": [],
   "source": [
    "\"\"\" 1 - Brand \"\"\"\n",
    "brand_encoder = LabelEncoder().fit(phone_data.phone_brand)\n",
    "phone_data['converted_brand_only'] = brand_encoder.transform(phone_data.phone_brand)\n",
    "\n",
    "train['brand_only'] = phone_data['converted_brand_only']\n",
    "test['brand_only'] = phone_data['converted_brand_only']\n",
    "\n",
    "sparse_train_brand_only = csr_matrix((np.ones(train.shape[0]), (train.train_index, train.brand_only)))\n",
    "sparse_test_brand_only = csr_matrix((np.ones(test.shape[0]), (test.test_index, test.brand_only)))"
   ]
  },
  {
   "cell_type": "code",
   "execution_count": 14,
   "metadata": {
    "colab": {
     "base_uri": "https://localhost:8080/",
     "height": 175
    },
    "id": "fUfI0UeyRVqF",
    "outputId": "9179bba6-64d6-4182-b03a-d15b640281ef"
   },
   "outputs": [
    {
     "data": {
      "text/html": [
       "<div>\n",
       "<style scoped>\n",
       "    .dataframe tbody tr th:only-of-type {\n",
       "        vertical-align: middle;\n",
       "    }\n",
       "\n",
       "    .dataframe tbody tr th {\n",
       "        vertical-align: top;\n",
       "    }\n",
       "\n",
       "    .dataframe thead th {\n",
       "        text-align: right;\n",
       "    }\n",
       "</style>\n",
       "<table border=\"1\" class=\"dataframe\">\n",
       "  <thead>\n",
       "    <tr style=\"text-align: right;\">\n",
       "      <th></th>\n",
       "      <th>group</th>\n",
       "      <th>train_index</th>\n",
       "      <th>brand_only</th>\n",
       "    </tr>\n",
       "    <tr>\n",
       "      <th>device_id</th>\n",
       "      <th></th>\n",
       "      <th></th>\n",
       "      <th></th>\n",
       "    </tr>\n",
       "  </thead>\n",
       "  <tbody>\n",
       "    <tr>\n",
       "      <th>-8076087639492063270</th>\n",
       "      <td>10</td>\n",
       "      <td>0</td>\n",
       "      <td>51</td>\n",
       "    </tr>\n",
       "    <tr>\n",
       "      <th>-2897161552818060146</th>\n",
       "      <td>10</td>\n",
       "      <td>1</td>\n",
       "      <td>51</td>\n",
       "    </tr>\n",
       "    <tr>\n",
       "      <th>-8260683887967679142</th>\n",
       "      <td>10</td>\n",
       "      <td>2</td>\n",
       "      <td>51</td>\n",
       "    </tr>\n",
       "  </tbody>\n",
       "</table>\n",
       "</div>"
      ],
      "text/plain": [
       "                      group  train_index  brand_only\n",
       "device_id                                           \n",
       "-8076087639492063270     10            0          51\n",
       "-2897161552818060146     10            1          51\n",
       "-8260683887967679142     10            2          51"
      ]
     },
     "execution_count": 14,
     "metadata": {
      "tags": []
     },
     "output_type": "execute_result"
    }
   ],
   "source": [
    "train.head(3)"
   ]
  },
  {
   "cell_type": "code",
   "execution_count": 15,
   "metadata": {
    "id": "gSJhP040tOx6"
   },
   "outputs": [],
   "source": [
    "\"\"\" 2 - Event time \"\"\"\n",
    "events['hour'] = pd.to_datetime(events['timestamp']).dt.hour\n",
    "stampping = events.groupby(['device_id','hour'])['timestamp'].agg(['size'])\n",
    "stampping = ((stampping.join(train['train_index'], how='left')).join(test['test_index'], how='left')).reset_index()\n",
    "d = stampping.dropna(subset=['train_index'])\n",
    "sparse_event_time_train = csr_matrix((np.ones(d.shape[0]), (d.train_index, d.hour)), shape=(train.shape[0], 24))\n",
    "d = stampping.dropna(subset=['test_index'])\n",
    "sparse_event_time_test = csr_matrix((np.ones(d.shape[0]), (d.test_index,d.hour)), shape=(test.shape[0], 24))"
   ]
  },
  {
   "cell_type": "code",
   "execution_count": 16,
   "metadata": {
    "colab": {
     "base_uri": "https://localhost:8080/",
     "height": 111
    },
    "id": "mkUjrPqvXo9M",
    "outputId": "2225dd5d-acb0-467f-a039-c5462c5f04c8"
   },
   "outputs": [
    {
     "data": {
      "text/plain": [
       "event_id\n",
       "1    2016-05-01 00:55:25\n",
       "2    2016-05-01 00:54:12\n",
       "3    2016-05-01 00:08:05\n",
       "Name: timestamp, dtype: object"
      ]
     },
     "execution_count": 16,
     "metadata": {
      "tags": []
     },
     "output_type": "execute_result"
    }
   ],
   "source": [
    "events['timestamp'].head(3)"
   ]
  },
  {
   "cell_type": "code",
   "execution_count": 17,
   "metadata": {
    "colab": {
     "base_uri": "https://localhost:8080/",
     "height": 175
    },
    "id": "HJQP9RoGX6LW",
    "outputId": "455d1e17-baaf-48e1-b537-419058040fe5"
   },
   "outputs": [
    {
     "data": {
      "text/html": [
       "<div>\n",
       "<style scoped>\n",
       "    .dataframe tbody tr th:only-of-type {\n",
       "        vertical-align: middle;\n",
       "    }\n",
       "\n",
       "    .dataframe tbody tr th {\n",
       "        vertical-align: top;\n",
       "    }\n",
       "\n",
       "    .dataframe thead th {\n",
       "        text-align: right;\n",
       "    }\n",
       "</style>\n",
       "<table border=\"1\" class=\"dataframe\">\n",
       "  <thead>\n",
       "    <tr style=\"text-align: right;\">\n",
       "      <th></th>\n",
       "      <th>phone_brand</th>\n",
       "      <th>device_model</th>\n",
       "      <th>converted_brand_only</th>\n",
       "    </tr>\n",
       "    <tr>\n",
       "      <th>device_id</th>\n",
       "      <th></th>\n",
       "      <th></th>\n",
       "      <th></th>\n",
       "    </tr>\n",
       "  </thead>\n",
       "  <tbody>\n",
       "    <tr>\n",
       "      <th>-8890648629457979026</th>\n",
       "      <td>小米</td>\n",
       "      <td>红米</td>\n",
       "      <td>51</td>\n",
       "    </tr>\n",
       "    <tr>\n",
       "      <th>1277779817574759137</th>\n",
       "      <td>小米</td>\n",
       "      <td>MI 2</td>\n",
       "      <td>51</td>\n",
       "    </tr>\n",
       "    <tr>\n",
       "      <th>5137427614288105724</th>\n",
       "      <td>三星</td>\n",
       "      <td>Galaxy S4</td>\n",
       "      <td>15</td>\n",
       "    </tr>\n",
       "  </tbody>\n",
       "</table>\n",
       "</div>"
      ],
      "text/plain": [
       "                     phone_brand device_model  converted_brand_only\n",
       "device_id                                                          \n",
       "-8890648629457979026          小米           红米                    51\n",
       " 1277779817574759137          小米         MI 2                    51\n",
       " 5137427614288105724          三星    Galaxy S4                    15"
      ]
     },
     "execution_count": 17,
     "metadata": {
      "tags": []
     },
     "output_type": "execute_result"
    }
   ],
   "source": [
    "phone_data.head(3)"
   ]
  },
  {
   "cell_type": "code",
   "execution_count": 18,
   "metadata": {
    "id": "Sd_zYdhxYFs3"
   },
   "outputs": [],
   "source": [
    "model = phone_data.phone_brand.str.cat(phone_data.device_model)"
   ]
  },
  {
   "cell_type": "code",
   "execution_count": 19,
   "metadata": {
    "colab": {
     "base_uri": "https://localhost:8080/",
     "height": 111
    },
    "id": "IpfUJuwAYIS3",
    "outputId": "57226e5c-d998-4a33-d1aa-3ef2c44e3999"
   },
   "outputs": [
    {
     "data": {
      "text/plain": [
       "device_id\n",
       "-8890648629457979026           小米红米\n",
       " 1277779817574759137         小米MI 2\n",
       " 5137427614288105724    三星Galaxy S4\n",
       "Name: phone_brand, dtype: object"
      ]
     },
     "execution_count": 19,
     "metadata": {
      "tags": []
     },
     "output_type": "execute_result"
    }
   ],
   "source": [
    "model.head(3)"
   ]
  },
  {
   "cell_type": "code",
   "execution_count": 20,
   "metadata": {
    "id": "gbjGoQhTN9E6"
   },
   "outputs": [],
   "source": [
    "\"\"\" 3 - Device model \"\"\"\n",
    "model = phone_data.phone_brand.str.cat(phone_data.device_model)\n",
    "\n",
    "phone_encoder = LabelEncoder().fit(model)\n",
    "phone_data['converted_brand'] = phone_encoder.transform(model)\n",
    "\n",
    "train['brand'] = phone_data['converted_brand']\n",
    "test['brand'] = phone_data['converted_brand']"
   ]
  },
  {
   "cell_type": "code",
   "execution_count": 21,
   "metadata": {
    "id": "9G60aUBgPQE-"
   },
   "outputs": [],
   "source": [
    "sparse_train_brand = csr_matrix((np.ones(train.shape[0]), (train.train_index, train.brand)))\n",
    "sparse_test_brand = csr_matrix((np.ones(test.shape[0]), (test.test_index, test.brand)))"
   ]
  },
  {
   "cell_type": "code",
   "execution_count": 22,
   "metadata": {
    "id": "_jsDdk3-PU_d"
   },
   "outputs": [],
   "source": [
    "\"\"\" 4 - Bag of Apps \"\"\"\n",
    "d = joined_app_events.dropna(subset=['train_index'])\n",
    "sparse_train_appusage = csr_matrix((np.ones(d.shape[0]), (d.train_index, d.app)), shape=(train.shape[0],len(app_encoder.classes_)))\n",
    "d = joined_app_events.dropna(subset=['test_index'])\n",
    "sparse_test_appusage = csr_matrix((np.ones(d.shape[0]), (d.test_index,d.app)), shape=(test.shape[0],len(app_encoder.classes_)))\n"
   ]
  },
  {
   "cell_type": "code",
   "execution_count": 23,
   "metadata": {
    "colab": {
     "base_uri": "https://localhost:8080/",
     "height": 424
    },
    "id": "X5VkSEXIZqXB",
    "outputId": "71353a68-615e-47a0-e91c-2a78fe345767"
   },
   "outputs": [
    {
     "data": {
      "text/html": [
       "<div>\n",
       "<style scoped>\n",
       "    .dataframe tbody tr th:only-of-type {\n",
       "        vertical-align: middle;\n",
       "    }\n",
       "\n",
       "    .dataframe tbody tr th {\n",
       "        vertical-align: top;\n",
       "    }\n",
       "\n",
       "    .dataframe thead th {\n",
       "        text-align: right;\n",
       "    }\n",
       "</style>\n",
       "<table border=\"1\" class=\"dataframe\">\n",
       "  <thead>\n",
       "    <tr style=\"text-align: right;\">\n",
       "      <th></th>\n",
       "      <th>device_id</th>\n",
       "      <th>app</th>\n",
       "      <th>size</th>\n",
       "      <th>train_index</th>\n",
       "      <th>test_index</th>\n",
       "    </tr>\n",
       "  </thead>\n",
       "  <tbody>\n",
       "    <tr>\n",
       "      <th>0</th>\n",
       "      <td>-9222956879900151005</td>\n",
       "      <td>548</td>\n",
       "      <td>18</td>\n",
       "      <td>21594.0</td>\n",
       "      <td>NaN</td>\n",
       "    </tr>\n",
       "    <tr>\n",
       "      <th>1</th>\n",
       "      <td>-9222956879900151005</td>\n",
       "      <td>1096</td>\n",
       "      <td>18</td>\n",
       "      <td>21594.0</td>\n",
       "      <td>NaN</td>\n",
       "    </tr>\n",
       "    <tr>\n",
       "      <th>2</th>\n",
       "      <td>-9222956879900151005</td>\n",
       "      <td>1248</td>\n",
       "      <td>26</td>\n",
       "      <td>21594.0</td>\n",
       "      <td>NaN</td>\n",
       "    </tr>\n",
       "    <tr>\n",
       "      <th>3</th>\n",
       "      <td>-9222956879900151005</td>\n",
       "      <td>1545</td>\n",
       "      <td>12</td>\n",
       "      <td>21594.0</td>\n",
       "      <td>NaN</td>\n",
       "    </tr>\n",
       "    <tr>\n",
       "      <th>4</th>\n",
       "      <td>-9222956879900151005</td>\n",
       "      <td>1664</td>\n",
       "      <td>18</td>\n",
       "      <td>21594.0</td>\n",
       "      <td>NaN</td>\n",
       "    </tr>\n",
       "    <tr>\n",
       "      <th>...</th>\n",
       "      <td>...</td>\n",
       "      <td>...</td>\n",
       "      <td>...</td>\n",
       "      <td>...</td>\n",
       "      <td>...</td>\n",
       "    </tr>\n",
       "    <tr>\n",
       "      <th>2369020</th>\n",
       "      <td>9222539910510672930</td>\n",
       "      <td>17358</td>\n",
       "      <td>1</td>\n",
       "      <td>NaN</td>\n",
       "      <td>82667.0</td>\n",
       "    </tr>\n",
       "    <tr>\n",
       "      <th>2369021</th>\n",
       "      <td>9222539910510672930</td>\n",
       "      <td>17587</td>\n",
       "      <td>1</td>\n",
       "      <td>NaN</td>\n",
       "      <td>82667.0</td>\n",
       "    </tr>\n",
       "    <tr>\n",
       "      <th>2369022</th>\n",
       "      <td>9222539910510672930</td>\n",
       "      <td>18039</td>\n",
       "      <td>1</td>\n",
       "      <td>NaN</td>\n",
       "      <td>82667.0</td>\n",
       "    </tr>\n",
       "    <tr>\n",
       "      <th>2369023</th>\n",
       "      <td>9222539910510672930</td>\n",
       "      <td>18686</td>\n",
       "      <td>1</td>\n",
       "      <td>NaN</td>\n",
       "      <td>82667.0</td>\n",
       "    </tr>\n",
       "    <tr>\n",
       "      <th>2369024</th>\n",
       "      <td>9222539910510672930</td>\n",
       "      <td>18837</td>\n",
       "      <td>1</td>\n",
       "      <td>NaN</td>\n",
       "      <td>82667.0</td>\n",
       "    </tr>\n",
       "  </tbody>\n",
       "</table>\n",
       "<p>2369025 rows × 5 columns</p>\n",
       "</div>"
      ],
      "text/plain": [
       "                   device_id    app  size  train_index  test_index\n",
       "0       -9222956879900151005    548    18      21594.0         NaN\n",
       "1       -9222956879900151005   1096    18      21594.0         NaN\n",
       "2       -9222956879900151005   1248    26      21594.0         NaN\n",
       "3       -9222956879900151005   1545    12      21594.0         NaN\n",
       "4       -9222956879900151005   1664    18      21594.0         NaN\n",
       "...                      ...    ...   ...          ...         ...\n",
       "2369020  9222539910510672930  17358     1          NaN     82667.0\n",
       "2369021  9222539910510672930  17587     1          NaN     82667.0\n",
       "2369022  9222539910510672930  18039     1          NaN     82667.0\n",
       "2369023  9222539910510672930  18686     1          NaN     82667.0\n",
       "2369024  9222539910510672930  18837     1          NaN     82667.0\n",
       "\n",
       "[2369025 rows x 5 columns]"
      ]
     },
     "execution_count": 23,
     "metadata": {
      "tags": []
     },
     "output_type": "execute_result"
    }
   ],
   "source": [
    "joined_app_events"
   ]
  },
  {
   "cell_type": "code",
   "execution_count": 24,
   "metadata": {
    "id": "cz4yjsH4PXe6"
   },
   "outputs": [],
   "source": [
    "\"\"\" 5 - Bag of Label \"\"\"\n",
    "d = joined_labels.dropna(subset=['train_index'])\n",
    "sparse_train_label = csr_matrix((np.ones(d.shape[0]), (d.train_index,d.label)), shape=(train.shape[0], len(label_encoder.classes_)))\n",
    "d = joined_labels.dropna(subset=['test_index'])\n",
    "sparse_test_label = csr_matrix((np.ones(d.shape[0]), (d.test_index,d.label)),shape=(test.shape[0], len(label_encoder.classes_)))\n"
   ]
  },
  {
   "cell_type": "code",
   "execution_count": 25,
   "metadata": {
    "id": "OUba0mPPPf0T"
   },
   "outputs": [],
   "source": [
    "Xtrain = hstack((sparse_train_brand_only, sparse_train_brand,  sparse_train_appusage, sparse_train_label,sparse_event_time_train), format='csr')\n",
    "Xtest =  hstack((sparse_test_brand_only, sparse_test_brand, sparse_test_appusage, sparse_test_label, sparse_event_time_test), format='csr')\n"
   ]
  },
  {
   "cell_type": "code",
   "execution_count": 26,
   "metadata": {
    "id": "Z8ZezKhk4tQV"
   },
   "outputs": [],
   "source": [
    "params = {\n",
    "    \"n_estimators\" : 2000,\n",
    "    \"objective\": \"multi:softprob\",\n",
    "    \"num_class\": 12,\n",
    "    \"booster\" : \"gbtree\",\n",
    "    \"eval_metric\": \"mlogloss\",\n",
    "    \"eta\": 0.3,\n",
    "    \"max_depth\": 3,\n",
    "    \"subsample\": 0.7,\n",
    "    \"colsample_bytree\": 0.7,\n",
    "    \"silent\": 1,\n",
    "    \"seed\": 0,\n",
    "    }"
   ]
  },
  {
   "cell_type": "code",
   "execution_count": 27,
   "metadata": {
    "id": "a2Z9CJt54tuA"
   },
   "outputs": [],
   "source": [
    "import xgboost as xgb"
   ]
  },
  {
   "cell_type": "code",
   "execution_count": 29,
   "metadata": {
    "id": "OuNiqZgx6B_C"
   },
   "outputs": [],
   "source": [
    "dtrain = xgb.DMatrix(Xtrain, train['group'])"
   ]
  },
  {
   "cell_type": "code",
   "execution_count": 30,
   "metadata": {
    "id": "U353121S6nOx"
   },
   "outputs": [],
   "source": [
    "watchlist = [(dtrain, 'train')]"
   ]
  },
  {
   "cell_type": "code",
   "execution_count": 32,
   "metadata": {
    "colab": {
     "base_uri": "https://localhost:8080/",
     "height": 1000
    },
    "id": "baPZ3-c66rPN",
    "outputId": "bf646fe4-6d67-427b-d25c-0ae836560c94"
   },
   "outputs": [
    {
     "name": "stdout",
     "output_type": "stream",
     "text": [
      "[0]\ttrain-mlogloss:2.44971\n",
      "Will train until train-mlogloss hasn't improved in 50 rounds.\n",
      "[1]\ttrain-mlogloss:2.4236\n",
      "[2]\ttrain-mlogloss:2.40438\n",
      "[3]\ttrain-mlogloss:2.38968\n",
      "[4]\ttrain-mlogloss:2.37771\n",
      "[5]\ttrain-mlogloss:2.3676\n",
      "[6]\ttrain-mlogloss:2.35913\n",
      "[7]\ttrain-mlogloss:2.35162\n",
      "[8]\ttrain-mlogloss:2.34514\n",
      "[9]\ttrain-mlogloss:2.33965\n",
      "[10]\ttrain-mlogloss:2.33467\n",
      "[11]\ttrain-mlogloss:2.33026\n",
      "[12]\ttrain-mlogloss:2.32595\n",
      "[13]\ttrain-mlogloss:2.32204\n",
      "[14]\ttrain-mlogloss:2.31835\n",
      "[15]\ttrain-mlogloss:2.31483\n",
      "[16]\ttrain-mlogloss:2.31144\n",
      "[17]\ttrain-mlogloss:2.30864\n",
      "[18]\ttrain-mlogloss:2.3057\n",
      "[19]\ttrain-mlogloss:2.30266\n",
      "[20]\ttrain-mlogloss:2.30001\n",
      "[21]\ttrain-mlogloss:2.2975\n",
      "[22]\ttrain-mlogloss:2.29511\n",
      "[23]\ttrain-mlogloss:2.29252\n",
      "[24]\ttrain-mlogloss:2.29013\n",
      "[25]\ttrain-mlogloss:2.28773\n",
      "[26]\ttrain-mlogloss:2.28561\n",
      "[27]\ttrain-mlogloss:2.28361\n",
      "[28]\ttrain-mlogloss:2.28162\n",
      "[29]\ttrain-mlogloss:2.27968\n",
      "[30]\ttrain-mlogloss:2.27772\n",
      "[31]\ttrain-mlogloss:2.27556\n",
      "[32]\ttrain-mlogloss:2.27364\n",
      "[33]\ttrain-mlogloss:2.2716\n",
      "[34]\ttrain-mlogloss:2.26981\n",
      "[35]\ttrain-mlogloss:2.26797\n",
      "[36]\ttrain-mlogloss:2.26624\n",
      "[37]\ttrain-mlogloss:2.26437\n",
      "[38]\ttrain-mlogloss:2.26293\n",
      "[39]\ttrain-mlogloss:2.2612\n",
      "[40]\ttrain-mlogloss:2.25942\n",
      "[41]\ttrain-mlogloss:2.25772\n",
      "[42]\ttrain-mlogloss:2.25624\n",
      "[43]\ttrain-mlogloss:2.25488\n",
      "[44]\ttrain-mlogloss:2.25338\n",
      "[45]\ttrain-mlogloss:2.25182\n",
      "[46]\ttrain-mlogloss:2.25025\n",
      "[47]\ttrain-mlogloss:2.24882\n",
      "[48]\ttrain-mlogloss:2.24734\n",
      "[49]\ttrain-mlogloss:2.24602\n",
      "[50]\ttrain-mlogloss:2.24476\n",
      "[51]\ttrain-mlogloss:2.2434\n",
      "[52]\ttrain-mlogloss:2.2421\n",
      "[53]\ttrain-mlogloss:2.24082\n",
      "[54]\ttrain-mlogloss:2.23956\n",
      "[55]\ttrain-mlogloss:2.23831\n",
      "[56]\ttrain-mlogloss:2.23724\n",
      "[57]\ttrain-mlogloss:2.23602\n",
      "[58]\ttrain-mlogloss:2.23474\n",
      "[59]\ttrain-mlogloss:2.2336\n",
      "[60]\ttrain-mlogloss:2.23254\n",
      "[61]\ttrain-mlogloss:2.23123\n",
      "[62]\ttrain-mlogloss:2.22997\n",
      "[63]\ttrain-mlogloss:2.22885\n",
      "[64]\ttrain-mlogloss:2.2277\n",
      "[65]\ttrain-mlogloss:2.22667\n",
      "[66]\ttrain-mlogloss:2.22553\n",
      "[67]\ttrain-mlogloss:2.22438\n",
      "[68]\ttrain-mlogloss:2.22326\n",
      "[69]\ttrain-mlogloss:2.2221\n",
      "[70]\ttrain-mlogloss:2.22092\n",
      "[71]\ttrain-mlogloss:2.21995\n",
      "[72]\ttrain-mlogloss:2.2188\n",
      "[73]\ttrain-mlogloss:2.21798\n",
      "[74]\ttrain-mlogloss:2.21684\n",
      "[75]\ttrain-mlogloss:2.21584\n",
      "[76]\ttrain-mlogloss:2.21466\n",
      "[77]\ttrain-mlogloss:2.21365\n",
      "[78]\ttrain-mlogloss:2.2126\n",
      "[79]\ttrain-mlogloss:2.21152\n",
      "[80]\ttrain-mlogloss:2.21046\n",
      "[81]\ttrain-mlogloss:2.2094\n",
      "[82]\ttrain-mlogloss:2.2084\n",
      "[83]\ttrain-mlogloss:2.20734\n",
      "[84]\ttrain-mlogloss:2.20636\n",
      "[85]\ttrain-mlogloss:2.20549\n",
      "[86]\ttrain-mlogloss:2.20434\n",
      "[87]\ttrain-mlogloss:2.20343\n",
      "[88]\ttrain-mlogloss:2.20261\n",
      "[89]\ttrain-mlogloss:2.20181\n",
      "[90]\ttrain-mlogloss:2.20097\n",
      "[91]\ttrain-mlogloss:2.20002\n",
      "[92]\ttrain-mlogloss:2.19915\n",
      "[93]\ttrain-mlogloss:2.19806\n",
      "[94]\ttrain-mlogloss:2.19711\n",
      "[95]\ttrain-mlogloss:2.19612\n",
      "[96]\ttrain-mlogloss:2.19524\n",
      "[97]\ttrain-mlogloss:2.19437\n",
      "[98]\ttrain-mlogloss:2.19331\n",
      "[99]\ttrain-mlogloss:2.19254\n"
     ]
    }
   ],
   "source": [
    "xgb_model = xgb.train(params, dtrain, 100, early_stopping_rounds = 50, evals=watchlist, verbose_eval=True)"
   ]
  },
  {
   "cell_type": "code",
   "execution_count": 33,
   "metadata": {
    "id": "ICPl0bJS7lp3"
   },
   "outputs": [],
   "source": [
    "xgb_pred = xgb_model.predict(xgb.DMatrix(Xtest))"
   ]
  },
  {
   "cell_type": "code",
   "execution_count": 34,
   "metadata": {
    "id": "RTYH926w8az0"
   },
   "outputs": [],
   "source": [
    "submit = pd.DataFrame(xgb_pred, columns=list(y_encoder.classes_))"
   ]
  },
  {
   "cell_type": "code",
   "execution_count": 38,
   "metadata": {
    "colab": {
     "base_uri": "https://localhost:8080/",
     "height": 206
    },
    "id": "XNC1iNLP8vup",
    "outputId": "76b33f9b-a7c9-4886-cec7-db1507d862b3"
   },
   "outputs": [
    {
     "data": {
      "text/plain": [
       "Int64Index([ 1002079943728939269, -1547860181818787117,  7374582448058474277,\n",
       "            -6220210354783429585, -5893464122623104785, -7560708697029818408,\n",
       "              289797889702373958,  -402874006399730161,  5751283639860028129,\n",
       "             -848943298935149395,\n",
       "            ...\n",
       "            -5345741084184024273,  8859796566213040200,  7583643168012624381,\n",
       "              238294472934704817,  7208587612007205081,  4280900819321920929,\n",
       "              818534825520551359, -8956851351560395765,  6097318236795836256,\n",
       "              622421180514002079],\n",
       "           dtype='int64', name='device_id', length=112071)"
      ]
     },
     "execution_count": 38,
     "metadata": {
      "tags": []
     },
     "output_type": "execute_result"
    }
   ],
   "source": [
    "test.index"
   ]
  },
  {
   "cell_type": "code",
   "execution_count": 39,
   "metadata": {
    "id": "RZEqiM5A7s4a"
   },
   "outputs": [],
   "source": [
    "submit[\"device_id\"] = test.index\n",
    "submit = submit.set_index(\"device_id\")"
   ]
  },
  {
   "cell_type": "code",
   "execution_count": 40,
   "metadata": {
    "colab": {
     "base_uri": "https://localhost:8080/",
     "height": 195
    },
    "id": "GybX2neJ8o35",
    "outputId": "cfe9f7b2-dc98-492c-dd49-502e7282d888"
   },
   "outputs": [
    {
     "data": {
      "text/html": [
       "<div>\n",
       "<style scoped>\n",
       "    .dataframe tbody tr th:only-of-type {\n",
       "        vertical-align: middle;\n",
       "    }\n",
       "\n",
       "    .dataframe tbody tr th {\n",
       "        vertical-align: top;\n",
       "    }\n",
       "\n",
       "    .dataframe thead th {\n",
       "        text-align: right;\n",
       "    }\n",
       "</style>\n",
       "<table border=\"1\" class=\"dataframe\">\n",
       "  <thead>\n",
       "    <tr style=\"text-align: right;\">\n",
       "      <th></th>\n",
       "      <th>F23-</th>\n",
       "      <th>F24-26</th>\n",
       "      <th>F27-28</th>\n",
       "      <th>F29-32</th>\n",
       "      <th>F33-42</th>\n",
       "      <th>F43+</th>\n",
       "      <th>M22-</th>\n",
       "      <th>M23-26</th>\n",
       "      <th>M27-28</th>\n",
       "      <th>M29-31</th>\n",
       "      <th>M32-38</th>\n",
       "      <th>M39+</th>\n",
       "    </tr>\n",
       "    <tr>\n",
       "      <th>device_id</th>\n",
       "      <th></th>\n",
       "      <th></th>\n",
       "      <th></th>\n",
       "      <th></th>\n",
       "      <th></th>\n",
       "      <th></th>\n",
       "      <th></th>\n",
       "      <th></th>\n",
       "      <th></th>\n",
       "      <th></th>\n",
       "      <th></th>\n",
       "      <th></th>\n",
       "    </tr>\n",
       "  </thead>\n",
       "  <tbody>\n",
       "    <tr>\n",
       "      <th>1002079943728939269</th>\n",
       "      <td>0.004736</td>\n",
       "      <td>0.015556</td>\n",
       "      <td>0.014993</td>\n",
       "      <td>0.020207</td>\n",
       "      <td>0.032152</td>\n",
       "      <td>0.032246</td>\n",
       "      <td>0.012041</td>\n",
       "      <td>0.063997</td>\n",
       "      <td>0.099256</td>\n",
       "      <td>0.189261</td>\n",
       "      <td>0.157068</td>\n",
       "      <td>0.358488</td>\n",
       "    </tr>\n",
       "    <tr>\n",
       "      <th>-1547860181818787117</th>\n",
       "      <td>0.010079</td>\n",
       "      <td>0.012855</td>\n",
       "      <td>0.020628</td>\n",
       "      <td>0.052011</td>\n",
       "      <td>0.073585</td>\n",
       "      <td>0.098416</td>\n",
       "      <td>0.019084</td>\n",
       "      <td>0.062634</td>\n",
       "      <td>0.061581</td>\n",
       "      <td>0.201847</td>\n",
       "      <td>0.150561</td>\n",
       "      <td>0.236718</td>\n",
       "    </tr>\n",
       "    <tr>\n",
       "      <th>7374582448058474277</th>\n",
       "      <td>0.060708</td>\n",
       "      <td>0.068033</td>\n",
       "      <td>0.032142</td>\n",
       "      <td>0.162179</td>\n",
       "      <td>0.129255</td>\n",
       "      <td>0.064611</td>\n",
       "      <td>0.027800</td>\n",
       "      <td>0.039294</td>\n",
       "      <td>0.053127</td>\n",
       "      <td>0.102959</td>\n",
       "      <td>0.148988</td>\n",
       "      <td>0.110904</td>\n",
       "    </tr>\n",
       "  </tbody>\n",
       "</table>\n",
       "</div>"
      ],
      "text/plain": [
       "                          F23-    F24-26  ...    M32-38      M39+\n",
       "device_id                                 ...                    \n",
       " 1002079943728939269  0.004736  0.015556  ...  0.157068  0.358488\n",
       "-1547860181818787117  0.010079  0.012855  ...  0.150561  0.236718\n",
       " 7374582448058474277  0.060708  0.068033  ...  0.148988  0.110904\n",
       "\n",
       "[3 rows x 12 columns]"
      ]
     },
     "execution_count": 40,
     "metadata": {
      "tags": []
     },
     "output_type": "execute_result"
    }
   ],
   "source": [
    "submit.head(3)"
   ]
  },
  {
   "cell_type": "code",
   "execution_count": null,
   "metadata": {
    "id": "Z0ckrxrf9Hgx"
   },
   "outputs": [],
   "source": [
    "#Private Score 2.28671"
   ]
  },
  {
   "cell_type": "code",
   "execution_count": null,
   "metadata": {
    "id": "K1M3-DiBFl0b"
   },
   "outputs": [],
   "source": []
  }
 ],
 "metadata": {
  "colab": {
   "name": "Feature Engineer.ipynb",
   "provenance": []
  },
  "kernelspec": {
   "display_name": "Python 3",
   "language": "python",
   "name": "python3"
  },
  "language_info": {
   "codemirror_mode": {
    "name": "ipython",
    "version": 3
   },
   "file_extension": ".py",
   "mimetype": "text/x-python",
   "name": "python",
   "nbconvert_exporter": "python",
   "pygments_lexer": "ipython3",
   "version": "3.7.4"
  },
  "toc": {
   "base_numbering": 1,
   "nav_menu": {},
   "number_sections": true,
   "sideBar": true,
   "skip_h1_title": false,
   "title_cell": "Table of Contents",
   "title_sidebar": "Contents",
   "toc_cell": false,
   "toc_position": {},
   "toc_section_display": true,
   "toc_window_display": false
  }
 },
 "nbformat": 4,
 "nbformat_minor": 1
}
