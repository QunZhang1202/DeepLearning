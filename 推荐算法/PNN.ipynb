{
 "cells": [
  {
   "cell_type": "markdown",
   "metadata": {},
   "source": [
    "# PNN"
   ]
  },
  {
   "cell_type": "markdown",
   "metadata": {},
   "source": [
    "Eileen Zhang 2020/8/20"
   ]
  },
  {
   "cell_type": "markdown",
   "metadata": {},
   "source": [
    "![PNN](https://img-blog.csdnimg.cn/20190516094615674.png?x-oss-process=image/watermark,type_ZmFuZ3poZW5naGVpdGk,shadow_10,text_aHR0cHM6Ly9ibG9nLmNzZG4ubmV0L3FxXzE4MjkzMjEz,size_16,color_FFFFFF,t_70)"
   ]
  },
  {
   "cell_type": "markdown",
   "metadata": {},
   "source": [
    "**注: \n",
    "Paper https://arxiv.org/abs/1611.00144  \n",
    "如下算法 内积,外积 使用einsum 实现,来提高效率**"
   ]
  },
  {
   "cell_type": "code",
   "execution_count": 1,
   "metadata": {},
   "outputs": [],
   "source": [
    "import numpy as np\n",
    "import tensorflow as tf\n",
    "from tensorflow import keras"
   ]
  },
  {
   "cell_type": "code",
   "execution_count": 2,
   "metadata": {},
   "outputs": [],
   "source": [
    "from tensorflow.keras.layers import Layer,Dense,Embedding,Dropout,BatchNormalization,Dot"
   ]
  },
  {
   "cell_type": "code",
   "execution_count": 3,
   "metadata": {},
   "outputs": [],
   "source": [
    "from tensorflow.keras.models import Model"
   ]
  },
  {
   "cell_type": "code",
   "execution_count": 4,
   "metadata": {},
   "outputs": [],
   "source": [
    "class FeaturesEmbedding(Layer):\n",
    "\n",
    "    def __init__(self, field_dims, embed_dim):\n",
    "        super().__init__()\n",
    "        self.embedding = Embedding(np.sum(field_dims), embed_dim)\n",
    "        self.offsets = tf.constant(np.expand_dims(np.array((0, *np.cumsum(field_dims)[:-1]), dtype=np.float32),0))\n",
    "    \n",
    "    def build(self, input_shape):    \n",
    "        super().build(input_shape)\n",
    "        \n",
    "    def call(self, x):\n",
    "        \"\"\"\n",
    "        :param x: Long tensor of size ``(batch_size, num_fields)``\n",
    "        \"\"\"\n",
    "        x = x + self.offsets\n",
    "        return self.embedding(x)"
   ]
  },
  {
   "cell_type": "code",
   "execution_count": 5,
   "metadata": {},
   "outputs": [],
   "source": [
    "class MultiLayerPerceptron(Layer):\n",
    "    def __init__(self, units, dropout = 0.8, output_layer=True):\n",
    "        super().__init__()\n",
    "        self.output_layer = output_layer\n",
    "        self.dropout = Dropout(dropout)\n",
    "        self.bns = [BatchNormalization() for i in range(len(units))]\n",
    "        self.denses = [Dense(u,activation = 'relu') for u in units]\n",
    "        if output_layer:\n",
    "            self.denses.append(Dense(1))\n",
    "     \n",
    "    def build(self, input_shape):    \n",
    "        super().build(input_shape)\n",
    "    \n",
    "    def call(self, inputs, training=False):\n",
    "        for bn, dense in zip(self.bns,self.denses) :\n",
    "            inputs = bn(inputs,training)\n",
    "            inputs = dense(inputs)\n",
    "            if training:\n",
    "                inputs = self.dropout_layer(inputs, training=training)\n",
    "        if self.output_layer:\n",
    "            inputs = self.denses[-1](inputs)\n",
    "        return inputs"
   ]
  },
  {
   "cell_type": "code",
   "execution_count": 6,
   "metadata": {},
   "outputs": [],
   "source": [
    "class ProductNeuralNetworkModel(Model):\n",
    "    \"\"\"\n",
    "    A Keras implementation of inner/outer Product Neural Network.\n",
    "    Reference:\n",
    "        Y Qu, et al. Product-based Neural Networks for User Response Prediction, 2016.\n",
    "    \"\"\"\n",
    "\n",
    "    def __init__(self, field_dims, embed_dim, mlp_units = [100,20], dropout = 0.8, method='inner'):\n",
    "        super().__init__()\n",
    "        num_fields = len(field_dims)\n",
    "        self.method = method\n",
    "        self.embedding = FeaturesEmbedding(field_dims, embed_dim)\n",
    "        self.mlp = MultiLayerPerceptron(mlp_units, dropout)\n",
    "        self.fc = Dense(1, activation = 'sigmoid')\n",
    "        self.outer_squeeze = Dense(1)\n",
    "        \n",
    "        \n",
    "    def call(self, x):\n",
    "        \"\"\"\n",
    "        :param x: Long tensor of size ``(batch_size, num_fields)``\n",
    "        \"\"\"\n",
    "        embed_x = self.embedding(x)\n",
    "        \n",
    "        # einsum 更快\n",
    "        if self.method == 'inner':\n",
    "            embed_x = tf.einsum('mij->mji', embed_x)\n",
    "            cross_term = tf.einsum('mni,mni->mn', embed_x, embed_x)\n",
    "            cross_term = tf.expand_dims(cross_term,-1)\n",
    "        elif self.method == 'outer':\n",
    "            cross_term = tf.einsum('mni,mnj->mnij', embed_x, embed_x)\n",
    "            embed_x = tf.expand_dims(embed_x, -1)\n",
    "        else:\n",
    "            raise ValueError('unknown product type: ' + method)\n",
    "        x = tf.concat([embed_x,cross_term], -1)\n",
    "        x = self.mlp(x)\n",
    "        x = tf.squeeze(x,-1)\n",
    "        \n",
    "        if self.method == 'outer':           \n",
    "            x = self.outer_squeeze(x)\n",
    "            x = tf.squeeze(x,-1)\n",
    "        x = self.fc(x)\n",
    "        return x\n"
   ]
  },
  {
   "cell_type": "code",
   "execution_count": 7,
   "metadata": {},
   "outputs": [],
   "source": [
    "model = ProductNeuralNetworkModel([10,20,40,41,51],2)"
   ]
  },
  {
   "cell_type": "code",
   "execution_count": 8,
   "metadata": {},
   "outputs": [
    {
     "data": {
      "text/plain": [
       "<bound method Model.build of <__main__.ProductNeuralNetworkModel object at 0x7f83f22d2fd0>>"
      ]
     },
     "execution_count": 8,
     "metadata": {},
     "output_type": "execute_result"
    }
   ],
   "source": [
    "model.build"
   ]
  },
  {
   "cell_type": "code",
   "execution_count": 9,
   "metadata": {},
   "outputs": [
    {
     "data": {
      "text/plain": [
       "<tf.Tensor: shape=(2, 5), dtype=float32, numpy=\n",
       "array([[ 0.,  1.,  2.,  3.,  4.],\n",
       "       [10., 20., 30., 40., 50.]], dtype=float32)>"
      ]
     },
     "execution_count": 9,
     "metadata": {},
     "output_type": "execute_result"
    }
   ],
   "source": [
    "test = tf.constant([[0.,1.,2.,3.,4.],[10.,20.,30.,40.,50.]])\n",
    "test"
   ]
  },
  {
   "cell_type": "code",
   "execution_count": 10,
   "metadata": {
    "scrolled": true
   },
   "outputs": [
    {
     "data": {
      "text/plain": [
       "<tf.Tensor: shape=(2, 1), dtype=float32, numpy=\n",
       "array([[0.49990624],\n",
       "       [0.5019269 ]], dtype=float32)>"
      ]
     },
     "execution_count": 10,
     "metadata": {},
     "output_type": "execute_result"
    }
   ],
   "source": [
    "model(test)"
   ]
  },
  {
   "cell_type": "code",
   "execution_count": 11,
   "metadata": {},
   "outputs": [],
   "source": [
    "model = ProductNeuralNetworkModel([10,20,40,41,51], 2, method='outer')"
   ]
  },
  {
   "cell_type": "code",
   "execution_count": 12,
   "metadata": {},
   "outputs": [
    {
     "data": {
      "text/plain": [
       "<tf.Tensor: shape=(2, 1), dtype=float32, numpy=\n",
       "array([[0.5000039 ],\n",
       "       [0.50121194]], dtype=float32)>"
      ]
     },
     "execution_count": 12,
     "metadata": {},
     "output_type": "execute_result"
    }
   ],
   "source": [
    "model(test)"
   ]
  },
  {
   "cell_type": "code",
   "execution_count": null,
   "metadata": {},
   "outputs": [],
   "source": []
  }
 ],
 "metadata": {
  "kernelspec": {
   "display_name": "Python 3",
   "language": "python",
   "name": "python3"
  },
  "language_info": {
   "codemirror_mode": {
    "name": "ipython",
    "version": 3
   },
   "file_extension": ".py",
   "mimetype": "text/x-python",
   "name": "python",
   "nbconvert_exporter": "python",
   "pygments_lexer": "ipython3",
   "version": "3.7.4"
  },
  "toc": {
   "base_numbering": 1,
   "nav_menu": {},
   "number_sections": true,
   "sideBar": true,
   "skip_h1_title": false,
   "title_cell": "Table of Contents",
   "title_sidebar": "Contents",
   "toc_cell": false,
   "toc_position": {},
   "toc_section_display": true,
   "toc_window_display": false
  }
 },
 "nbformat": 4,
 "nbformat_minor": 2
}
