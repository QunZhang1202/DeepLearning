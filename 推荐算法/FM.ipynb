{
 "cells": [
  {
   "cell_type": "markdown",
   "metadata": {},
   "source": [
    "# FM"
   ]
  },
  {
   "cell_type": "markdown",
   "metadata": {},
   "source": [
    "Eileen Zhang 2020/8/20"
   ]
  },
  {
   "cell_type": "markdown",
   "metadata": {},
   "source": [
    "![FM](../data/fm.png)"
   ]
  },
  {
   "cell_type": "markdown",
   "metadata": {},
   "source": [
    "**注: \n",
    "每个feature 都有自己的 len. 比如, 性别: 男,女,保密, len 为 3. 年龄: 儿童,青年,中年,老年, len 为4\n",
    "为了避免做多个embeding,当把它们用一个embeding表示时,通常需要使用np.cumsum 给原本的数据加上offsets\n",
    "**"
   ]
  },
  {
   "cell_type": "code",
   "execution_count": 1,
   "metadata": {},
   "outputs": [],
   "source": [
    "import numpy as np\n",
    "import tensorflow as tf\n",
    "from tensorflow import keras"
   ]
  },
  {
   "cell_type": "code",
   "execution_count": 2,
   "metadata": {},
   "outputs": [],
   "source": [
    "from tensorflow.keras.layers import Layer,Dense,Embedding"
   ]
  },
  {
   "cell_type": "code",
   "execution_count": 3,
   "metadata": {},
   "outputs": [],
   "source": [
    "class FactorizationMachine(Layer):\n",
    "    \"\"\"\n",
    "    implementation of Factorization Machine.\n",
    "\n",
    "    Reference:\n",
    "        S Rendle, Factorization Machines, 2010.\n",
    "    \"\"\"\n",
    "\n",
    "    def __init__(self, reduce_sum=True):\n",
    "        super().__init__()\n",
    "        self.reduce_sum = reduce_sum\n",
    "        \n",
    "    def build(self, input_shape):    \n",
    "        super().build(input_shape)\n",
    "        \n",
    "    def call(self, x):\n",
    "        square_of_sum = tf.reduce_sum(x, 1) ** 2\n",
    "        sum_of_square = tf.reduce_sum(x ** 2, 1)\n",
    "        ix = square_of_sum - sum_of_square\n",
    "        if self.reduce_sum:\n",
    "            ix = tf.reduce_sum(ix, 1, keepdims=True)\n",
    "        return 0.5 * ix"
   ]
  },
  {
   "cell_type": "code",
   "execution_count": 9,
   "metadata": {},
   "outputs": [],
   "source": [
    "class FeaturesEmbedding(Layer):\n",
    "\n",
    "    def __init__(self, field_dims, embed_dim):\n",
    "        super().__init__()\n",
    "        self.embedding = Embedding(np.sum(np.sum(field_dims)), embed_dim)\n",
    "        self.offsets = tf.constant(np.expand_dims(np.array((0, *np.cumsum(field_dims)[:-1]), dtype=np.float32),0))\n",
    "    \n",
    "    def build(self, input_shape):    \n",
    "        super().build(input_shape)\n",
    "        \n",
    "    def call(self, x):\n",
    "        \"\"\"\n",
    "        :param x: [11,2,3] Long tensor of size ``(batch_size, num_fields)``\n",
    "        \"\"\"\n",
    "        x = x + self.offsets\n",
    "        return self.embedding(x)"
   ]
  },
  {
   "cell_type": "code",
   "execution_count": 69,
   "metadata": {},
   "outputs": [],
   "source": [
    "class FactorizationMachineModel(keras.models.Model):\n",
    "    \"\"\"\n",
    "    implementation of Factorization Machine.\n",
    "\n",
    "    Reference:\n",
    "        S Rendle, Factorization Machines, 2010.\n",
    "    \"\"\"\n",
    "\n",
    "    def __init__(self, field_dims, embed_dim, units = 20):\n",
    "        super().__init__()\n",
    "        self.units = units\n",
    "        self.embed_dim = embed_dim\n",
    "        self.embedding = FeaturesEmbedding(field_dims, embed_dim)\n",
    "        self.fm = FactorizationMachine(reduce_sum=True)\n",
    "        self.dense = Dense(units)\n",
    "        self.fc = Dense(1)\n",
    "        \n",
    "    def call(self, x):\n",
    "        \"\"\"\n",
    "        :param x: Long tensor of size ``(batch_size, num_fields)``\n",
    "        \"\"\"\n",
    "        self.bias = tf.Variable(np.random.normal(size = (x.shape[0],self.embed_dim)),dtype = tf.float32, name = 'bias', trainable=True)\n",
    "        x = self.embedding(x)\n",
    "        x = tf.reduce_sum(x, 1) + self.fm(x) + self.bias\n",
    "        x = self.dense(x)\n",
    "        x = self.fc(x)\n",
    "        return x"
   ]
  },
  {
   "cell_type": "code",
   "execution_count": 70,
   "metadata": {},
   "outputs": [],
   "source": [
    "model = FactorizationMachineModel([10,20,10,10],3)"
   ]
  },
  {
   "cell_type": "code",
   "execution_count": 17,
   "metadata": {},
   "outputs": [],
   "source": [
    "test = tf.constant([[1.,2.,3.,4.],[5.,6.,7.,8.]])"
   ]
  },
  {
   "cell_type": "code",
   "execution_count": 71,
   "metadata": {
    "scrolled": true
   },
   "outputs": [
    {
     "data": {
      "text/plain": [
       "<tf.Tensor: shape=(2, 1), dtype=float32, numpy=\n",
       "array([[-0.46446854],\n",
       "       [-0.5425227 ]], dtype=float32)>"
      ]
     },
     "execution_count": 71,
     "metadata": {},
     "output_type": "execute_result"
    }
   ],
   "source": [
    "model(test)"
   ]
  },
  {
   "cell_type": "code",
   "execution_count": 72,
   "metadata": {},
   "outputs": [
    {
     "name": "stdout",
     "output_type": "stream",
     "text": [
      "Model: \"factorization_machine_model_15\"\n",
      "_________________________________________________________________\n",
      "Layer (type)                 Output Shape              Param #   \n",
      "=================================================================\n",
      "features_embedding_15 (Featu multiple                  150       \n",
      "_________________________________________________________________\n",
      "factorization_machine_15 (Fa multiple                  0         \n",
      "_________________________________________________________________\n",
      "dense (Dense)                multiple                  80        \n",
      "_________________________________________________________________\n",
      "dense_1 (Dense)              multiple                  21        \n",
      "=================================================================\n",
      "Total params: 257\n",
      "Trainable params: 257\n",
      "Non-trainable params: 0\n",
      "_________________________________________________________________\n"
     ]
    }
   ],
   "source": [
    "model.summary()"
   ]
  },
  {
   "cell_type": "code",
   "execution_count": null,
   "metadata": {},
   "outputs": [],
   "source": []
  }
 ],
 "metadata": {
  "kernelspec": {
   "display_name": "Python 3",
   "language": "python",
   "name": "python3"
  },
  "language_info": {
   "codemirror_mode": {
    "name": "ipython",
    "version": 3
   },
   "file_extension": ".py",
   "mimetype": "text/x-python",
   "name": "python",
   "nbconvert_exporter": "python",
   "pygments_lexer": "ipython3",
   "version": "3.7.4"
  },
  "toc": {
   "base_numbering": 1,
   "nav_menu": {},
   "number_sections": true,
   "sideBar": true,
   "skip_h1_title": false,
   "title_cell": "Table of Contents",
   "title_sidebar": "Contents",
   "toc_cell": false,
   "toc_position": {},
   "toc_section_display": true,
   "toc_window_display": false
  }
 },
 "nbformat": 4,
 "nbformat_minor": 2
}
