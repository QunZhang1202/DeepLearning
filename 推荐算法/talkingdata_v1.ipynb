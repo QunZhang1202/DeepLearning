{
 "cells": [
  {
   "cell_type": "markdown",
   "metadata": {},
   "source": [
    "# TalkingData Mobile User Demographics"
   ]
  },
  {
   "cell_type": "markdown",
   "metadata": {},
   "source": [
    "https://www.kaggle.com/c/talkingdata-mobile-user-demographics/overview"
   ]
  },
  {
   "cell_type": "markdown",
   "metadata": {},
   "source": [
    "Private Score : 2.32616  \n",
    "Public Score : 2.32153"
   ]
  },
  {
   "cell_type": "code",
   "execution_count": 1,
   "metadata": {
    "_cell_guid": "79c7e3d0-c299-4dcb-8224-4455121ee9b0",
    "_uuid": "d629ff2d2480ee46fbb7e2d37f6b5fab8052498a"
   },
   "outputs": [],
   "source": [
    "import pandas as pd\n",
    "import numpy as np\n",
    "import os\n",
    "import xgboost as xgb\n",
    "from sklearn.model_selection import train_test_split\n",
    "from sklearn.metrics import log_loss"
   ]
  },
  {
   "cell_type": "code",
   "execution_count": 2,
   "metadata": {},
   "outputs": [],
   "source": [
    "import random\n",
    "import time\n",
    "random.seed(2020)"
   ]
  },
  {
   "cell_type": "markdown",
   "metadata": {},
   "source": [
    "# 数据预处理"
   ]
  },
  {
   "cell_type": "code",
   "execution_count": 3,
   "metadata": {},
   "outputs": [],
   "source": [
    "datadir = './talkingdata/'"
   ]
  },
  {
   "cell_type": "code",
   "execution_count": 4,
   "metadata": {},
   "outputs": [],
   "source": [
    "events = pd.read_csv(os.path.join(datadir,'events.csv.zip'), dtype={'device_id': np.str})"
   ]
  },
  {
   "cell_type": "code",
   "execution_count": 5,
   "metadata": {},
   "outputs": [
    {
     "data": {
      "text/html": [
       "<div>\n",
       "<style scoped>\n",
       "    .dataframe tbody tr th:only-of-type {\n",
       "        vertical-align: middle;\n",
       "    }\n",
       "\n",
       "    .dataframe tbody tr th {\n",
       "        vertical-align: top;\n",
       "    }\n",
       "\n",
       "    .dataframe thead th {\n",
       "        text-align: right;\n",
       "    }\n",
       "</style>\n",
       "<table border=\"1\" class=\"dataframe\">\n",
       "  <thead>\n",
       "    <tr style=\"text-align: right;\">\n",
       "      <th></th>\n",
       "      <th>event_id</th>\n",
       "      <th>device_id</th>\n",
       "      <th>timestamp</th>\n",
       "      <th>longitude</th>\n",
       "      <th>latitude</th>\n",
       "    </tr>\n",
       "  </thead>\n",
       "  <tbody>\n",
       "    <tr>\n",
       "      <td>0</td>\n",
       "      <td>1</td>\n",
       "      <td>29182687948017175</td>\n",
       "      <td>2016-05-01 00:55:25</td>\n",
       "      <td>121.38</td>\n",
       "      <td>31.24</td>\n",
       "    </tr>\n",
       "    <tr>\n",
       "      <td>1</td>\n",
       "      <td>2</td>\n",
       "      <td>-6401643145415154744</td>\n",
       "      <td>2016-05-01 00:54:12</td>\n",
       "      <td>103.65</td>\n",
       "      <td>30.97</td>\n",
       "    </tr>\n",
       "  </tbody>\n",
       "</table>\n",
       "</div>"
      ],
      "text/plain": [
       "   event_id             device_id            timestamp  longitude  latitude\n",
       "0         1     29182687948017175  2016-05-01 00:55:25     121.38     31.24\n",
       "1         2  -6401643145415154744  2016-05-01 00:54:12     103.65     30.97"
      ]
     },
     "execution_count": 5,
     "metadata": {},
     "output_type": "execute_result"
    }
   ],
   "source": [
    "events.head(2)"
   ]
  },
  {
   "cell_type": "code",
   "execution_count": 6,
   "metadata": {},
   "outputs": [],
   "source": [
    "events['counts'] = events.groupby(['device_id'])['event_id'].transform('count')"
   ]
  },
  {
   "cell_type": "code",
   "execution_count": 7,
   "metadata": {},
   "outputs": [],
   "source": [
    "events_count = events[['device_id', 'counts']].drop_duplicates('device_id', keep='first')"
   ]
  },
  {
   "cell_type": "code",
   "execution_count": 8,
   "metadata": {},
   "outputs": [
    {
     "data": {
      "text/html": [
       "<div>\n",
       "<style scoped>\n",
       "    .dataframe tbody tr th:only-of-type {\n",
       "        vertical-align: middle;\n",
       "    }\n",
       "\n",
       "    .dataframe tbody tr th {\n",
       "        vertical-align: top;\n",
       "    }\n",
       "\n",
       "    .dataframe thead th {\n",
       "        text-align: right;\n",
       "    }\n",
       "</style>\n",
       "<table border=\"1\" class=\"dataframe\">\n",
       "  <thead>\n",
       "    <tr style=\"text-align: right;\">\n",
       "      <th></th>\n",
       "      <th>device_id</th>\n",
       "      <th>counts</th>\n",
       "    </tr>\n",
       "  </thead>\n",
       "  <tbody>\n",
       "    <tr>\n",
       "      <td>0</td>\n",
       "      <td>29182687948017175</td>\n",
       "      <td>256</td>\n",
       "    </tr>\n",
       "    <tr>\n",
       "      <td>1</td>\n",
       "      <td>-6401643145415154744</td>\n",
       "      <td>73</td>\n",
       "    </tr>\n",
       "  </tbody>\n",
       "</table>\n",
       "</div>"
      ],
      "text/plain": [
       "              device_id  counts\n",
       "0     29182687948017175     256\n",
       "1  -6401643145415154744      73"
      ]
     },
     "execution_count": 8,
     "metadata": {},
     "output_type": "execute_result"
    }
   ],
   "source": [
    "events_count.head(2)"
   ]
  },
  {
   "cell_type": "code",
   "execution_count": 9,
   "metadata": {},
   "outputs": [],
   "source": [
    "phone_brand_device = pd.read_csv(os.path.join(datadir,'phone_brand_device_model.csv.zip'), dtype={'device_id': np.str})\n",
    "phone_brand_device.drop_duplicates('device_id', keep='first', inplace=True)"
   ]
  },
  {
   "cell_type": "code",
   "execution_count": 10,
   "metadata": {},
   "outputs": [],
   "source": [
    "def label_column(table, *col):\n",
    "    maplst =[]\n",
    "    for c in col:\n",
    "        labels = list(table[c].value_counts().index)\n",
    "        mappings = {labels[i]:i for i in range(len(labels))}\n",
    "        table = table.replace({c: mappings})\n",
    "        maplst.append(mappings)\n",
    "    return table, maplst"
   ]
  },
  {
   "cell_type": "code",
   "execution_count": 11,
   "metadata": {},
   "outputs": [
    {
     "data": {
      "text/html": [
       "<div>\n",
       "<style scoped>\n",
       "    .dataframe tbody tr th:only-of-type {\n",
       "        vertical-align: middle;\n",
       "    }\n",
       "\n",
       "    .dataframe tbody tr th {\n",
       "        vertical-align: top;\n",
       "    }\n",
       "\n",
       "    .dataframe thead th {\n",
       "        text-align: right;\n",
       "    }\n",
       "</style>\n",
       "<table border=\"1\" class=\"dataframe\">\n",
       "  <thead>\n",
       "    <tr style=\"text-align: right;\">\n",
       "      <th></th>\n",
       "      <th>device_id</th>\n",
       "      <th>phone_brand</th>\n",
       "      <th>device_model</th>\n",
       "    </tr>\n",
       "  </thead>\n",
       "  <tbody>\n",
       "    <tr>\n",
       "      <td>0</td>\n",
       "      <td>-8890648629457979026</td>\n",
       "      <td>小米</td>\n",
       "      <td>红米</td>\n",
       "    </tr>\n",
       "    <tr>\n",
       "      <td>1</td>\n",
       "      <td>1277779817574759137</td>\n",
       "      <td>小米</td>\n",
       "      <td>MI 2</td>\n",
       "    </tr>\n",
       "  </tbody>\n",
       "</table>\n",
       "</div>"
      ],
      "text/plain": [
       "              device_id phone_brand device_model\n",
       "0  -8890648629457979026          小米           红米\n",
       "1   1277779817574759137          小米         MI 2"
      ]
     },
     "execution_count": 11,
     "metadata": {},
     "output_type": "execute_result"
    }
   ],
   "source": [
    "phone_brand_device.head(2)"
   ]
  },
  {
   "cell_type": "code",
   "execution_count": 12,
   "metadata": {},
   "outputs": [
    {
     "name": "stdout",
     "output_type": "stream",
     "text": [
      "CPU times: user 16.8 s, sys: 378 ms, total: 17.2 s\n",
      "Wall time: 17.6 s\n"
     ]
    }
   ],
   "source": [
    "%%time\n",
    "phone_brand_device, mappings = label_column(phone_brand_device, 'phone_brand','device_model')"
   ]
  },
  {
   "cell_type": "code",
   "execution_count": 13,
   "metadata": {},
   "outputs": [
    {
     "data": {
      "text/html": [
       "<div>\n",
       "<style scoped>\n",
       "    .dataframe tbody tr th:only-of-type {\n",
       "        vertical-align: middle;\n",
       "    }\n",
       "\n",
       "    .dataframe tbody tr th {\n",
       "        vertical-align: top;\n",
       "    }\n",
       "\n",
       "    .dataframe thead th {\n",
       "        text-align: right;\n",
       "    }\n",
       "</style>\n",
       "<table border=\"1\" class=\"dataframe\">\n",
       "  <thead>\n",
       "    <tr style=\"text-align: right;\">\n",
       "      <th></th>\n",
       "      <th>device_id</th>\n",
       "      <th>phone_brand</th>\n",
       "      <th>device_model</th>\n",
       "    </tr>\n",
       "  </thead>\n",
       "  <tbody>\n",
       "    <tr>\n",
       "      <td>0</td>\n",
       "      <td>-8890648629457979026</td>\n",
       "      <td>0</td>\n",
       "      <td>11</td>\n",
       "    </tr>\n",
       "    <tr>\n",
       "      <td>1</td>\n",
       "      <td>1277779817574759137</td>\n",
       "      <td>0</td>\n",
       "      <td>29</td>\n",
       "    </tr>\n",
       "  </tbody>\n",
       "</table>\n",
       "</div>"
      ],
      "text/plain": [
       "              device_id  phone_brand  device_model\n",
       "0  -8890648629457979026            0            11\n",
       "1   1277779817574759137            0            29"
      ]
     },
     "execution_count": 13,
     "metadata": {},
     "output_type": "execute_result"
    }
   ],
   "source": [
    "phone_brand_device.head(2)"
   ]
  },
  {
   "cell_type": "code",
   "execution_count": 14,
   "metadata": {},
   "outputs": [],
   "source": [
    "train = pd.read_csv(os.path.join(datadir,'gender_age_train.csv.zip'), dtype={'device_id': np.str})"
   ]
  },
  {
   "cell_type": "code",
   "execution_count": 15,
   "metadata": {},
   "outputs": [],
   "source": [
    "train, g_map = label_column(train,'group')"
   ]
  },
  {
   "cell_type": "code",
   "execution_count": 16,
   "metadata": {},
   "outputs": [
    {
     "data": {
      "text/html": [
       "<div>\n",
       "<style scoped>\n",
       "    .dataframe tbody tr th:only-of-type {\n",
       "        vertical-align: middle;\n",
       "    }\n",
       "\n",
       "    .dataframe tbody tr th {\n",
       "        vertical-align: top;\n",
       "    }\n",
       "\n",
       "    .dataframe thead th {\n",
       "        text-align: right;\n",
       "    }\n",
       "</style>\n",
       "<table border=\"1\" class=\"dataframe\">\n",
       "  <thead>\n",
       "    <tr style=\"text-align: right;\">\n",
       "      <th></th>\n",
       "      <th>device_id</th>\n",
       "      <th>gender</th>\n",
       "      <th>age</th>\n",
       "      <th>group</th>\n",
       "    </tr>\n",
       "  </thead>\n",
       "  <tbody>\n",
       "    <tr>\n",
       "      <td>0</td>\n",
       "      <td>-8076087639492063270</td>\n",
       "      <td>M</td>\n",
       "      <td>35</td>\n",
       "      <td>1</td>\n",
       "    </tr>\n",
       "    <tr>\n",
       "      <td>1</td>\n",
       "      <td>-2897161552818060146</td>\n",
       "      <td>M</td>\n",
       "      <td>35</td>\n",
       "      <td>1</td>\n",
       "    </tr>\n",
       "  </tbody>\n",
       "</table>\n",
       "</div>"
      ],
      "text/plain": [
       "              device_id gender  age  group\n",
       "0  -8076087639492063270      M   35      1\n",
       "1  -2897161552818060146      M   35      1"
      ]
     },
     "execution_count": 16,
     "metadata": {},
     "output_type": "execute_result"
    }
   ],
   "source": [
    "train.head(2)"
   ]
  },
  {
   "cell_type": "code",
   "execution_count": 207,
   "metadata": {},
   "outputs": [],
   "source": [
    "device_info = pd.read_csv('device_info.csv', dtype={'device_id': np.str})\n",
    "device_info.drop('Unnamed: 0', axis = 1, inplace = True)\n",
    "device_info = device_info[['device_id','age_mean','age_median','age_mode','M_mean','F_mean']]"
   ]
  },
  {
   "cell_type": "code",
   "execution_count": null,
   "metadata": {},
   "outputs": [],
   "source": [
    "train = train.drop(['age'], axis=1)\n",
    "train = train.drop(['gender'], axis=1)"
   ]
  },
  {
   "cell_type": "code",
   "execution_count": 19,
   "metadata": {},
   "outputs": [],
   "source": [
    "train = pd.merge(train, phone_brand_device, how='left', on='device_id')\n",
    "train = pd.merge(train, events_count, how='left', on='device_id')\n",
    "train = pd.merge(train, device_info, how='left', on='device_id')\n",
    "train.fillna(-1, inplace=True)"
   ]
  },
  {
   "cell_type": "code",
   "execution_count": 59,
   "metadata": {},
   "outputs": [
    {
     "data": {
      "text/html": [
       "<div>\n",
       "<style scoped>\n",
       "    .dataframe tbody tr th:only-of-type {\n",
       "        vertical-align: middle;\n",
       "    }\n",
       "\n",
       "    .dataframe tbody tr th {\n",
       "        vertical-align: top;\n",
       "    }\n",
       "\n",
       "    .dataframe thead th {\n",
       "        text-align: right;\n",
       "    }\n",
       "</style>\n",
       "<table border=\"1\" class=\"dataframe\">\n",
       "  <thead>\n",
       "    <tr style=\"text-align: right;\">\n",
       "      <th></th>\n",
       "      <th>phone_brand</th>\n",
       "      <th>device_model</th>\n",
       "      <th>counts</th>\n",
       "      <th>age_mean</th>\n",
       "      <th>age_median</th>\n",
       "      <th>age_mode</th>\n",
       "      <th>M_mean</th>\n",
       "      <th>F_mean</th>\n",
       "    </tr>\n",
       "  </thead>\n",
       "  <tbody>\n",
       "    <tr>\n",
       "      <td>0</td>\n",
       "      <td>0</td>\n",
       "      <td>29</td>\n",
       "      <td>-1.0</td>\n",
       "      <td>-1.000000</td>\n",
       "      <td>-1.000000</td>\n",
       "      <td>-1.000000</td>\n",
       "      <td>-1.000000</td>\n",
       "      <td>-1.000000</td>\n",
       "    </tr>\n",
       "    <tr>\n",
       "      <td>1</td>\n",
       "      <td>0</td>\n",
       "      <td>29</td>\n",
       "      <td>-1.0</td>\n",
       "      <td>-1.000000</td>\n",
       "      <td>-1.000000</td>\n",
       "      <td>-1.000000</td>\n",
       "      <td>-1.000000</td>\n",
       "      <td>-1.000000</td>\n",
       "    </tr>\n",
       "    <tr>\n",
       "      <td>2</td>\n",
       "      <td>0</td>\n",
       "      <td>29</td>\n",
       "      <td>1.0</td>\n",
       "      <td>31.156081</td>\n",
       "      <td>29.316327</td>\n",
       "      <td>26.673469</td>\n",
       "      <td>63.666168</td>\n",
       "      <td>36.333832</td>\n",
       "    </tr>\n",
       "  </tbody>\n",
       "</table>\n",
       "</div>"
      ],
      "text/plain": [
       "   phone_brand  device_model  counts   age_mean  age_median   age_mode  \\\n",
       "0            0            29    -1.0  -1.000000   -1.000000  -1.000000   \n",
       "1            0            29    -1.0  -1.000000   -1.000000  -1.000000   \n",
       "2            0            29     1.0  31.156081   29.316327  26.673469   \n",
       "\n",
       "      M_mean     F_mean  \n",
       "0  -1.000000  -1.000000  \n",
       "1  -1.000000  -1.000000  \n",
       "2  63.666168  36.333832  "
      ]
     },
     "execution_count": 59,
     "metadata": {},
     "output_type": "execute_result"
    }
   ],
   "source": [
    "train.head(3)"
   ]
  },
  {
   "cell_type": "code",
   "execution_count": 58,
   "metadata": {},
   "outputs": [],
   "source": [
    "train.drop('device_id',1,inplace = True)"
   ]
  },
  {
   "cell_type": "code",
   "execution_count": 214,
   "metadata": {},
   "outputs": [],
   "source": [
    "test = pd.read_csv(os.path.join(datadir,'gender_age_test.csv.zip'), dtype={'device_id': np.str})\n",
    "test = pd.merge(test, phone_brand_device, how='left', on='device_id')\n",
    "test = pd.merge(test, events_count, how='left', on='device_id')\n",
    "test = pd.merge(test, device_info, on='device_id', how='left')\n",
    "test.fillna(-1, inplace=True)"
   ]
  },
  {
   "cell_type": "code",
   "execution_count": 25,
   "metadata": {},
   "outputs": [],
   "source": [
    "features = list(test.columns.values)"
   ]
  },
  {
   "cell_type": "code",
   "execution_count": 26,
   "metadata": {},
   "outputs": [],
   "source": [
    "features.remove('device_id')"
   ]
  },
  {
   "cell_type": "code",
   "execution_count": 27,
   "metadata": {},
   "outputs": [
    {
     "data": {
      "text/plain": [
       "['phone_brand',\n",
       " 'device_model',\n",
       " 'counts',\n",
       " 'age_mean',\n",
       " 'age_median',\n",
       " 'age_mode',\n",
       " 'M_mean',\n",
       " 'F_mean']"
      ]
     },
     "execution_count": 27,
     "metadata": {},
     "output_type": "execute_result"
    }
   ],
   "source": [
    "features"
   ]
  },
  {
   "cell_type": "markdown",
   "metadata": {},
   "source": [
    "# 深度学习模型"
   ]
  },
  {
   "cell_type": "code",
   "execution_count": 29,
   "metadata": {},
   "outputs": [],
   "source": [
    "import tensorflow as tf"
   ]
  },
  {
   "cell_type": "code",
   "execution_count": 30,
   "metadata": {},
   "outputs": [],
   "source": [
    "from tensorflow.keras.layers import *\n",
    "from tensorflow.keras.models import Model\n",
    "from tensorflow.keras.utils import plot_model\n",
    "import tensorflow.keras.backend as K"
   ]
  },
  {
   "cell_type": "code",
   "execution_count": 48,
   "metadata": {},
   "outputs": [],
   "source": [
    "class FeaturesEmbedding(Layer):\n",
    "\n",
    "    def __init__(self, field_dims, embed_dim):\n",
    "        super().__init__()\n",
    "        self.embedding = Embedding(np.sum(np.sum(field_dims)), embed_dim)\n",
    "        self.offsets = tf.constant(np.expand_dims(np.array((0, *np.cumsum(field_dims)[:-1]), dtype=np.float32),0))\n",
    "    \n",
    "    def build(self, input_shape):    \n",
    "        super().build(input_shape)\n",
    "        \n",
    "    def call(self, x):\n",
    "        \"\"\"\n",
    "        :param x: [11,2,3] Long tensor of size ``(batch_size, num_fields)``\n",
    "        \"\"\"\n",
    "        x = x + self.offsets\n",
    "        return self.embedding(x)"
   ]
  },
  {
   "cell_type": "code",
   "execution_count": 104,
   "metadata": {},
   "outputs": [],
   "source": [
    "def nn_modle(features_schema,sparse_features_schema,emb_dim = 5,sparse_units = [150,100,80,1], numeric_units = [150,100,80], units = [60,40,20] ,class_num = 12,dropout = 0.2):\n",
    "    col = sum(features_schema)\n",
    "    inputs = tf.keras.Input(shape=[col])\n",
    "    x_1,x_2 = tf.split(inputs,features_schema,1)\n",
    "    emb_x1 = FeaturesEmbedding(sparse_features_schema, emb_dim)(x_1)\n",
    "    for u in sparse_units:\n",
    "        x1 = BatchNormalization()(emb_x1)\n",
    "        x1 = Dense(u, activation='relu')(x1)\n",
    "        x1 = Dropout(dropout)(x1)\n",
    "    x1 = tf.squeeze(x1, -1)\n",
    "\n",
    "    for u in numeric_units:\n",
    "        x_2 = BatchNormalization()(x_2)\n",
    "        x_2 = Dense(u, activation='relu')(x_2)\n",
    "        x_2 = Dropout(dropout)(x_2)\n",
    "    x = tf.concat([x1,x_2],-1)\n",
    "    \n",
    "    for u in units:\n",
    "        x = BatchNormalization()(x)\n",
    "        x = Dense(u, activation='relu')(x)\n",
    "        x = Dropout(dropout)(x)\n",
    "    outputs = Dense(class_num, activation = 'softmax')(x)\n",
    "    model = tf.keras.Model(inputs=inputs, outputs=outputs)\n",
    "    return model"
   ]
  },
  {
   "cell_type": "code",
   "execution_count": 70,
   "metadata": {},
   "outputs": [
    {
     "data": {
      "text/plain": [
       "phone_brand       int64\n",
       "device_model      int64\n",
       "counts          float64\n",
       "age_mean        float64\n",
       "age_median      float64\n",
       "age_mode        float64\n",
       "M_mean          float64\n",
       "F_mean          float64\n",
       "dtype: object"
      ]
     },
     "execution_count": 70,
     "metadata": {},
     "output_type": "execute_result"
    }
   ],
   "source": [
    "train.dtypes"
   ]
  },
  {
   "cell_type": "code",
   "execution_count": null,
   "metadata": {},
   "outputs": [],
   "source": [
    "target = train.pop('group')"
   ]
  },
  {
   "cell_type": "code",
   "execution_count": 60,
   "metadata": {},
   "outputs": [],
   "source": [
    "train_data = tf.data.Dataset.from_tensor_slices((train.values, target.values))\n",
    "train_data = train_data.shuffle(1024).batch(32)"
   ]
  },
  {
   "cell_type": "code",
   "execution_count": 61,
   "metadata": {},
   "outputs": [
    {
     "data": {
      "text/plain": [
       "<BatchDataset shapes: ((None, 8), (None,)), types: (tf.float64, tf.int64)>"
      ]
     },
     "execution_count": 61,
     "metadata": {},
     "output_type": "execute_result"
    }
   ],
   "source": [
    "train_data"
   ]
  },
  {
   "cell_type": "code",
   "execution_count": 67,
   "metadata": {},
   "outputs": [],
   "source": [
    "features_schema = [2,6]\n",
    "sparse_features_schema = [len(x) for x in mappings]"
   ]
  },
  {
   "cell_type": "code",
   "execution_count": 105,
   "metadata": {},
   "outputs": [],
   "source": [
    "kera_model = nn_modle(features_schema,sparse_features_schema)"
   ]
  },
  {
   "cell_type": "code",
   "execution_count": 106,
   "metadata": {},
   "outputs": [
    {
     "name": "stdout",
     "output_type": "stream",
     "text": [
      "Model: \"functional_11\"\n",
      "__________________________________________________________________________________________________\n",
      "Layer (type)                    Output Shape         Param #     Connected to                     \n",
      "==================================================================================================\n",
      "input_8 (InputLayer)            [(None, 8)]          0                                            \n",
      "__________________________________________________________________________________________________\n",
      "tf_op_layer_split_7 (TensorFlow [(None, 2), (None, 6 0           input_8[0][0]                    \n",
      "__________________________________________________________________________________________________\n",
      "batch_normalization_37 (BatchNo (None, 6)            24          tf_op_layer_split_7[0][1]        \n",
      "__________________________________________________________________________________________________\n",
      "dense_42 (Dense)                (None, 150)          1050        batch_normalization_37[0][0]     \n",
      "__________________________________________________________________________________________________\n",
      "dropout_37 (Dropout)            (None, 150)          0           dense_42[0][0]                   \n",
      "__________________________________________________________________________________________________\n",
      "batch_normalization_38 (BatchNo (None, 150)          600         dropout_37[0][0]                 \n",
      "__________________________________________________________________________________________________\n",
      "features_embedding_5 (FeaturesE (None, 2, 5)         8650        tf_op_layer_split_7[0][0]        \n",
      "__________________________________________________________________________________________________\n",
      "dense_43 (Dense)                (None, 100)          15100       batch_normalization_38[0][0]     \n",
      "__________________________________________________________________________________________________\n",
      "batch_normalization_36 (BatchNo (None, 2, 5)         20          features_embedding_5[0][0]       \n",
      "__________________________________________________________________________________________________\n",
      "dropout_38 (Dropout)            (None, 100)          0           dense_43[0][0]                   \n",
      "__________________________________________________________________________________________________\n",
      "dense_41 (Dense)                (None, 2, 1)         6           batch_normalization_36[0][0]     \n",
      "__________________________________________________________________________________________________\n",
      "batch_normalization_39 (BatchNo (None, 100)          400         dropout_38[0][0]                 \n",
      "__________________________________________________________________________________________________\n",
      "dropout_36 (Dropout)            (None, 2, 1)         0           dense_41[0][0]                   \n",
      "__________________________________________________________________________________________________\n",
      "dense_44 (Dense)                (None, 80)           8080        batch_normalization_39[0][0]     \n",
      "__________________________________________________________________________________________________\n",
      "tf_op_layer_Squeeze_5 (TensorFl [(None, 2)]          0           dropout_36[0][0]                 \n",
      "__________________________________________________________________________________________________\n",
      "dropout_39 (Dropout)            (None, 80)           0           dense_44[0][0]                   \n",
      "__________________________________________________________________________________________________\n",
      "tf_op_layer_concat_5 (TensorFlo [(None, 82)]         0           tf_op_layer_Squeeze_5[0][0]      \n",
      "                                                                 dropout_39[0][0]                 \n",
      "__________________________________________________________________________________________________\n",
      "batch_normalization_40 (BatchNo (None, 82)           328         tf_op_layer_concat_5[0][0]       \n",
      "__________________________________________________________________________________________________\n",
      "dense_45 (Dense)                (None, 60)           4980        batch_normalization_40[0][0]     \n",
      "__________________________________________________________________________________________________\n",
      "dropout_40 (Dropout)            (None, 60)           0           dense_45[0][0]                   \n",
      "__________________________________________________________________________________________________\n",
      "batch_normalization_41 (BatchNo (None, 60)           240         dropout_40[0][0]                 \n",
      "__________________________________________________________________________________________________\n",
      "dense_46 (Dense)                (None, 40)           2440        batch_normalization_41[0][0]     \n",
      "__________________________________________________________________________________________________\n",
      "dropout_41 (Dropout)            (None, 40)           0           dense_46[0][0]                   \n",
      "__________________________________________________________________________________________________\n",
      "batch_normalization_42 (BatchNo (None, 40)           160         dropout_41[0][0]                 \n",
      "__________________________________________________________________________________________________\n",
      "dense_47 (Dense)                (None, 20)           820         batch_normalization_42[0][0]     \n",
      "__________________________________________________________________________________________________\n",
      "dropout_42 (Dropout)            (None, 20)           0           dense_47[0][0]                   \n",
      "__________________________________________________________________________________________________\n",
      "dense_48 (Dense)                (None, 12)           252         dropout_42[0][0]                 \n",
      "==================================================================================================\n",
      "Total params: 43,150\n",
      "Trainable params: 42,264\n",
      "Non-trainable params: 886\n",
      "__________________________________________________________________________________________________\n"
     ]
    }
   ],
   "source": [
    "kera_model.summary()"
   ]
  },
  {
   "cell_type": "code",
   "execution_count": 107,
   "metadata": {},
   "outputs": [],
   "source": [
    "kera_model.compile(loss='sparse_categorical_crossentropy', optimizer='Adam', metrics=['accuracy']) "
   ]
  },
  {
   "cell_type": "code",
   "execution_count": 108,
   "metadata": {},
   "outputs": [
    {
     "name": "stdout",
     "output_type": "stream",
     "text": [
      "Epoch 1/100\n",
      "2339/2339 [==============================] - 11s 5ms/step - loss: 2.4561 - accuracy: 0.1323\n",
      "Epoch 2/100\n",
      "2339/2339 [==============================] - 11s 4ms/step - loss: 2.4054 - accuracy: 0.1371\n",
      "Epoch 3/100\n",
      "2339/2339 [==============================] - 11s 5ms/step - loss: 2.3922 - accuracy: 0.1437\n",
      "Epoch 4/100\n",
      "2339/2339 [==============================] - 11s 5ms/step - loss: 2.3822 - accuracy: 0.1507\n",
      "Epoch 5/100\n",
      "2339/2339 [==============================] - 11s 5ms/step - loss: 2.3714 - accuracy: 0.1573\n",
      "Epoch 6/100\n",
      "2339/2339 [==============================] - 11s 5ms/step - loss: 2.3632 - accuracy: 0.1645\n",
      "Epoch 7/100\n",
      "2339/2339 [==============================] - 11s 5ms/step - loss: 2.3594 - accuracy: 0.1637\n",
      "Epoch 8/100\n",
      "2339/2339 [==============================] - 11s 5ms/step - loss: 2.3583 - accuracy: 0.1660\n",
      "Epoch 9/100\n",
      "2339/2339 [==============================] - 11s 5ms/step - loss: 2.3558 - accuracy: 0.1684\n",
      "Epoch 10/100\n",
      "2339/2339 [==============================] - 11s 5ms/step - loss: 2.3512 - accuracy: 0.1714\n",
      "Epoch 11/100\n",
      "2339/2339 [==============================] - 11s 5ms/step - loss: 2.3498 - accuracy: 0.1694\n",
      "Epoch 12/100\n",
      "2339/2339 [==============================] - 12s 5ms/step - loss: 2.3486 - accuracy: 0.1720\n",
      "Epoch 13/100\n",
      "2339/2339 [==============================] - 11s 5ms/step - loss: 2.3478 - accuracy: 0.1706\n",
      "Epoch 14/100\n",
      "2339/2339 [==============================] - 11s 5ms/step - loss: 2.3478 - accuracy: 0.1711\n",
      "Epoch 15/100\n",
      "2339/2339 [==============================] - 11s 5ms/step - loss: 2.3478 - accuracy: 0.1697\n",
      "Epoch 16/100\n",
      "2339/2339 [==============================] - 11s 5ms/step - loss: 2.3447 - accuracy: 0.1726\n",
      "Epoch 17/100\n",
      "2339/2339 [==============================] - 11s 5ms/step - loss: 2.3460 - accuracy: 0.1712\n",
      "Epoch 18/100\n",
      "2339/2339 [==============================] - 11s 5ms/step - loss: 2.3460 - accuracy: 0.1719\n",
      "Epoch 19/100\n",
      "2339/2339 [==============================] - 11s 5ms/step - loss: 2.3452 - accuracy: 0.1718\n",
      "Epoch 20/100\n",
      "2339/2339 [==============================] - 11s 5ms/step - loss: 2.3411 - accuracy: 0.1744\n",
      "Epoch 21/100\n",
      "2339/2339 [==============================] - 11s 5ms/step - loss: 2.3412 - accuracy: 0.1751\n",
      "Epoch 22/100\n",
      "2339/2339 [==============================] - 11s 5ms/step - loss: 2.3415 - accuracy: 0.1748\n",
      "Epoch 23/100\n",
      "2339/2339 [==============================] - 12s 5ms/step - loss: 2.3411 - accuracy: 0.1748\n",
      "Epoch 24/100\n",
      "2339/2339 [==============================] - 11s 5ms/step - loss: 2.3393 - accuracy: 0.1754\n",
      "Epoch 25/100\n",
      "2339/2339 [==============================] - 11s 5ms/step - loss: 2.3396 - accuracy: 0.1750\n",
      "Epoch 26/100\n",
      "2339/2339 [==============================] - 11s 5ms/step - loss: 2.3390 - accuracy: 0.1746\n",
      "Epoch 27/100\n",
      "2339/2339 [==============================] - 11s 5ms/step - loss: 2.3372 - accuracy: 0.1759\n",
      "Epoch 28/100\n",
      "2339/2339 [==============================] - 11s 5ms/step - loss: 2.3371 - accuracy: 0.1767\n",
      "Epoch 29/100\n",
      "2339/2339 [==============================] - 11s 5ms/step - loss: 2.3377 - accuracy: 0.1763\n",
      "Epoch 30/100\n",
      "2339/2339 [==============================] - 11s 5ms/step - loss: 2.3394 - accuracy: 0.1742\n",
      "Epoch 31/100\n",
      "2339/2339 [==============================] - 11s 5ms/step - loss: 2.3383 - accuracy: 0.1737\n",
      "Epoch 32/100\n",
      "2339/2339 [==============================] - 11s 5ms/step - loss: 2.3358 - accuracy: 0.1765\n",
      "Epoch 33/100\n",
      "2339/2339 [==============================] - 11s 5ms/step - loss: 2.3374 - accuracy: 0.1729\n",
      "Epoch 34/100\n",
      "2339/2339 [==============================] - 12s 5ms/step - loss: 2.3372 - accuracy: 0.1744\n",
      "Epoch 35/100\n",
      "2339/2339 [==============================] - 12s 5ms/step - loss: 2.3376 - accuracy: 0.1751\n",
      "Epoch 36/100\n",
      "2339/2339 [==============================] - 11s 5ms/step - loss: 2.3354 - accuracy: 0.1753\n",
      "Epoch 37/100\n",
      "2339/2339 [==============================] - 11s 5ms/step - loss: 2.3377 - accuracy: 0.1741\n",
      "Epoch 38/100\n",
      "2339/2339 [==============================] - 11s 5ms/step - loss: 2.3345 - accuracy: 0.1758\n",
      "Epoch 39/100\n",
      "2339/2339 [==============================] - 12s 5ms/step - loss: 2.3351 - accuracy: 0.1764\n",
      "Epoch 40/100\n",
      "2339/2339 [==============================] - 12s 5ms/step - loss: 2.3344 - accuracy: 0.1758\n",
      "Epoch 41/100\n",
      "2339/2339 [==============================] - 11s 5ms/step - loss: 2.3341 - accuracy: 0.1753\n",
      "Epoch 42/100\n",
      "2339/2339 [==============================] - 12s 5ms/step - loss: 2.3340 - accuracy: 0.1765\n",
      "Epoch 43/100\n",
      "2339/2339 [==============================] - 12s 5ms/step - loss: 2.3315 - accuracy: 0.1763\n",
      "Epoch 44/100\n",
      "2339/2339 [==============================] - 11s 5ms/step - loss: 2.3321 - accuracy: 0.1766\n",
      "Epoch 45/100\n",
      "2339/2339 [==============================] - 11s 5ms/step - loss: 2.3349 - accuracy: 0.1768\n",
      "Epoch 46/100\n",
      "2339/2339 [==============================] - 11s 5ms/step - loss: 2.3314 - accuracy: 0.1776\n",
      "Epoch 47/100\n",
      "2339/2339 [==============================] - 11s 5ms/step - loss: 2.3323 - accuracy: 0.1765\n",
      "Epoch 48/100\n",
      "2339/2339 [==============================] - 11s 5ms/step - loss: 2.3305 - accuracy: 0.1790\n",
      "Epoch 49/100\n",
      "2339/2339 [==============================] - 12s 5ms/step - loss: 2.3335 - accuracy: 0.1775\n",
      "Epoch 50/100\n",
      "2339/2339 [==============================] - 11s 5ms/step - loss: 2.3321 - accuracy: 0.1766\n",
      "Epoch 51/100\n",
      "2339/2339 [==============================] - 15s 7ms/step - loss: 2.3322 - accuracy: 0.1765\n",
      "Epoch 52/100\n",
      "2339/2339 [==============================] - 12s 5ms/step - loss: 2.3322 - accuracy: 0.1760\n",
      "Epoch 53/100\n",
      "2339/2339 [==============================] - 11s 5ms/step - loss: 2.3294 - accuracy: 0.1790\n",
      "Epoch 54/100\n",
      "2339/2339 [==============================] - 14s 6ms/step - loss: 2.3303 - accuracy: 0.1779\n",
      "Epoch 55/100\n",
      "2339/2339 [==============================] - 15s 6ms/step - loss: 2.3286 - accuracy: 0.1794\n",
      "Epoch 56/100\n",
      "2339/2339 [==============================] - 13s 6ms/step - loss: 2.3317 - accuracy: 0.1783\n",
      "Epoch 57/100\n",
      "2339/2339 [==============================] - 11s 5ms/step - loss: 2.3294 - accuracy: 0.1785\n",
      "Epoch 58/100\n",
      "2339/2339 [==============================] - 12s 5ms/step - loss: 2.3304 - accuracy: 0.1789\n",
      "Epoch 59/100\n",
      "2339/2339 [==============================] - 12s 5ms/step - loss: 2.3288 - accuracy: 0.1795\n",
      "Epoch 60/100\n",
      "2339/2339 [==============================] - 12s 5ms/step - loss: 2.3294 - accuracy: 0.1778\n",
      "Epoch 61/100\n",
      "2339/2339 [==============================] - 11s 5ms/step - loss: 2.3299 - accuracy: 0.1781\n",
      "Epoch 62/100\n",
      "2339/2339 [==============================] - 11s 5ms/step - loss: 2.3301 - accuracy: 0.1792\n",
      "Epoch 63/100\n",
      "2339/2339 [==============================] - 11s 5ms/step - loss: 2.3296 - accuracy: 0.1791\n",
      "Epoch 64/100\n",
      "2339/2339 [==============================] - 12s 5ms/step - loss: 2.3280 - accuracy: 0.1776\n",
      "Epoch 65/100\n",
      "2339/2339 [==============================] - 11s 5ms/step - loss: 2.3310 - accuracy: 0.1778\n",
      "Epoch 66/100\n",
      "2339/2339 [==============================] - 11s 5ms/step - loss: 2.3291 - accuracy: 0.1795\n",
      "Epoch 67/100\n",
      "2339/2339 [==============================] - 11s 5ms/step - loss: 2.3293 - accuracy: 0.1784\n",
      "Epoch 68/100\n",
      "2339/2339 [==============================] - 11s 5ms/step - loss: 2.3291 - accuracy: 0.1798\n",
      "Epoch 69/100\n",
      "2339/2339 [==============================] - 11s 5ms/step - loss: 2.3287 - accuracy: 0.1791\n",
      "Epoch 70/100\n",
      "2339/2339 [==============================] - 11s 5ms/step - loss: 2.3282 - accuracy: 0.1781\n",
      "Epoch 71/100\n",
      "2339/2339 [==============================] - 13s 5ms/step - loss: 2.3304 - accuracy: 0.1783\n",
      "Epoch 72/100\n",
      "2339/2339 [==============================] - 12s 5ms/step - loss: 2.3286 - accuracy: 0.1785\n",
      "Epoch 73/100\n",
      "2339/2339 [==============================] - 12s 5ms/step - loss: 2.3280 - accuracy: 0.1802\n",
      "Epoch 74/100\n",
      "2339/2339 [==============================] - 11s 5ms/step - loss: 2.3271 - accuracy: 0.1795\n",
      "Epoch 75/100\n",
      "2339/2339 [==============================] - 11s 5ms/step - loss: 2.3288 - accuracy: 0.1788\n",
      "Epoch 76/100\n",
      "2339/2339 [==============================] - 11s 5ms/step - loss: 2.3287 - accuracy: 0.1784\n",
      "Epoch 77/100\n",
      "2339/2339 [==============================] - 11s 5ms/step - loss: 2.3238 - accuracy: 0.1819\n",
      "Epoch 78/100\n",
      "2339/2339 [==============================] - 11s 5ms/step - loss: 2.3289 - accuracy: 0.1777\n",
      "Epoch 79/100\n"
     ]
    },
    {
     "name": "stdout",
     "output_type": "stream",
     "text": [
      "2339/2339 [==============================] - 11s 5ms/step - loss: 2.3281 - accuracy: 0.1789\n",
      "Epoch 80/100\n",
      "2339/2339 [==============================] - 11s 5ms/step - loss: 2.3266 - accuracy: 0.1793\n",
      "Epoch 81/100\n",
      "2339/2339 [==============================] - 11s 5ms/step - loss: 2.3276 - accuracy: 0.1808\n",
      "Epoch 82/100\n",
      "2339/2339 [==============================] - 11s 5ms/step - loss: 2.3268 - accuracy: 0.1793\n",
      "Epoch 83/100\n",
      "2339/2339 [==============================] - 11s 5ms/step - loss: 2.3282 - accuracy: 0.1795\n",
      "Epoch 84/100\n",
      "2339/2339 [==============================] - 13s 5ms/step - loss: 2.3259 - accuracy: 0.1788\n",
      "Epoch 85/100\n",
      "2339/2339 [==============================] - 12s 5ms/step - loss: 2.3275 - accuracy: 0.1778\n",
      "Epoch 86/100\n",
      "2339/2339 [==============================] - 11s 5ms/step - loss: 2.3260 - accuracy: 0.1784\n",
      "Epoch 87/100\n",
      "2339/2339 [==============================] - 11s 5ms/step - loss: 2.3299 - accuracy: 0.1793\n",
      "Epoch 88/100\n",
      "2339/2339 [==============================] - 11s 5ms/step - loss: 2.3285 - accuracy: 0.1804\n",
      "Epoch 89/100\n",
      "2339/2339 [==============================] - 11s 5ms/step - loss: 2.3268 - accuracy: 0.1803\n",
      "Epoch 90/100\n",
      "2339/2339 [==============================] - 11s 5ms/step - loss: 2.3256 - accuracy: 0.1808\n",
      "Epoch 91/100\n",
      "2339/2339 [==============================] - 12s 5ms/step - loss: 2.3252 - accuracy: 0.1787\n",
      "Epoch 92/100\n",
      "2339/2339 [==============================] - 12s 5ms/step - loss: 2.3270 - accuracy: 0.1808\n",
      "Epoch 93/100\n",
      "2339/2339 [==============================] - 11s 5ms/step - loss: 2.3278 - accuracy: 0.1795\n",
      "Epoch 94/100\n",
      "2339/2339 [==============================] - 11s 5ms/step - loss: 2.3251 - accuracy: 0.1802\n",
      "Epoch 95/100\n",
      "2339/2339 [==============================] - 11s 5ms/step - loss: 2.3264 - accuracy: 0.1792\n",
      "Epoch 96/100\n",
      "2339/2339 [==============================] - 11s 5ms/step - loss: 2.3288 - accuracy: 0.1785\n",
      "Epoch 97/100\n",
      "2339/2339 [==============================] - 11s 5ms/step - loss: 2.3291 - accuracy: 0.1781\n",
      "Epoch 98/100\n",
      "2339/2339 [==============================] - 11s 5ms/step - loss: 2.3264 - accuracy: 0.1793\n",
      "Epoch 99/100\n",
      "2339/2339 [==============================] - 11s 5ms/step - loss: 2.3244 - accuracy: 0.1808\n",
      "Epoch 100/100\n",
      "2339/2339 [==============================] - 12s 5ms/step - loss: 2.3276 - accuracy: 0.1804\n"
     ]
    },
    {
     "data": {
      "text/plain": [
       "<tensorflow.python.keras.callbacks.History at 0x7fd7beb10890>"
      ]
     },
     "execution_count": 108,
     "metadata": {},
     "output_type": "execute_result"
    }
   ],
   "source": [
    "kera_model.fit(train_data, epochs=100)"
   ]
  },
  {
   "cell_type": "code",
   "execution_count": 109,
   "metadata": {},
   "outputs": [],
   "source": [
    "kera_model.save_weights('kera_model_weights.h5')"
   ]
  },
  {
   "cell_type": "code",
   "execution_count": 146,
   "metadata": {},
   "outputs": [],
   "source": [
    "kera_pred = kera_model.predict(train_data)"
   ]
  },
  {
   "cell_type": "code",
   "execution_count": 147,
   "metadata": {},
   "outputs": [
    {
     "data": {
      "text/plain": [
       "array([[0.1560308 , 0.15686326, 0.10753277, ..., 0.03725632, 0.04308367,\n",
       "        0.02958808],\n",
       "       [0.19426873, 0.13401966, 0.07715599, ..., 0.02643442, 0.04772189,\n",
       "        0.0299214 ],\n",
       "       [0.17595544, 0.16216291, 0.09856718, ..., 0.02884315, 0.03918599,\n",
       "        0.02488044],\n",
       "       ...,\n",
       "       [0.15301627, 0.14927465, 0.10379579, ..., 0.03987873, 0.04773144,\n",
       "        0.03364967],\n",
       "       [0.0827481 , 0.11233792, 0.10025129, ..., 0.0850806 , 0.06809048,\n",
       "        0.06244756],\n",
       "       [0.01935786, 0.24917814, 0.41720453, ..., 0.09369992, 0.00234167,\n",
       "        0.00379758]], dtype=float32)"
      ]
     },
     "execution_count": 147,
     "metadata": {},
     "output_type": "execute_result"
    }
   ],
   "source": [
    "kera_pred"
   ]
  },
  {
   "cell_type": "code",
   "execution_count": null,
   "metadata": {},
   "outputs": [],
   "source": []
  },
  {
   "cell_type": "markdown",
   "metadata": {},
   "source": [
    "\n"
   ]
  },
  {
   "cell_type": "markdown",
   "metadata": {},
   "source": [
    "# XGBoost"
   ]
  },
  {
   "cell_type": "code",
   "execution_count": 110,
   "metadata": {},
   "outputs": [],
   "source": [
    "features = list(test.columns.values)"
   ]
  },
  {
   "cell_type": "code",
   "execution_count": 112,
   "metadata": {},
   "outputs": [],
   "source": [
    "features.remove('device_id')"
   ]
  },
  {
   "cell_type": "code",
   "execution_count": 113,
   "metadata": {},
   "outputs": [
    {
     "data": {
      "text/plain": [
       "['phone_brand',\n",
       " 'device_model',\n",
       " 'counts',\n",
       " 'age_mean',\n",
       " 'age_median',\n",
       " 'age_mode',\n",
       " 'M_mean',\n",
       " 'F_mean']"
      ]
     },
     "execution_count": 113,
     "metadata": {},
     "output_type": "execute_result"
    }
   ],
   "source": [
    "features"
   ]
  },
  {
   "cell_type": "code",
   "execution_count": 114,
   "metadata": {},
   "outputs": [],
   "source": [
    "params = {\n",
    "    \"objective\": \"multi:softprob\",\n",
    "    \"num_class\": 12,\n",
    "    \"booster\" : \"gbtree\",\n",
    "    \"eval_metric\": \"mlogloss\",\n",
    "    \"eta\": 0.3,\n",
    "    \"max_depth\": 3,\n",
    "    \"subsample\": 0.7,\n",
    "    \"colsample_bytree\": 0.7,\n",
    "    \"silent\": 1,\n",
    "    \"seed\": 0,\n",
    "    }"
   ]
  },
  {
   "cell_type": "code",
   "execution_count": 137,
   "metadata": {},
   "outputs": [],
   "source": [
    "num_boost_round = 200"
   ]
  },
  {
   "cell_type": "code",
   "execution_count": null,
   "metadata": {},
   "outputs": [],
   "source": [
    "train['target'] = target"
   ]
  },
  {
   "cell_type": "code",
   "execution_count": 139,
   "metadata": {},
   "outputs": [],
   "source": [
    "X_train, X_valid = train_test_split(train, test_size=0.1, random_state=0)"
   ]
  },
  {
   "cell_type": "code",
   "execution_count": 140,
   "metadata": {},
   "outputs": [],
   "source": [
    "y_train = X_train['target']\n",
    "y_valid = X_valid['target']\n",
    "dtrain = xgb.DMatrix(X_train[features], y_train)\n",
    "dvalid = xgb.DMatrix(X_valid[features], y_valid)"
   ]
  },
  {
   "cell_type": "code",
   "execution_count": 133,
   "metadata": {},
   "outputs": [],
   "source": [
    "watchlist = [(dtrain, 'train'), (dvalid, 'eval')]"
   ]
  },
  {
   "cell_type": "code",
   "execution_count": 141,
   "metadata": {},
   "outputs": [
    {
     "name": "stdout",
     "output_type": "stream",
     "text": [
      "[0]\ttrain-mlogloss:2.43146\teval-mlogloss:2.43113\n",
      "[1]\ttrain-mlogloss:2.39733\teval-mlogloss:2.39676\n",
      "[2]\ttrain-mlogloss:2.37589\teval-mlogloss:2.37459\n",
      "[3]\ttrain-mlogloss:2.35818\teval-mlogloss:2.35674\n",
      "[4]\ttrain-mlogloss:2.34555\teval-mlogloss:2.34376\n",
      "[5]\ttrain-mlogloss:2.33588\teval-mlogloss:2.33376\n",
      "[6]\ttrain-mlogloss:2.32754\teval-mlogloss:2.32558\n",
      "[7]\ttrain-mlogloss:2.32128\teval-mlogloss:2.31936\n",
      "[8]\ttrain-mlogloss:2.31633\teval-mlogloss:2.31447\n",
      "[9]\ttrain-mlogloss:2.312\teval-mlogloss:2.30987\n",
      "[10]\ttrain-mlogloss:2.30819\teval-mlogloss:2.3062\n",
      "[11]\ttrain-mlogloss:2.30514\teval-mlogloss:2.30328\n",
      "[12]\ttrain-mlogloss:2.30206\teval-mlogloss:2.30039\n",
      "[13]\ttrain-mlogloss:2.2996\teval-mlogloss:2.29818\n",
      "[14]\ttrain-mlogloss:2.29754\teval-mlogloss:2.2962\n",
      "[15]\ttrain-mlogloss:2.29557\teval-mlogloss:2.29442\n",
      "[16]\ttrain-mlogloss:2.29408\teval-mlogloss:2.29303\n",
      "[17]\ttrain-mlogloss:2.29234\teval-mlogloss:2.29138\n",
      "[18]\ttrain-mlogloss:2.29079\teval-mlogloss:2.28992\n",
      "[19]\ttrain-mlogloss:2.28939\teval-mlogloss:2.28863\n",
      "[20]\ttrain-mlogloss:2.28815\teval-mlogloss:2.28732\n",
      "[21]\ttrain-mlogloss:2.28693\teval-mlogloss:2.28628\n",
      "[22]\ttrain-mlogloss:2.28588\teval-mlogloss:2.28537\n",
      "[23]\ttrain-mlogloss:2.28471\teval-mlogloss:2.28411\n",
      "[24]\ttrain-mlogloss:2.28367\teval-mlogloss:2.28327\n",
      "[25]\ttrain-mlogloss:2.28272\teval-mlogloss:2.28231\n",
      "[26]\ttrain-mlogloss:2.2818\teval-mlogloss:2.28146\n",
      "[27]\ttrain-mlogloss:2.28083\teval-mlogloss:2.28067\n",
      "[28]\ttrain-mlogloss:2.27992\teval-mlogloss:2.28003\n",
      "[29]\ttrain-mlogloss:2.27888\teval-mlogloss:2.27915\n",
      "[30]\ttrain-mlogloss:2.27797\teval-mlogloss:2.27819\n",
      "[31]\ttrain-mlogloss:2.27708\teval-mlogloss:2.27742\n",
      "[32]\ttrain-mlogloss:2.27621\teval-mlogloss:2.27659\n",
      "[33]\ttrain-mlogloss:2.27521\teval-mlogloss:2.27575\n",
      "[34]\ttrain-mlogloss:2.27446\teval-mlogloss:2.27507\n",
      "[35]\ttrain-mlogloss:2.27357\teval-mlogloss:2.27436\n",
      "[36]\ttrain-mlogloss:2.27261\teval-mlogloss:2.27355\n",
      "[37]\ttrain-mlogloss:2.27174\teval-mlogloss:2.27289\n",
      "[38]\ttrain-mlogloss:2.2709\teval-mlogloss:2.2721\n",
      "[39]\ttrain-mlogloss:2.26995\teval-mlogloss:2.27162\n",
      "[40]\ttrain-mlogloss:2.26915\teval-mlogloss:2.27101\n",
      "[41]\ttrain-mlogloss:2.2685\teval-mlogloss:2.27043\n",
      "[42]\ttrain-mlogloss:2.26756\teval-mlogloss:2.26964\n",
      "[43]\ttrain-mlogloss:2.26668\teval-mlogloss:2.2692\n",
      "[44]\ttrain-mlogloss:2.26593\teval-mlogloss:2.26845\n",
      "[45]\ttrain-mlogloss:2.26522\teval-mlogloss:2.26794\n",
      "[46]\ttrain-mlogloss:2.26456\teval-mlogloss:2.26765\n",
      "[47]\ttrain-mlogloss:2.26379\teval-mlogloss:2.26709\n",
      "[48]\ttrain-mlogloss:2.26289\teval-mlogloss:2.26663\n",
      "[49]\ttrain-mlogloss:2.26211\teval-mlogloss:2.26596\n",
      "[50]\ttrain-mlogloss:2.26142\teval-mlogloss:2.26538\n",
      "[51]\ttrain-mlogloss:2.26086\teval-mlogloss:2.26485\n",
      "[52]\ttrain-mlogloss:2.26028\teval-mlogloss:2.26453\n",
      "[53]\ttrain-mlogloss:2.25955\teval-mlogloss:2.26397\n",
      "[54]\ttrain-mlogloss:2.25892\teval-mlogloss:2.2633\n",
      "[55]\ttrain-mlogloss:2.25802\teval-mlogloss:2.26291\n",
      "[56]\ttrain-mlogloss:2.25751\teval-mlogloss:2.26231\n",
      "[57]\ttrain-mlogloss:2.25685\teval-mlogloss:2.26183\n",
      "[58]\ttrain-mlogloss:2.2562\teval-mlogloss:2.26126\n",
      "[59]\ttrain-mlogloss:2.25548\teval-mlogloss:2.26093\n",
      "[60]\ttrain-mlogloss:2.25474\teval-mlogloss:2.26028\n",
      "[61]\ttrain-mlogloss:2.25403\teval-mlogloss:2.25978\n",
      "[62]\ttrain-mlogloss:2.2534\teval-mlogloss:2.25925\n",
      "[63]\ttrain-mlogloss:2.25279\teval-mlogloss:2.25882\n",
      "[64]\ttrain-mlogloss:2.25213\teval-mlogloss:2.25857\n",
      "[65]\ttrain-mlogloss:2.25132\teval-mlogloss:2.25793\n",
      "[66]\ttrain-mlogloss:2.25052\teval-mlogloss:2.25739\n",
      "[67]\ttrain-mlogloss:2.24991\teval-mlogloss:2.25691\n",
      "[68]\ttrain-mlogloss:2.24921\teval-mlogloss:2.2564\n",
      "[69]\ttrain-mlogloss:2.24858\teval-mlogloss:2.25603\n",
      "[70]\ttrain-mlogloss:2.24788\teval-mlogloss:2.25565\n",
      "[71]\ttrain-mlogloss:2.24724\teval-mlogloss:2.25522\n",
      "[72]\ttrain-mlogloss:2.24667\teval-mlogloss:2.25476\n",
      "[73]\ttrain-mlogloss:2.24597\teval-mlogloss:2.25436\n",
      "[74]\ttrain-mlogloss:2.24536\teval-mlogloss:2.25389\n",
      "[75]\ttrain-mlogloss:2.24473\teval-mlogloss:2.25351\n",
      "[76]\ttrain-mlogloss:2.2441\teval-mlogloss:2.25322\n",
      "[77]\ttrain-mlogloss:2.24336\teval-mlogloss:2.25269\n",
      "[78]\ttrain-mlogloss:2.24265\teval-mlogloss:2.25217\n",
      "[79]\ttrain-mlogloss:2.24199\teval-mlogloss:2.25165\n",
      "[80]\ttrain-mlogloss:2.2415\teval-mlogloss:2.25128\n",
      "[81]\ttrain-mlogloss:2.24087\teval-mlogloss:2.25072\n",
      "[82]\ttrain-mlogloss:2.24029\teval-mlogloss:2.25036\n",
      "[83]\ttrain-mlogloss:2.23949\teval-mlogloss:2.24997\n",
      "[84]\ttrain-mlogloss:2.23887\teval-mlogloss:2.24957\n",
      "[85]\ttrain-mlogloss:2.23828\teval-mlogloss:2.24921\n",
      "[86]\ttrain-mlogloss:2.23776\teval-mlogloss:2.24893\n",
      "[87]\ttrain-mlogloss:2.23727\teval-mlogloss:2.24859\n",
      "[88]\ttrain-mlogloss:2.23657\teval-mlogloss:2.24823\n",
      "[89]\ttrain-mlogloss:2.23604\teval-mlogloss:2.2478\n",
      "[90]\ttrain-mlogloss:2.23542\teval-mlogloss:2.24738\n",
      "[91]\ttrain-mlogloss:2.23489\teval-mlogloss:2.24693\n",
      "[92]\ttrain-mlogloss:2.2344\teval-mlogloss:2.24658\n",
      "[93]\ttrain-mlogloss:2.23384\teval-mlogloss:2.24608\n",
      "[94]\ttrain-mlogloss:2.23334\teval-mlogloss:2.24569\n",
      "[95]\ttrain-mlogloss:2.23279\teval-mlogloss:2.24545\n",
      "[96]\ttrain-mlogloss:2.23221\teval-mlogloss:2.24504\n",
      "[97]\ttrain-mlogloss:2.23169\teval-mlogloss:2.24477\n",
      "[98]\ttrain-mlogloss:2.23112\teval-mlogloss:2.24423\n",
      "[99]\ttrain-mlogloss:2.23053\teval-mlogloss:2.24378\n",
      "[100]\ttrain-mlogloss:2.22984\teval-mlogloss:2.2432\n",
      "[101]\ttrain-mlogloss:2.22917\teval-mlogloss:2.24256\n",
      "[102]\ttrain-mlogloss:2.2286\teval-mlogloss:2.24228\n",
      "[103]\ttrain-mlogloss:2.22805\teval-mlogloss:2.24175\n",
      "[104]\ttrain-mlogloss:2.22749\teval-mlogloss:2.24158\n",
      "[105]\ttrain-mlogloss:2.227\teval-mlogloss:2.24126\n",
      "[106]\ttrain-mlogloss:2.22645\teval-mlogloss:2.24091\n",
      "[107]\ttrain-mlogloss:2.22594\teval-mlogloss:2.24044\n",
      "[108]\ttrain-mlogloss:2.22529\teval-mlogloss:2.23991\n",
      "[109]\ttrain-mlogloss:2.22456\teval-mlogloss:2.23931\n",
      "[110]\ttrain-mlogloss:2.22393\teval-mlogloss:2.23879\n",
      "[111]\ttrain-mlogloss:2.22335\teval-mlogloss:2.23848\n",
      "[112]\ttrain-mlogloss:2.22282\teval-mlogloss:2.23814\n",
      "[113]\ttrain-mlogloss:2.22231\teval-mlogloss:2.2378\n",
      "[114]\ttrain-mlogloss:2.22176\teval-mlogloss:2.23747\n",
      "[115]\ttrain-mlogloss:2.22121\teval-mlogloss:2.23716\n",
      "[116]\ttrain-mlogloss:2.22079\teval-mlogloss:2.23688\n",
      "[117]\ttrain-mlogloss:2.2202\teval-mlogloss:2.23635\n",
      "[118]\ttrain-mlogloss:2.2197\teval-mlogloss:2.23592\n",
      "[119]\ttrain-mlogloss:2.21922\teval-mlogloss:2.23565\n",
      "[120]\ttrain-mlogloss:2.21861\teval-mlogloss:2.23516\n",
      "[121]\ttrain-mlogloss:2.21815\teval-mlogloss:2.23481\n",
      "[122]\ttrain-mlogloss:2.21766\teval-mlogloss:2.23459\n",
      "[123]\ttrain-mlogloss:2.21711\teval-mlogloss:2.23415\n",
      "[124]\ttrain-mlogloss:2.21659\teval-mlogloss:2.23357\n",
      "[125]\ttrain-mlogloss:2.21614\teval-mlogloss:2.23327\n",
      "[126]\ttrain-mlogloss:2.21549\teval-mlogloss:2.23295\n",
      "[127]\ttrain-mlogloss:2.21492\teval-mlogloss:2.23265\n",
      "[128]\ttrain-mlogloss:2.2144\teval-mlogloss:2.23225\n",
      "[129]\ttrain-mlogloss:2.21386\teval-mlogloss:2.23195\n",
      "[130]\ttrain-mlogloss:2.21329\teval-mlogloss:2.23165\n",
      "[131]\ttrain-mlogloss:2.21274\teval-mlogloss:2.23129\n",
      "[132]\ttrain-mlogloss:2.21224\teval-mlogloss:2.23103\n",
      "[133]\ttrain-mlogloss:2.21172\teval-mlogloss:2.23055\n",
      "[134]\ttrain-mlogloss:2.21117\teval-mlogloss:2.23025\n",
      "[135]\ttrain-mlogloss:2.2106\teval-mlogloss:2.22984\n",
      "[136]\ttrain-mlogloss:2.2101\teval-mlogloss:2.22957\n",
      "[137]\ttrain-mlogloss:2.20972\teval-mlogloss:2.22915\n",
      "[138]\ttrain-mlogloss:2.2092\teval-mlogloss:2.22877\n",
      "[139]\ttrain-mlogloss:2.20864\teval-mlogloss:2.22848\n",
      "[140]\ttrain-mlogloss:2.20805\teval-mlogloss:2.22818\n",
      "[141]\ttrain-mlogloss:2.20755\teval-mlogloss:2.22799\n",
      "[142]\ttrain-mlogloss:2.20706\teval-mlogloss:2.22762\n",
      "[143]\ttrain-mlogloss:2.20655\teval-mlogloss:2.22736\n",
      "[144]\ttrain-mlogloss:2.20607\teval-mlogloss:2.22714\n",
      "[145]\ttrain-mlogloss:2.20561\teval-mlogloss:2.22682\n",
      "[146]\ttrain-mlogloss:2.20517\teval-mlogloss:2.22647\n",
      "[147]\ttrain-mlogloss:2.2047\teval-mlogloss:2.22619\n",
      "[148]\ttrain-mlogloss:2.20434\teval-mlogloss:2.22595\n",
      "[149]\ttrain-mlogloss:2.20387\teval-mlogloss:2.22566\n",
      "[150]\ttrain-mlogloss:2.20331\teval-mlogloss:2.22536\n",
      "[151]\ttrain-mlogloss:2.20278\teval-mlogloss:2.22512\n",
      "[152]\ttrain-mlogloss:2.20219\teval-mlogloss:2.22481\n",
      "[153]\ttrain-mlogloss:2.2016\teval-mlogloss:2.22443\n",
      "[154]\ttrain-mlogloss:2.20107\teval-mlogloss:2.2241\n",
      "[155]\ttrain-mlogloss:2.20062\teval-mlogloss:2.22378\n",
      "[156]\ttrain-mlogloss:2.20009\teval-mlogloss:2.22358\n",
      "[157]\ttrain-mlogloss:2.19965\teval-mlogloss:2.22329\n",
      "[158]\ttrain-mlogloss:2.19915\teval-mlogloss:2.2229\n",
      "[159]\ttrain-mlogloss:2.19869\teval-mlogloss:2.22261\n",
      "[160]\ttrain-mlogloss:2.19817\teval-mlogloss:2.22238\n",
      "[161]\ttrain-mlogloss:2.19771\teval-mlogloss:2.22196\n",
      "[162]\ttrain-mlogloss:2.19714\teval-mlogloss:2.22166\n",
      "[163]\ttrain-mlogloss:2.19662\teval-mlogloss:2.22126\n"
     ]
    },
    {
     "name": "stdout",
     "output_type": "stream",
     "text": [
      "[164]\ttrain-mlogloss:2.19613\teval-mlogloss:2.22096\n",
      "[165]\ttrain-mlogloss:2.19569\teval-mlogloss:2.22054\n",
      "[166]\ttrain-mlogloss:2.19525\teval-mlogloss:2.22034\n",
      "[167]\ttrain-mlogloss:2.19474\teval-mlogloss:2.21998\n",
      "[168]\ttrain-mlogloss:2.19419\teval-mlogloss:2.21979\n",
      "[169]\ttrain-mlogloss:2.1938\teval-mlogloss:2.21941\n",
      "[170]\ttrain-mlogloss:2.19333\teval-mlogloss:2.21901\n",
      "[171]\ttrain-mlogloss:2.19272\teval-mlogloss:2.21875\n",
      "[172]\ttrain-mlogloss:2.1922\teval-mlogloss:2.21843\n",
      "[173]\ttrain-mlogloss:2.19168\teval-mlogloss:2.21811\n",
      "[174]\ttrain-mlogloss:2.19124\teval-mlogloss:2.21772\n",
      "[175]\ttrain-mlogloss:2.19067\teval-mlogloss:2.21737\n",
      "[176]\ttrain-mlogloss:2.19024\teval-mlogloss:2.21705\n",
      "[177]\ttrain-mlogloss:2.18982\teval-mlogloss:2.21685\n",
      "[178]\ttrain-mlogloss:2.18932\teval-mlogloss:2.21645\n",
      "[179]\ttrain-mlogloss:2.18878\teval-mlogloss:2.21622\n",
      "[180]\ttrain-mlogloss:2.18824\teval-mlogloss:2.21589\n",
      "[181]\ttrain-mlogloss:2.18783\teval-mlogloss:2.2155\n",
      "[182]\ttrain-mlogloss:2.18728\teval-mlogloss:2.21532\n",
      "[183]\ttrain-mlogloss:2.18683\teval-mlogloss:2.21509\n",
      "[184]\ttrain-mlogloss:2.18639\teval-mlogloss:2.21478\n",
      "[185]\ttrain-mlogloss:2.18606\teval-mlogloss:2.21444\n",
      "[186]\ttrain-mlogloss:2.1855\teval-mlogloss:2.214\n",
      "[187]\ttrain-mlogloss:2.18501\teval-mlogloss:2.21378\n",
      "[188]\ttrain-mlogloss:2.1846\teval-mlogloss:2.21347\n",
      "[189]\ttrain-mlogloss:2.18418\teval-mlogloss:2.21324\n",
      "[190]\ttrain-mlogloss:2.18369\teval-mlogloss:2.21292\n",
      "[191]\ttrain-mlogloss:2.18336\teval-mlogloss:2.21269\n",
      "[192]\ttrain-mlogloss:2.18286\teval-mlogloss:2.21237\n",
      "[193]\ttrain-mlogloss:2.18234\teval-mlogloss:2.21212\n",
      "[194]\ttrain-mlogloss:2.18201\teval-mlogloss:2.21196\n",
      "[195]\ttrain-mlogloss:2.18172\teval-mlogloss:2.21171\n",
      "[196]\ttrain-mlogloss:2.18121\teval-mlogloss:2.21134\n",
      "[197]\ttrain-mlogloss:2.18074\teval-mlogloss:2.211\n",
      "[198]\ttrain-mlogloss:2.18027\teval-mlogloss:2.21085\n",
      "[199]\ttrain-mlogloss:2.17982\teval-mlogloss:2.21063\n"
     ]
    }
   ],
   "source": [
    "xgb_model = xgb.train(params, dtrain, num_boost_round, evals=watchlist, verbose_eval=True)"
   ]
  },
  {
   "cell_type": "code",
   "execution_count": 148,
   "metadata": {},
   "outputs": [],
   "source": [
    "xgb_pred = xgb_model.predict(xgb.DMatrix(train[features]))"
   ]
  },
  {
   "cell_type": "code",
   "execution_count": 149,
   "metadata": {},
   "outputs": [
    {
     "data": {
      "text/plain": [
       "array([[0.16382563, 0.12918161, 0.09303972, ..., 0.05826699, 0.06530543,\n",
       "        0.0411852 ],\n",
       "       [0.16382563, 0.12918161, 0.09303972, ..., 0.05826699, 0.06530543,\n",
       "        0.0411852 ],\n",
       "       [0.05535437, 0.08692884, 0.08729146, ..., 0.12650701, 0.1452902 ,\n",
       "        0.02584402],\n",
       "       ...,\n",
       "       [0.12111522, 0.12626387, 0.10864934, ..., 0.05907835, 0.05936706,\n",
       "        0.03945715],\n",
       "       [0.20668621, 0.21970426, 0.06484413, ..., 0.03413047, 0.01756136,\n",
       "        0.02316338],\n",
       "       [0.38456577, 0.08229715, 0.02550577, ..., 0.00239092, 0.03114078,\n",
       "        0.02531103]], dtype=float32)"
      ]
     },
     "execution_count": 149,
     "metadata": {},
     "output_type": "execute_result"
    }
   ],
   "source": [
    "xgb_pred"
   ]
  },
  {
   "cell_type": "markdown",
   "metadata": {},
   "source": [
    "# 融合模型"
   ]
  },
  {
   "cell_type": "code",
   "execution_count": 150,
   "metadata": {},
   "outputs": [],
   "source": [
    "from sklearn.linear_model import LogisticRegression"
   ]
  },
  {
   "cell_type": "code",
   "execution_count": 152,
   "metadata": {},
   "outputs": [],
   "source": [
    "lr_train = np.concatenate([kera_pred,xgb_pred],axis = 1)"
   ]
  },
  {
   "cell_type": "code",
   "execution_count": 153,
   "metadata": {},
   "outputs": [
    {
     "data": {
      "text/plain": [
       "array([[0.1560308 , 0.15686326, 0.10753277, ..., 0.05826699, 0.06530543,\n",
       "        0.0411852 ],\n",
       "       [0.19426873, 0.13401966, 0.07715599, ..., 0.05826699, 0.06530543,\n",
       "        0.0411852 ],\n",
       "       [0.17595544, 0.16216291, 0.09856718, ..., 0.12650701, 0.1452902 ,\n",
       "        0.02584402],\n",
       "       ...,\n",
       "       [0.15301627, 0.14927465, 0.10379579, ..., 0.05907835, 0.05936706,\n",
       "        0.03945715],\n",
       "       [0.0827481 , 0.11233792, 0.10025129, ..., 0.03413047, 0.01756136,\n",
       "        0.02316338],\n",
       "       [0.01935786, 0.24917814, 0.41720453, ..., 0.00239092, 0.03114078,\n",
       "        0.02531103]], dtype=float32)"
      ]
     },
     "execution_count": 153,
     "metadata": {},
     "output_type": "execute_result"
    }
   ],
   "source": [
    "lr_train"
   ]
  },
  {
   "cell_type": "code",
   "execution_count": 154,
   "metadata": {},
   "outputs": [
    {
     "data": {
      "text/plain": [
       "LogisticRegression(C=0.02, class_weight=None, dual=False, fit_intercept=True,\n",
       "                   intercept_scaling=1, l1_ratio=None, max_iter=100,\n",
       "                   multi_class='multinomial', n_jobs=None, penalty='l2',\n",
       "                   random_state=None, solver='lbfgs', tol=0.0001, verbose=0,\n",
       "                   warm_start=False)"
      ]
     },
     "execution_count": 154,
     "metadata": {},
     "output_type": "execute_result"
    }
   ],
   "source": [
    "clf = LogisticRegression(C=0.02, multi_class='multinomial',solver='lbfgs')\n",
    "clf.fit(lr_train, target)"
   ]
  },
  {
   "cell_type": "code",
   "execution_count": 157,
   "metadata": {},
   "outputs": [
    {
     "data": {
      "text/plain": [
       "0.21776079316933683"
      ]
     },
     "execution_count": 157,
     "metadata": {},
     "output_type": "execute_result"
    }
   ],
   "source": [
    "clf.score(lr_train, target)"
   ]
  },
  {
   "cell_type": "code",
   "execution_count": null,
   "metadata": {},
   "outputs": [],
   "source": []
  },
  {
   "cell_type": "code",
   "execution_count": 142,
   "metadata": {},
   "outputs": [],
   "source": [
    "from sklearn.ensemble import RandomForestClassifier"
   ]
  },
  {
   "cell_type": "markdown",
   "metadata": {},
   "source": [
    "# 生成提交文件"
   ]
  },
  {
   "cell_type": "code",
   "execution_count": 217,
   "metadata": {},
   "outputs": [],
   "source": [
    "test_kera_pred = kera_model.predict(test[features])\n",
    "test_xgb_pred = xgb_model.predict(xgb.DMatrix(test[features]))\n",
    "test_lr_data = np.concatenate([test_kera_pred,test_xgb_pred],axis = 1)"
   ]
  },
  {
   "cell_type": "code",
   "execution_count": 218,
   "metadata": {},
   "outputs": [
    {
     "data": {
      "text/plain": [
       "array([[0.05814623, 0.34967505, 0.21094363, ..., 0.03975259, 0.02151034,\n",
       "        0.01876983],\n",
       "       [0.05678468, 0.26099491, 0.32795892, ..., 0.04377008, 0.02016195,\n",
       "        0.01769925],\n",
       "       [0.06006075, 0.09993612, 0.24621911, ..., 0.07537703, 0.04467262,\n",
       "        0.04225589],\n",
       "       ...,\n",
       "       [0.14958088, 0.10468227, 0.08690363, ..., 0.05162138, 0.05899057,\n",
       "        0.04431569],\n",
       "       [0.14958088, 0.10468227, 0.08690363, ..., 0.05162138, 0.05899057,\n",
       "        0.04431569],\n",
       "       [0.15612113, 0.10546995, 0.08866825, ..., 0.05010767, 0.06123755,\n",
       "        0.04481921]])"
      ]
     },
     "execution_count": 218,
     "metadata": {},
     "output_type": "execute_result"
    }
   ],
   "source": [
    "test_pred = clf.predict_proba(test_lr_data)\n",
    "test_pred"
   ]
  },
  {
   "cell_type": "code",
   "execution_count": 232,
   "metadata": {},
   "outputs": [],
   "source": [
    "submit = pd.DataFrame(test_pred, columns=list(g_map[0].keys()))"
   ]
  },
  {
   "cell_type": "code",
   "execution_count": 233,
   "metadata": {},
   "outputs": [],
   "source": [
    "submit[\"device_id\"] = test[\"device_id\"]\n",
    "submit = submit.set_index(\"device_id\")"
   ]
  },
  {
   "cell_type": "code",
   "execution_count": 234,
   "metadata": {},
   "outputs": [],
   "source": [
    "submit = submit[['F23-','F24-26','F27-28','F29-32','F33-42','F43+','M22-','M23-26','M27-28','M29-31','M32-38','M39+']]"
   ]
  },
  {
   "cell_type": "code",
   "execution_count": 235,
   "metadata": {},
   "outputs": [],
   "source": [
    "submit.to_csv('submission.csv', index=True,index_label='device_id')"
   ]
  },
  {
   "cell_type": "code",
   "execution_count": null,
   "metadata": {},
   "outputs": [],
   "source": []
  }
 ],
 "metadata": {
  "kernelspec": {
   "display_name": "Python 3",
   "language": "python",
   "name": "python3"
  },
  "language_info": {
   "codemirror_mode": {
    "name": "ipython",
    "version": 3
   },
   "file_extension": ".py",
   "mimetype": "text/x-python",
   "name": "python",
   "nbconvert_exporter": "python",
   "pygments_lexer": "ipython3",
   "version": "3.7.4"
  },
  "toc": {
   "base_numbering": 1,
   "nav_menu": {},
   "number_sections": true,
   "sideBar": true,
   "skip_h1_title": false,
   "title_cell": "Table of Contents",
   "title_sidebar": "Contents",
   "toc_cell": false,
   "toc_position": {},
   "toc_section_display": true,
   "toc_window_display": false
  }
 },
 "nbformat": 4,
 "nbformat_minor": 4
}
