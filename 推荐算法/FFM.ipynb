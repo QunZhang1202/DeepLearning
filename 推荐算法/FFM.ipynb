{
 "cells": [
  {
   "cell_type": "markdown",
   "metadata": {},
   "source": [
    "# FFM"
   ]
  },
  {
   "cell_type": "markdown",
   "metadata": {},
   "source": [
    "Eileen Zhang 2020/8/21"
   ]
  },
  {
   "cell_type": "code",
   "execution_count": 1,
   "metadata": {},
   "outputs": [],
   "source": [
    "import numpy as np\n",
    "import tensorflow as tf\n",
    "from tensorflow import keras"
   ]
  },
  {
   "cell_type": "code",
   "execution_count": 2,
   "metadata": {},
   "outputs": [],
   "source": [
    "from tensorflow.keras.layers import Layer,Dense,Embedding"
   ]
  },
  {
   "cell_type": "code",
   "execution_count": 3,
   "metadata": {},
   "outputs": [],
   "source": [
    "class FieldAwareFactorizationMachine(Layer):\n",
    "    import tensorflow as tf\n",
    "    \"\"\"\n",
    "    A keras implementation of Field-aware Factorization Machine.\n",
    "\n",
    "    Reference:\n",
    "        Y Juan, et al. Field-aware Factorization Machines for CTR Prediction, 2015.\n",
    "    \"\"\"\n",
    "    \n",
    "    def __init__(self, field_dim_groups, embed_dim):\n",
    "        \"\"\"\n",
    "        :param x: field_dim_groups features group(the max_len for features)eg: [[10,20,40],[20,30,10],[5,6]]]``\n",
    "                  num_field_groups : [0,3,6]``\n",
    "        \n",
    "        \"\"\"        \n",
    "        super().__init__()\n",
    "        self.field_dim_groups = field_dim_groups\n",
    "        self.features_len = np.sum([len(x) for x in field_dim_groups])\n",
    "        self.num_field_groups = np.cumsum([0] + [len(x) for x in field_dim_groups])[:-1]\n",
    "        #for irregular list [[10,20,40],[20,30,10],[5,6]]]\n",
    "        self.maxlen = np.sum(np.sum(field_dim_groups))\n",
    "        self.embeddings = Embedding(self.maxlen, embed_dim)\n",
    "        self.offsets = tf.constant(np.expand_dims(np.array((0, *np.cumsum([x for y in field_dim_groups for x in y])[:-1]), dtype=np.float32),0))\n",
    "\n",
    "    def build(self, input_shape):    \n",
    "        super().build(input_shape)\n",
    "        \n",
    "    def call(self, x):\n",
    "        \"\"\"\n",
    "        :param x: Long tensor of size ``(batch_size, num_fields)``\n",
    "        \"\"\"\n",
    "        x = x + self.offsets\n",
    "        x = self.embeddings(x)\n",
    "        ix = []\n",
    "        for i in range(len(self.field_dim_groups) - 1):           \n",
    "            for j in range(self.num_field_groups[i], self.num_field_groups[i + 1]):\n",
    "                ix += [x[:, j, : ] * x[:, k, :] for k in range(self.num_field_groups[i + 1], self.features_len)]\n",
    "        ix = tf.stack(ix)\n",
    "        ix = tf.transpose(ix, perm=[1, 0, 2])\n",
    "        return tf.concat([x, ix],1)"
   ]
  },
  {
   "cell_type": "code",
   "execution_count": 4,
   "metadata": {},
   "outputs": [],
   "source": [
    "test = tf.constant([[0.,1.,2.,3.,4.],[10.,20.,30.,40.,50.]])"
   ]
  },
  {
   "cell_type": "code",
   "execution_count": 5,
   "metadata": {},
   "outputs": [],
   "source": [
    "class FieldAwareFactorizationMachineModel(keras.models.Model):\n",
    "    import tensorflow as tf\n",
    "    \"\"\"\n",
    "    A keras implementation of Field-aware Factorization Machine.\n",
    "\n",
    "    Reference:\n",
    "        Y Juan, et al. Field-aware Factorization Machines for CTR Prediction, 2015.\n",
    "    \"\"\"\n",
    "\n",
    "    def __init__(self, field_dim_groups, embed_dim):\n",
    "        super().__init__()\n",
    "        self.embed_dim = embed_dim\n",
    "        self.ffm = FieldAwareFactorizationMachine(field_dim_groups, embed_dim)\n",
    "        self.dense = Dense(1)\n",
    "        self.fc = Dense(1)\n",
    "        \n",
    "    def call(self, x):\n",
    "        \"\"\"\n",
    "        :param x: Long tensor of size ``(batch_size, num_fields)``\n",
    "        \"\"\"\n",
    "        x = self.ffm(x)\n",
    "        x = tf.squeeze(self.dense(x),-1)\n",
    "        x = self.fc(x)\n",
    "        return x"
   ]
  },
  {
   "cell_type": "code",
   "execution_count": 6,
   "metadata": {},
   "outputs": [],
   "source": [
    "model = FieldAwareFactorizationMachineModel([[10,20,40],[50,51]],3)"
   ]
  },
  {
   "cell_type": "code",
   "execution_count": 7,
   "metadata": {},
   "outputs": [
    {
     "data": {
      "text/plain": [
       "<tf.Tensor: shape=(2, 5), dtype=float32, numpy=\n",
       "array([[ 0.,  1.,  2.,  3.,  4.],\n",
       "       [10., 20., 30., 40., 50.]], dtype=float32)>"
      ]
     },
     "execution_count": 7,
     "metadata": {},
     "output_type": "execute_result"
    }
   ],
   "source": [
    "test"
   ]
  },
  {
   "cell_type": "code",
   "execution_count": 8,
   "metadata": {
    "scrolled": true
   },
   "outputs": [
    {
     "data": {
      "text/plain": [
       "<tf.Tensor: shape=(2, 1), dtype=float32, numpy=\n",
       "array([[-0.02888147],\n",
       "       [-0.04758702]], dtype=float32)>"
      ]
     },
     "execution_count": 8,
     "metadata": {},
     "output_type": "execute_result"
    }
   ],
   "source": [
    "model(test)"
   ]
  },
  {
   "cell_type": "code",
   "execution_count": 9,
   "metadata": {},
   "outputs": [
    {
     "name": "stdout",
     "output_type": "stream",
     "text": [
      "Model: \"field_aware_factorization_machine_model\"\n",
      "_________________________________________________________________\n",
      "Layer (type)                 Output Shape              Param #   \n",
      "=================================================================\n",
      "field_aware_factorization_ma multiple                  513       \n",
      "_________________________________________________________________\n",
      "dense (Dense)                multiple                  4         \n",
      "_________________________________________________________________\n",
      "dense_1 (Dense)              multiple                  12        \n",
      "=================================================================\n",
      "Total params: 529\n",
      "Trainable params: 529\n",
      "Non-trainable params: 0\n",
      "_________________________________________________________________\n"
     ]
    }
   ],
   "source": [
    "model.summary()"
   ]
  },
  {
   "cell_type": "code",
   "execution_count": null,
   "metadata": {},
   "outputs": [],
   "source": []
  }
 ],
 "metadata": {
  "kernelspec": {
   "display_name": "Python 3",
   "language": "python",
   "name": "python3"
  },
  "language_info": {
   "codemirror_mode": {
    "name": "ipython",
    "version": 3
   },
   "file_extension": ".py",
   "mimetype": "text/x-python",
   "name": "python",
   "nbconvert_exporter": "python",
   "pygments_lexer": "ipython3",
   "version": "3.7.4"
  },
  "toc": {
   "base_numbering": 1,
   "nav_menu": {},
   "number_sections": true,
   "sideBar": true,
   "skip_h1_title": false,
   "title_cell": "Table of Contents",
   "title_sidebar": "Contents",
   "toc_cell": false,
   "toc_position": {},
   "toc_section_display": true,
   "toc_window_display": false
  }
 },
 "nbformat": 4,
 "nbformat_minor": 2
}
